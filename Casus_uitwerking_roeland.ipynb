{
 "cells": [
  {
   "cell_type": "markdown",
   "metadata": {
    "collapsed": true,
    "pycharm": {
     "name": "#%% md\n"
    }
   },
   "source": [
    "# Analyse over Wijn\n"
   ]
  },
  {
   "cell_type": "markdown",
   "metadata": {},
   "source": [
    "## onderzoeksvragen\n",
    "- In hoeverre is de score van een Portugese Red te voorspellen op basis van de chemische kenmerken?  \n",
    "- Zijn de wijnen die met een hoge score beoordeeld zijn duurder dan wijnen met een lagere score?\n",
    "- In hoeverre kan op basis van de chemische kenmerken voorspelt worden of het een witte of rode wijn is?\n",
    "- Welke kernwoorden zijn typerend voor een hoog scorende wijn?  \n",
    "\n",
    "Wij zullen deze onderzoeksvragen zo goed mogelijk proberen te beantwoorden.\n",
    "Voor de beantwoording van deze vragen maken wij gebruik van het Data Science proces.  \n",
    "Dit proces ziet er als volgt uit:\n",
    "### Het data science proces\n",
    "1. Data collection\n",
    "2. Data processing\n",
    "3. Data cleaning\n",
    "4. Data exploration & analysis\n",
    "5. Model building\n",
    "6. Visualization\n",
    "7. Communication\n"
   ]
  },
  {
   "cell_type": "markdown",
   "metadata": {
    "pycharm": {
     "metadata": false,
     "name": "#%% md\n"
    }
   },
   "source": [
    "Allereerst zullen we de benodigde libraries importeren.\n",
    "Deze libraries zullen we gebruiken voor het analyseren en het visualiseren van de data."
   ]
  },
  {
   "cell_type": "code",
   "execution_count": 1,
   "metadata": {
    "pycharm": {
     "is_executing": false,
     "metadata": false,
     "name": "#%%\n"
    }
   },
   "outputs": [],
   "source": [
    "# data analysis libraries \n",
    "import numpy as np\n",
    "import pandas as pd\n",
    "\n",
    "# visualization libraries\n",
    "import matplotlib.pyplot as plt\n",
    "import seaborn as sns\n"
   ]
  },
  {
   "cell_type": "markdown",
   "metadata": {},
   "source": [
    "## Data Collection\n",
    "De eerste dataset die we gaan gebruiken is aan ons aangeleverd. De dataset is een csv bestand en heet: 'redwine.csv'. In de dataset staat informatie en chemische kenmerken van wijnen in Portugal. \n",
    "\n",
    "Allereerst beginnen we met het importeren van de dataset en kijken we of de dataset correct is geïmporteerd door de eerste 5 regels op te vragen."
   ]
  },
  {
   "cell_type": "code",
   "execution_count": 2,
   "metadata": {
    "pycharm": {
     "is_executing": false,
     "metadata": false,
     "name": "#%%\n"
    },
    "scrolled": false
   },
   "outputs": [
    {
     "data": {
      "text/html": [
       "<div>\n",
       "<style scoped>\n",
       "    .dataframe tbody tr th:only-of-type {\n",
       "        vertical-align: middle;\n",
       "    }\n",
       "\n",
       "    .dataframe tbody tr th {\n",
       "        vertical-align: top;\n",
       "    }\n",
       "\n",
       "    .dataframe thead th {\n",
       "        text-align: right;\n",
       "    }\n",
       "</style>\n",
       "<table border=\"1\" class=\"dataframe\">\n",
       "  <thead>\n",
       "    <tr style=\"text-align: right;\">\n",
       "      <th></th>\n",
       "      <th>id</th>\n",
       "      <th>country</th>\n",
       "      <th>description</th>\n",
       "      <th>designation</th>\n",
       "      <th>points</th>\n",
       "      <th>price</th>\n",
       "      <th>province</th>\n",
       "      <th>taster_name</th>\n",
       "      <th>title</th>\n",
       "      <th>variety</th>\n",
       "      <th>...</th>\n",
       "      <th>volatile acidity</th>\n",
       "      <th>citric acid</th>\n",
       "      <th>residual sugar</th>\n",
       "      <th>chlorides</th>\n",
       "      <th>free sulfur dioxide</th>\n",
       "      <th>total sulfur dioxide</th>\n",
       "      <th>density</th>\n",
       "      <th>pH</th>\n",
       "      <th>sulphates</th>\n",
       "      <th>alcohol</th>\n",
       "    </tr>\n",
       "  </thead>\n",
       "  <tbody>\n",
       "    <tr>\n",
       "      <td>0</td>\n",
       "      <td>1</td>\n",
       "      <td>Portugal</td>\n",
       "      <td>This is ripe and fruity, a wine that is smooth...</td>\n",
       "      <td>Avidagos</td>\n",
       "      <td>87</td>\n",
       "      <td>15.0</td>\n",
       "      <td>Douro</td>\n",
       "      <td>Kerin O’Keefe</td>\n",
       "      <td>Quinta dos Avidagos 2011 Avidagos Red (Douro)</td>\n",
       "      <td>Portuguese Red</td>\n",
       "      <td>...</td>\n",
       "      <td>0.29</td>\n",
       "      <td>0.4</td>\n",
       "      <td>2.9</td>\n",
       "      <td>0.098</td>\n",
       "      <td>10.0</td>\n",
       "      <td>26.0</td>\n",
       "      <td>10.006</td>\n",
       "      <td>3.48</td>\n",
       "      <td>0.91</td>\n",
       "      <td>9.7</td>\n",
       "    </tr>\n",
       "    <tr>\n",
       "      <td>1</td>\n",
       "      <td>2</td>\n",
       "      <td>Portugal</td>\n",
       "      <td>From an estate in the south of the Alentejo, t...</td>\n",
       "      <td>Grande Reserva Tinto</td>\n",
       "      <td>91</td>\n",
       "      <td>26.0</td>\n",
       "      <td>Alentejano</td>\n",
       "      <td>Roger Voss</td>\n",
       "      <td>Casa Santa Vitória 2013 Grande Reserva Tinto R...</td>\n",
       "      <td>Portuguese Red</td>\n",
       "      <td>...</td>\n",
       "      <td>0.26</td>\n",
       "      <td>0.37</td>\n",
       "      <td>1.4</td>\n",
       "      <td>0.076</td>\n",
       "      <td>8.0</td>\n",
       "      <td>23.0</td>\n",
       "      <td>0.9974</td>\n",
       "      <td>3.26</td>\n",
       "      <td>0.70</td>\n",
       "      <td>9.6</td>\n",
       "    </tr>\n",
       "    <tr>\n",
       "      <td>2</td>\n",
       "      <td>3</td>\n",
       "      <td>Portugal</td>\n",
       "      <td>A year in wood and 30 months in bottle before ...</td>\n",
       "      <td>Montes Claros Garrafeira</td>\n",
       "      <td>90</td>\n",
       "      <td>28.0</td>\n",
       "      <td>Alentejo</td>\n",
       "      <td>Paul Gregutt</td>\n",
       "      <td>Adega Cooperativa de Borba 2012 Montes Claros ...</td>\n",
       "      <td>Portuguese Red</td>\n",
       "      <td>...</td>\n",
       "      <td>0.69</td>\n",
       "      <td>0.07</td>\n",
       "      <td>2.5</td>\n",
       "      <td>0.091</td>\n",
       "      <td>15.0</td>\n",
       "      <td>21.0</td>\n",
       "      <td>0.99572</td>\n",
       "      <td>3.38</td>\n",
       "      <td>0.60</td>\n",
       "      <td>11.3</td>\n",
       "    </tr>\n",
       "    <tr>\n",
       "      <td>3</td>\n",
       "      <td>4</td>\n",
       "      <td>Portugal</td>\n",
       "      <td>Wood aging gives this ripe blend of Baga and T...</td>\n",
       "      <td>NaN</td>\n",
       "      <td>90</td>\n",
       "      <td>20.0</td>\n",
       "      <td>Beira Atlantico</td>\n",
       "      <td>Alexander Peartree</td>\n",
       "      <td>Quinta de Foz de Arouce 2013 Red (Beira Atlant...</td>\n",
       "      <td>Portuguese Red</td>\n",
       "      <td>...</td>\n",
       "      <td>0.69</td>\n",
       "      <td>0.07</td>\n",
       "      <td>2.5</td>\n",
       "      <td>0.091</td>\n",
       "      <td>15.0</td>\n",
       "      <td>21.0</td>\n",
       "      <td>0.99572</td>\n",
       "      <td>3.38</td>\n",
       "      <td>0.60</td>\n",
       "      <td>11.3</td>\n",
       "    </tr>\n",
       "    <tr>\n",
       "      <td>4</td>\n",
       "      <td>5</td>\n",
       "      <td>Portugal</td>\n",
       "      <td>A powerful wine, richly structured and full of...</td>\n",
       "      <td>Gerações Colheita Seleccionada</td>\n",
       "      <td>92</td>\n",
       "      <td>34.0</td>\n",
       "      <td>Alentejano</td>\n",
       "      <td>Paul Gregutt</td>\n",
       "      <td>Herdade Grande 2010 Gerações Colheita Seleccio...</td>\n",
       "      <td>Portuguese Red</td>\n",
       "      <td>...</td>\n",
       "      <td>0.48</td>\n",
       "      <td>0.34</td>\n",
       "      <td>2.2</td>\n",
       "      <td>0.073</td>\n",
       "      <td>16.0</td>\n",
       "      <td>25.0</td>\n",
       "      <td>0.9936</td>\n",
       "      <td>3.28</td>\n",
       "      <td>0.66</td>\n",
       "      <td>12.4</td>\n",
       "    </tr>\n",
       "  </tbody>\n",
       "</table>\n",
       "<p>5 rows × 22 columns</p>\n",
       "</div>"
      ],
      "text/plain": [
       "   id   country                                        description  \\\n",
       "0   1  Portugal  This is ripe and fruity, a wine that is smooth...   \n",
       "1   2  Portugal  From an estate in the south of the Alentejo, t...   \n",
       "2   3  Portugal  A year in wood and 30 months in bottle before ...   \n",
       "3   4  Portugal  Wood aging gives this ripe blend of Baga and T...   \n",
       "4   5  Portugal  A powerful wine, richly structured and full of...   \n",
       "\n",
       "                      designation  points  price         province  \\\n",
       "0                        Avidagos      87   15.0            Douro   \n",
       "1            Grande Reserva Tinto      91   26.0       Alentejano   \n",
       "2        Montes Claros Garrafeira      90   28.0         Alentejo   \n",
       "3                             NaN      90   20.0  Beira Atlantico   \n",
       "4  Gerações Colheita Seleccionada      92   34.0       Alentejano   \n",
       "\n",
       "          taster_name                                              title  \\\n",
       "0       Kerin O’Keefe      Quinta dos Avidagos 2011 Avidagos Red (Douro)   \n",
       "1          Roger Voss  Casa Santa Vitória 2013 Grande Reserva Tinto R...   \n",
       "2        Paul Gregutt  Adega Cooperativa de Borba 2012 Montes Claros ...   \n",
       "3  Alexander Peartree  Quinta de Foz de Arouce 2013 Red (Beira Atlant...   \n",
       "4        Paul Gregutt  Herdade Grande 2010 Gerações Colheita Seleccio...   \n",
       "\n",
       "          variety  ... volatile acidity  citric acid  residual sugar  \\\n",
       "0  Portuguese Red  ...             0.29          0.4             2.9   \n",
       "1  Portuguese Red  ...             0.26         0.37             1.4   \n",
       "2  Portuguese Red  ...             0.69         0.07             2.5   \n",
       "3  Portuguese Red  ...             0.69         0.07             2.5   \n",
       "4  Portuguese Red  ...             0.48         0.34             2.2   \n",
       "\n",
       "  chlorides  free sulfur dioxide  total sulfur dioxide  density    pH  \\\n",
       "0     0.098                 10.0                  26.0   10.006  3.48   \n",
       "1     0.076                  8.0                  23.0   0.9974  3.26   \n",
       "2     0.091                 15.0                  21.0  0.99572  3.38   \n",
       "3     0.091                 15.0                  21.0  0.99572  3.38   \n",
       "4     0.073                 16.0                  25.0   0.9936  3.28   \n",
       "\n",
       "  sulphates  alcohol  \n",
       "0      0.91      9.7  \n",
       "1      0.70      9.6  \n",
       "2      0.60     11.3  \n",
       "3      0.60     11.3  \n",
       "4      0.66     12.4  \n",
       "\n",
       "[5 rows x 22 columns]"
      ]
     },
     "execution_count": 2,
     "metadata": {},
     "output_type": "execute_result"
    }
   ],
   "source": [
    "# import the data files\n",
    "df_red_wine = pd.read_csv(\"data/redwine.csv\", sep=\";\")\n",
    "df_red_wine.head()"
   ]
  },
  {
   "cell_type": "markdown",
   "metadata": {},
   "source": [
    "### externe dataset\n",
    "Aangezien onze eerste dataset alleen maar kenmerken van rode wijn bevat zijn wij gaan zoeken naar een dataset met kenmerken van witte wijn.  \n",
    "  \n",
    "De dataset komt van de volgende website: https://archive.ics.uci.edu/ml/datasets/wine+quality  \n",
    "  \n",
    "Ook deze dataset gaan we importeren om hierna te controleren of hij goed geïmporteerd is."
   ]
  },
  {
   "cell_type": "code",
   "execution_count": 3,
   "metadata": {},
   "outputs": [
    {
     "data": {
      "text/html": [
       "<div>\n",
       "<style scoped>\n",
       "    .dataframe tbody tr th:only-of-type {\n",
       "        vertical-align: middle;\n",
       "    }\n",
       "\n",
       "    .dataframe tbody tr th {\n",
       "        vertical-align: top;\n",
       "    }\n",
       "\n",
       "    .dataframe thead th {\n",
       "        text-align: right;\n",
       "    }\n",
       "</style>\n",
       "<table border=\"1\" class=\"dataframe\">\n",
       "  <thead>\n",
       "    <tr style=\"text-align: right;\">\n",
       "      <th></th>\n",
       "      <th>fixed acidity</th>\n",
       "      <th>volatile acidity</th>\n",
       "      <th>citric acid</th>\n",
       "      <th>residual sugar</th>\n",
       "      <th>chlorides</th>\n",
       "      <th>free sulfur dioxide</th>\n",
       "      <th>total sulfur dioxide</th>\n",
       "      <th>density</th>\n",
       "      <th>pH</th>\n",
       "      <th>sulphates</th>\n",
       "      <th>alcohol</th>\n",
       "      <th>quality</th>\n",
       "    </tr>\n",
       "  </thead>\n",
       "  <tbody>\n",
       "    <tr>\n",
       "      <td>0</td>\n",
       "      <td>7.0</td>\n",
       "      <td>0.27</td>\n",
       "      <td>0.36</td>\n",
       "      <td>20.7</td>\n",
       "      <td>0.045</td>\n",
       "      <td>45.0</td>\n",
       "      <td>170.0</td>\n",
       "      <td>1.0010</td>\n",
       "      <td>3.00</td>\n",
       "      <td>0.45</td>\n",
       "      <td>8.8</td>\n",
       "      <td>6</td>\n",
       "    </tr>\n",
       "    <tr>\n",
       "      <td>1</td>\n",
       "      <td>6.3</td>\n",
       "      <td>0.30</td>\n",
       "      <td>0.34</td>\n",
       "      <td>1.6</td>\n",
       "      <td>0.049</td>\n",
       "      <td>14.0</td>\n",
       "      <td>132.0</td>\n",
       "      <td>0.9940</td>\n",
       "      <td>3.30</td>\n",
       "      <td>0.49</td>\n",
       "      <td>9.5</td>\n",
       "      <td>6</td>\n",
       "    </tr>\n",
       "    <tr>\n",
       "      <td>2</td>\n",
       "      <td>8.1</td>\n",
       "      <td>0.28</td>\n",
       "      <td>0.40</td>\n",
       "      <td>6.9</td>\n",
       "      <td>0.050</td>\n",
       "      <td>30.0</td>\n",
       "      <td>97.0</td>\n",
       "      <td>0.9951</td>\n",
       "      <td>3.26</td>\n",
       "      <td>0.44</td>\n",
       "      <td>10.1</td>\n",
       "      <td>6</td>\n",
       "    </tr>\n",
       "    <tr>\n",
       "      <td>3</td>\n",
       "      <td>7.2</td>\n",
       "      <td>0.23</td>\n",
       "      <td>0.32</td>\n",
       "      <td>8.5</td>\n",
       "      <td>0.058</td>\n",
       "      <td>47.0</td>\n",
       "      <td>186.0</td>\n",
       "      <td>0.9956</td>\n",
       "      <td>3.19</td>\n",
       "      <td>0.40</td>\n",
       "      <td>9.9</td>\n",
       "      <td>6</td>\n",
       "    </tr>\n",
       "    <tr>\n",
       "      <td>4</td>\n",
       "      <td>7.2</td>\n",
       "      <td>0.23</td>\n",
       "      <td>0.32</td>\n",
       "      <td>8.5</td>\n",
       "      <td>0.058</td>\n",
       "      <td>47.0</td>\n",
       "      <td>186.0</td>\n",
       "      <td>0.9956</td>\n",
       "      <td>3.19</td>\n",
       "      <td>0.40</td>\n",
       "      <td>9.9</td>\n",
       "      <td>6</td>\n",
       "    </tr>\n",
       "  </tbody>\n",
       "</table>\n",
       "</div>"
      ],
      "text/plain": [
       "   fixed acidity  volatile acidity  citric acid  residual sugar  chlorides  \\\n",
       "0            7.0              0.27         0.36            20.7      0.045   \n",
       "1            6.3              0.30         0.34             1.6      0.049   \n",
       "2            8.1              0.28         0.40             6.9      0.050   \n",
       "3            7.2              0.23         0.32             8.5      0.058   \n",
       "4            7.2              0.23         0.32             8.5      0.058   \n",
       "\n",
       "   free sulfur dioxide  total sulfur dioxide  density    pH  sulphates  \\\n",
       "0                 45.0                 170.0   1.0010  3.00       0.45   \n",
       "1                 14.0                 132.0   0.9940  3.30       0.49   \n",
       "2                 30.0                  97.0   0.9951  3.26       0.44   \n",
       "3                 47.0                 186.0   0.9956  3.19       0.40   \n",
       "4                 47.0                 186.0   0.9956  3.19       0.40   \n",
       "\n",
       "   alcohol  quality  \n",
       "0      8.8        6  \n",
       "1      9.5        6  \n",
       "2     10.1        6  \n",
       "3      9.9        6  \n",
       "4      9.9        6  "
      ]
     },
     "execution_count": 3,
     "metadata": {},
     "output_type": "execute_result"
    }
   ],
   "source": [
    "df_white_wine = pd.read_csv(\"data/winequality-white.csv\", sep=\";\")\n",
    "df_white_wine.head()"
   ]
  },
  {
   "cell_type": "markdown",
   "metadata": {},
   "source": [
    "## Data Processing\n",
    "Aangezien de bestanden met de data al in een csv bestand staan kunnen deze direct in een dataframe worden ingelezen.  \n",
    "Nu is het nog aan ons om te beslissen of er nog kolomnamen zijn die aangepast moeten worden en welke kolommen we gaan droppen.  \n",
    "In totaal heeft deze dataset 22 kolommen. Om uit te zoeken welke kolommen essentieel zijn voor het verdere proces gaan we nu eerste kijken hoe de kolommen heten."
   ]
  },
  {
   "cell_type": "code",
   "execution_count": 4,
   "metadata": {
    "pycharm": {
     "is_executing": false,
     "metadata": false,
     "name": "#%%\n"
    },
    "scrolled": true
   },
   "outputs": [
    {
     "data": {
      "text/plain": [
       "Index(['id', 'country', 'description', 'designation', 'points', 'price',\n",
       "       'province', 'taster_name', 'title', 'variety', 'winery',\n",
       "       'fixed acidity', 'volatile acidity', 'citric acid', 'residual sugar',\n",
       "       'chlorides', 'free sulfur dioxide', 'total sulfur dioxide', 'density',\n",
       "       'pH', 'sulphates', 'alcohol'],\n",
       "      dtype='object')"
      ]
     },
     "execution_count": 4,
     "metadata": {},
     "output_type": "execute_result"
    }
   ],
   "source": [
    "df_red_wine.columns"
   ]
  },
  {
   "cell_type": "markdown",
   "metadata": {
    "pycharm": {
     "metadata": false,
     "name": "#%% md\n"
    }
   },
   "source": [
    "Om goed te kunnen begrijpen met welke data we hier mee te maken hebben is hieronder voor iedere kolom de betekenis van de data die erin staat gegeven.  \n",
    "\n",
    "- **id**  \n",
    "    Een uniek nummer voor iedere rij\n",
    "- **Country**  \n",
    "    Het land waar de wijn vandaan komt\n",
    "- **Description**  \n",
    "    De beschrijving van de wijn\n",
    "- **Designation**  \n",
    "    De wijngaard waar tenminste 85% van de druiven vandaan komen\n",
    "- **Points**  \n",
    "    De hoeveelheid punten die de wijn heeft gekregen van de proever\n",
    "- **Price**  \n",
    "    De prijs van de wijn\n",
    "- **Province**  \n",
    "    De provincie waar de wijn\n",
    "- **Taster_name**  \n",
    "    De volledige naam van de proever\n",
    "- **Title**  \n",
    "    De titel die normaliter op het wijnetiket staat\n",
    "- **Variety**  \n",
    "    Het type druif dat gebruikt wordt\n",
    "- **Winery**  \n",
    "    Het bedrijf waar de wijn geproduceerd is\n",
    "- **Fixed acidity**  \n",
    "    \n",
    "- **Volatile acidity**  \n",
    "    \n",
    "- **Citric acid**  \n",
    "    \n",
    "- **Residual sugar**  \n",
    "    \n",
    "- **Chlorides**  \n",
    "    De hoeveelheid zout in de wijn\n",
    "- **Free sulfur dioxide**  \n",
    "    Zwaveldioxide wordt in de wijn toegevoegd tijdens het proces genaamd \"vinificatie\".\n",
    "    De hoeveelheid zwaveldioxide dat vrij in de wijn zit. (Wat dus niet gebonden is aan andere chemicaliën in de wijn)\n",
    "    De zwavel voorkomt oxidatie van de wijn en wordt als conserveringsmiddel in veel levensmiddelen gebruikt.\n",
    "    Zwaveldioxide wat niet vrij is, en dus al gebonden is aan andere stoffen in de wijn, heeft geen antioxiderende werking meer.\n",
    "- **Total sulfur dioxide**  \n",
    "    De hoeveelheid totale zwaveldioxide dat in de wijn zit.\n",
    "    Een te hoge concentratie zwaveldioxide kan de smaak verpesten.\n",
    "    Een te lage concentratie zwaveldioxide kan ervoor zorgen dat er teveel bacterien in de wijn blijven zitten waardoor het gevaarlijk kan zijn om te drinken.\n",
    "- **Density**  \n",
    "    \n",
    "- **pH**  \n",
    "    Is een maat voor de zuurgraad van een waterige oplossing. De schaal gaat van 0 (zuur) tot 14 (basisch). De meeste wijnen zitten tussen de 2.8 en de 4.0\n",
    "- **Sulphates (sulfites)**  \n",
    "    \n",
    "- **Alcohol**  \n",
    "    Het percentage alcohol in de wijn\n",
    "\n",
    "Voor het uitzoeken van de betekenis van deze termen/kolommen zijn de volgende bronnen gebruikt:  \n",
    "- https://www.gall.nl/ontdek/wijn/de-zuurgraad-van-wijn/\n",
    "- https://winecompliancealliance.com/vinyard-designation-on-a-wine-label/\n",
    "- http://rstudio-pubs-static.s3.amazonaws.com/80458_5000e31f84df449099a872ccf40747b7.html\n"
   ]
  },
  {
   "cell_type": "markdown",
   "metadata": {},
   "source": [
    "Bij deze dataset hebben we al de voorkennis dat al deze wijnen uit Portugal komen. Hierdoor hoeven we de kolom 'country' niet te gebruiken. Verder geeft 'variety' aan met wat voor druif we te maken hebben, waarschijnlijk zal dit ook maar één unieke waarde hebben.  \n",
    "Voordat we deze kolommen weggooien checken we nog voor de zekerheid of onze aannames kloppen. "
   ]
  },
  {
   "cell_type": "code",
   "execution_count": 5,
   "metadata": {},
   "outputs": [
    {
     "data": {
      "text/plain": [
       "array(['Portugal'], dtype=object)"
      ]
     },
     "execution_count": 5,
     "metadata": {},
     "output_type": "execute_result"
    }
   ],
   "source": [
    "df_red_wine['country'].unique()"
   ]
  },
  {
   "cell_type": "code",
   "execution_count": 6,
   "metadata": {},
   "outputs": [
    {
     "data": {
      "text/plain": [
       "array(['Portuguese Red'], dtype=object)"
      ]
     },
     "execution_count": 6,
     "metadata": {},
     "output_type": "execute_result"
    }
   ],
   "source": [
    "df_red_wine['variety'].unique()"
   ]
  },
  {
   "cell_type": "markdown",
   "metadata": {},
   "source": [
    "Onze aannames blijken te kloppen. We hebben hier twee keer te maken met een kolom met maar één unieke waarde. Deze kolommen kunnen dus gedropt worden."
   ]
  },
  {
   "cell_type": "code",
   "execution_count": 7,
   "metadata": {},
   "outputs": [],
   "source": [
    "df_red_wine.drop(['country', 'variety'], axis=1, inplace=True)"
   ]
  },
  {
   "cell_type": "markdown",
   "metadata": {},
   "source": [
    "Op basis van onze onderzoeksvragen kunnen we ook de kolommen 'Designation', 'winery' en 'Province' laten vallen. Dit omdat we voor de beantwoording van onze onderzoeksvragen geen onderscheid hoeven te maken tussen de verschillende provincies of de wijngaarden waar de wijn vandaan kan komen."
   ]
  },
  {
   "cell_type": "code",
   "execution_count": 8,
   "metadata": {},
   "outputs": [],
   "source": [
    "df_red_wine.drop(['designation', 'province', 'winery'], axis=1, inplace=True)"
   ]
  },
  {
   "cell_type": "markdown",
   "metadata": {},
   "source": [
    "Verder maken we van de kolom 'id' de index"
   ]
  },
  {
   "cell_type": "code",
   "execution_count": 9,
   "metadata": {},
   "outputs": [
    {
     "data": {
      "text/html": [
       "<div>\n",
       "<style scoped>\n",
       "    .dataframe tbody tr th:only-of-type {\n",
       "        vertical-align: middle;\n",
       "    }\n",
       "\n",
       "    .dataframe tbody tr th {\n",
       "        vertical-align: top;\n",
       "    }\n",
       "\n",
       "    .dataframe thead th {\n",
       "        text-align: right;\n",
       "    }\n",
       "</style>\n",
       "<table border=\"1\" class=\"dataframe\">\n",
       "  <thead>\n",
       "    <tr style=\"text-align: right;\">\n",
       "      <th></th>\n",
       "      <th>description</th>\n",
       "      <th>points</th>\n",
       "      <th>price</th>\n",
       "      <th>taster_name</th>\n",
       "      <th>title</th>\n",
       "      <th>fixed acidity</th>\n",
       "      <th>volatile acidity</th>\n",
       "      <th>citric acid</th>\n",
       "      <th>residual sugar</th>\n",
       "      <th>chlorides</th>\n",
       "      <th>free sulfur dioxide</th>\n",
       "      <th>total sulfur dioxide</th>\n",
       "      <th>density</th>\n",
       "      <th>pH</th>\n",
       "      <th>sulphates</th>\n",
       "      <th>alcohol</th>\n",
       "    </tr>\n",
       "    <tr>\n",
       "      <th>id</th>\n",
       "      <th></th>\n",
       "      <th></th>\n",
       "      <th></th>\n",
       "      <th></th>\n",
       "      <th></th>\n",
       "      <th></th>\n",
       "      <th></th>\n",
       "      <th></th>\n",
       "      <th></th>\n",
       "      <th></th>\n",
       "      <th></th>\n",
       "      <th></th>\n",
       "      <th></th>\n",
       "      <th></th>\n",
       "      <th></th>\n",
       "      <th></th>\n",
       "    </tr>\n",
       "  </thead>\n",
       "  <tbody>\n",
       "    <tr>\n",
       "      <td>1</td>\n",
       "      <td>This is ripe and fruity, a wine that is smooth...</td>\n",
       "      <td>87</td>\n",
       "      <td>15.0</td>\n",
       "      <td>Kerin O’Keefe</td>\n",
       "      <td>Quinta dos Avidagos 2011 Avidagos Red (Douro)</td>\n",
       "      <td>10.0</td>\n",
       "      <td>0.29</td>\n",
       "      <td>0.4</td>\n",
       "      <td>2.9</td>\n",
       "      <td>0.098</td>\n",
       "      <td>10.0</td>\n",
       "      <td>26.0</td>\n",
       "      <td>10.006</td>\n",
       "      <td>3.48</td>\n",
       "      <td>0.91</td>\n",
       "      <td>9.7</td>\n",
       "    </tr>\n",
       "    <tr>\n",
       "      <td>2</td>\n",
       "      <td>From an estate in the south of the Alentejo, t...</td>\n",
       "      <td>91</td>\n",
       "      <td>26.0</td>\n",
       "      <td>Roger Voss</td>\n",
       "      <td>Casa Santa Vitória 2013 Grande Reserva Tinto R...</td>\n",
       "      <td>8.3</td>\n",
       "      <td>0.26</td>\n",
       "      <td>0.37</td>\n",
       "      <td>1.4</td>\n",
       "      <td>0.076</td>\n",
       "      <td>8.0</td>\n",
       "      <td>23.0</td>\n",
       "      <td>0.9974</td>\n",
       "      <td>3.26</td>\n",
       "      <td>0.70</td>\n",
       "      <td>9.6</td>\n",
       "    </tr>\n",
       "    <tr>\n",
       "      <td>3</td>\n",
       "      <td>A year in wood and 30 months in bottle before ...</td>\n",
       "      <td>90</td>\n",
       "      <td>28.0</td>\n",
       "      <td>Paul Gregutt</td>\n",
       "      <td>Adega Cooperativa de Borba 2012 Montes Claros ...</td>\n",
       "      <td>7.0</td>\n",
       "      <td>0.69</td>\n",
       "      <td>0.07</td>\n",
       "      <td>2.5</td>\n",
       "      <td>0.091</td>\n",
       "      <td>15.0</td>\n",
       "      <td>21.0</td>\n",
       "      <td>0.99572</td>\n",
       "      <td>3.38</td>\n",
       "      <td>0.60</td>\n",
       "      <td>11.3</td>\n",
       "    </tr>\n",
       "    <tr>\n",
       "      <td>4</td>\n",
       "      <td>Wood aging gives this ripe blend of Baga and T...</td>\n",
       "      <td>90</td>\n",
       "      <td>20.0</td>\n",
       "      <td>Alexander Peartree</td>\n",
       "      <td>Quinta de Foz de Arouce 2013 Red (Beira Atlant...</td>\n",
       "      <td>7.0</td>\n",
       "      <td>0.69</td>\n",
       "      <td>0.07</td>\n",
       "      <td>2.5</td>\n",
       "      <td>0.091</td>\n",
       "      <td>15.0</td>\n",
       "      <td>21.0</td>\n",
       "      <td>0.99572</td>\n",
       "      <td>3.38</td>\n",
       "      <td>0.60</td>\n",
       "      <td>11.3</td>\n",
       "    </tr>\n",
       "    <tr>\n",
       "      <td>5</td>\n",
       "      <td>A powerful wine, richly structured and full of...</td>\n",
       "      <td>92</td>\n",
       "      <td>34.0</td>\n",
       "      <td>Paul Gregutt</td>\n",
       "      <td>Herdade Grande 2010 Gerações Colheita Seleccio...</td>\n",
       "      <td>8.0</td>\n",
       "      <td>0.48</td>\n",
       "      <td>0.34</td>\n",
       "      <td>2.2</td>\n",
       "      <td>0.073</td>\n",
       "      <td>16.0</td>\n",
       "      <td>25.0</td>\n",
       "      <td>0.9936</td>\n",
       "      <td>3.28</td>\n",
       "      <td>0.66</td>\n",
       "      <td>12.4</td>\n",
       "    </tr>\n",
       "  </tbody>\n",
       "</table>\n",
       "</div>"
      ],
      "text/plain": [
       "                                          description  points  price  \\\n",
       "id                                                                     \n",
       "1   This is ripe and fruity, a wine that is smooth...      87   15.0   \n",
       "2   From an estate in the south of the Alentejo, t...      91   26.0   \n",
       "3   A year in wood and 30 months in bottle before ...      90   28.0   \n",
       "4   Wood aging gives this ripe blend of Baga and T...      90   20.0   \n",
       "5   A powerful wine, richly structured and full of...      92   34.0   \n",
       "\n",
       "           taster_name                                              title  \\\n",
       "id                                                                          \n",
       "1        Kerin O’Keefe      Quinta dos Avidagos 2011 Avidagos Red (Douro)   \n",
       "2           Roger Voss  Casa Santa Vitória 2013 Grande Reserva Tinto R...   \n",
       "3         Paul Gregutt  Adega Cooperativa de Borba 2012 Montes Claros ...   \n",
       "4   Alexander Peartree  Quinta de Foz de Arouce 2013 Red (Beira Atlant...   \n",
       "5         Paul Gregutt  Herdade Grande 2010 Gerações Colheita Seleccio...   \n",
       "\n",
       "    fixed acidity  volatile acidity citric acid  residual sugar  chlorides  \\\n",
       "id                                                                           \n",
       "1            10.0              0.29         0.4             2.9      0.098   \n",
       "2             8.3              0.26        0.37             1.4      0.076   \n",
       "3             7.0              0.69        0.07             2.5      0.091   \n",
       "4             7.0              0.69        0.07             2.5      0.091   \n",
       "5             8.0              0.48        0.34             2.2      0.073   \n",
       "\n",
       "    free sulfur dioxide  total sulfur dioxide  density    pH  sulphates  \\\n",
       "id                                                                        \n",
       "1                  10.0                  26.0   10.006  3.48       0.91   \n",
       "2                   8.0                  23.0   0.9974  3.26       0.70   \n",
       "3                  15.0                  21.0  0.99572  3.38       0.60   \n",
       "4                  15.0                  21.0  0.99572  3.38       0.60   \n",
       "5                  16.0                  25.0   0.9936  3.28       0.66   \n",
       "\n",
       "   alcohol  \n",
       "id          \n",
       "1      9.7  \n",
       "2      9.6  \n",
       "3     11.3  \n",
       "4     11.3  \n",
       "5     12.4  "
      ]
     },
     "execution_count": 9,
     "metadata": {},
     "output_type": "execute_result"
    }
   ],
   "source": [
    "df_red_wine.set_index('id', inplace=True)\n",
    "df_red_wine.head()"
   ]
  },
  {
   "cell_type": "markdown",
   "metadata": {},
   "source": [
    "## Data cleaning\n",
    "Nu de data bewerkt is kunnen we tot de volgende stap overgaan: het opschonen van de data. Hierbij gaan we op zoek naar missende en dubbele waarden, outliers en onvolkomenheden.  \n",
    "Allereerst gaan we opzoek naar rijen waar waarden missen."
   ]
  },
  {
   "cell_type": "code",
   "execution_count": 10,
   "metadata": {},
   "outputs": [
    {
     "data": {
      "text/plain": [
       "2465"
      ]
     },
     "execution_count": 10,
     "metadata": {},
     "output_type": "execute_result"
    }
   ],
   "source": [
    "len(df_red_wine)"
   ]
  },
  {
   "cell_type": "code",
   "execution_count": 11,
   "metadata": {
    "scrolled": true
   },
   "outputs": [
    {
     "data": {
      "text/plain": [
       "description               0\n",
       "points                    0\n",
       "price                   269\n",
       "taster_name               0\n",
       "title                     0\n",
       "fixed acidity             0\n",
       "volatile acidity          0\n",
       "citric acid               0\n",
       "residual sugar            0\n",
       "chlorides                 0\n",
       "free sulfur dioxide       0\n",
       "total sulfur dioxide      0\n",
       "density                   0\n",
       "pH                        0\n",
       "sulphates                 0\n",
       "alcohol                   0\n",
       "dtype: int64"
      ]
     },
     "execution_count": 11,
     "metadata": {},
     "output_type": "execute_result"
    }
   ],
   "source": [
    "pd.isnull(df_red_wine).sum()"
   ]
  },
  {
   "cell_type": "markdown",
   "metadata": {},
   "source": [
    "Hier zien we dat er 269 missende waarden zijn en dat die waarden zich allemaal in de 'price' kolom bevinden. Deze waarde hebben we echter wel voor één van de onderzoeksvragen. Hier hebben wij de afweging gemaakt om deze waarden te verwijderen.  \n",
    "Deze keuze is gebaseerd op het feit dat we nu ongeveer 12% van de data weggooien en we dus nog genoeg data behouden om te onderzoeken of er een relatie zit tussen de prijs en de hoeveelheid punten van een fles wijn.  \n",
    "We droppen dus alle rijen met missende waardes en tegelijkertijd verwijderen we duplicate rijen."
   ]
  },
  {
   "cell_type": "code",
   "execution_count": 12,
   "metadata": {},
   "outputs": [],
   "source": [
    "# deleting the rows with empty values\n",
    "df_red_wine.dropna(inplace=True)\n",
    "# deleting the duplicates rows\n",
    "df_red_wine.drop_duplicates(inplace=True)"
   ]
  },
  {
   "cell_type": "markdown",
   "metadata": {},
   "source": [
    "chemische kenmerken filteren!!!!!!!!"
   ]
  },
  {
   "cell_type": "code",
   "execution_count": null,
   "metadata": {},
   "outputs": [],
   "source": []
  },
  {
   "cell_type": "markdown",
   "metadata": {},
   "source": [
    "## Data Exploration"
   ]
  },
  {
   "cell_type": "code",
   "execution_count": 13,
   "metadata": {},
   "outputs": [
    {
     "data": {
      "text/html": [
       "<div>\n",
       "<style scoped>\n",
       "    .dataframe tbody tr th:only-of-type {\n",
       "        vertical-align: middle;\n",
       "    }\n",
       "\n",
       "    .dataframe tbody tr th {\n",
       "        vertical-align: top;\n",
       "    }\n",
       "\n",
       "    .dataframe thead th {\n",
       "        text-align: right;\n",
       "    }\n",
       "</style>\n",
       "<table border=\"1\" class=\"dataframe\">\n",
       "  <thead>\n",
       "    <tr style=\"text-align: right;\">\n",
       "      <th></th>\n",
       "      <th>points</th>\n",
       "      <th>price</th>\n",
       "      <th>fixed acidity</th>\n",
       "      <th>volatile acidity</th>\n",
       "      <th>residual sugar</th>\n",
       "      <th>chlorides</th>\n",
       "      <th>free sulfur dioxide</th>\n",
       "      <th>total sulfur dioxide</th>\n",
       "      <th>pH</th>\n",
       "      <th>sulphates</th>\n",
       "    </tr>\n",
       "  </thead>\n",
       "  <tbody>\n",
       "    <tr>\n",
       "      <td>count</td>\n",
       "      <td>2196.000000</td>\n",
       "      <td>2196.000000</td>\n",
       "      <td>2196.000000</td>\n",
       "      <td>2196.000000</td>\n",
       "      <td>2196.000000</td>\n",
       "      <td>2196.000000</td>\n",
       "      <td>2196.000000</td>\n",
       "      <td>2196.000000</td>\n",
       "      <td>2196.000000</td>\n",
       "      <td>2196.000000</td>\n",
       "    </tr>\n",
       "    <tr>\n",
       "      <td>mean</td>\n",
       "      <td>88.864299</td>\n",
       "      <td>24.819217</td>\n",
       "      <td>8.347040</td>\n",
       "      <td>0.530089</td>\n",
       "      <td>2.575592</td>\n",
       "      <td>0.087842</td>\n",
       "      <td>15.953097</td>\n",
       "      <td>47.468124</td>\n",
       "      <td>3.311557</td>\n",
       "      <td>0.663201</td>\n",
       "    </tr>\n",
       "    <tr>\n",
       "      <td>std</td>\n",
       "      <td>2.997764</td>\n",
       "      <td>25.539475</td>\n",
       "      <td>1.751835</td>\n",
       "      <td>0.179942</td>\n",
       "      <td>1.438245</td>\n",
       "      <td>0.047686</td>\n",
       "      <td>10.446069</td>\n",
       "      <td>33.304164</td>\n",
       "      <td>0.155462</td>\n",
       "      <td>0.174591</td>\n",
       "    </tr>\n",
       "    <tr>\n",
       "      <td>min</td>\n",
       "      <td>81.000000</td>\n",
       "      <td>5.000000</td>\n",
       "      <td>4.600000</td>\n",
       "      <td>0.120000</td>\n",
       "      <td>0.900000</td>\n",
       "      <td>0.012000</td>\n",
       "      <td>1.000000</td>\n",
       "      <td>6.000000</td>\n",
       "      <td>2.740000</td>\n",
       "      <td>0.330000</td>\n",
       "    </tr>\n",
       "    <tr>\n",
       "      <td>25%</td>\n",
       "      <td>87.000000</td>\n",
       "      <td>12.000000</td>\n",
       "      <td>7.100000</td>\n",
       "      <td>0.400000</td>\n",
       "      <td>1.900000</td>\n",
       "      <td>0.070000</td>\n",
       "      <td>7.750000</td>\n",
       "      <td>22.000000</td>\n",
       "      <td>3.210000</td>\n",
       "      <td>0.550000</td>\n",
       "    </tr>\n",
       "    <tr>\n",
       "      <td>50%</td>\n",
       "      <td>88.000000</td>\n",
       "      <td>17.000000</td>\n",
       "      <td>7.900000</td>\n",
       "      <td>0.520000</td>\n",
       "      <td>2.200000</td>\n",
       "      <td>0.079000</td>\n",
       "      <td>14.000000</td>\n",
       "      <td>38.000000</td>\n",
       "      <td>3.310000</td>\n",
       "      <td>0.620000</td>\n",
       "    </tr>\n",
       "    <tr>\n",
       "      <td>75%</td>\n",
       "      <td>91.000000</td>\n",
       "      <td>28.000000</td>\n",
       "      <td>9.300000</td>\n",
       "      <td>0.640000</td>\n",
       "      <td>2.600000</td>\n",
       "      <td>0.090000</td>\n",
       "      <td>21.250000</td>\n",
       "      <td>64.000000</td>\n",
       "      <td>3.400000</td>\n",
       "      <td>0.730000</td>\n",
       "    </tr>\n",
       "    <tr>\n",
       "      <td>max</td>\n",
       "      <td>100.000000</td>\n",
       "      <td>450.000000</td>\n",
       "      <td>15.900000</td>\n",
       "      <td>1.580000</td>\n",
       "      <td>15.500000</td>\n",
       "      <td>0.611000</td>\n",
       "      <td>72.000000</td>\n",
       "      <td>289.000000</td>\n",
       "      <td>4.010000</td>\n",
       "      <td>2.000000</td>\n",
       "    </tr>\n",
       "  </tbody>\n",
       "</table>\n",
       "</div>"
      ],
      "text/plain": [
       "            points        price  fixed acidity  volatile acidity  \\\n",
       "count  2196.000000  2196.000000    2196.000000       2196.000000   \n",
       "mean     88.864299    24.819217       8.347040          0.530089   \n",
       "std       2.997764    25.539475       1.751835          0.179942   \n",
       "min      81.000000     5.000000       4.600000          0.120000   \n",
       "25%      87.000000    12.000000       7.100000          0.400000   \n",
       "50%      88.000000    17.000000       7.900000          0.520000   \n",
       "75%      91.000000    28.000000       9.300000          0.640000   \n",
       "max     100.000000   450.000000      15.900000          1.580000   \n",
       "\n",
       "       residual sugar    chlorides  free sulfur dioxide  total sulfur dioxide  \\\n",
       "count     2196.000000  2196.000000          2196.000000           2196.000000   \n",
       "mean         2.575592     0.087842            15.953097             47.468124   \n",
       "std          1.438245     0.047686            10.446069             33.304164   \n",
       "min          0.900000     0.012000             1.000000              6.000000   \n",
       "25%          1.900000     0.070000             7.750000             22.000000   \n",
       "50%          2.200000     0.079000            14.000000             38.000000   \n",
       "75%          2.600000     0.090000            21.250000             64.000000   \n",
       "max         15.500000     0.611000            72.000000            289.000000   \n",
       "\n",
       "                pH    sulphates  \n",
       "count  2196.000000  2196.000000  \n",
       "mean      3.311557     0.663201  \n",
       "std       0.155462     0.174591  \n",
       "min       2.740000     0.330000  \n",
       "25%       3.210000     0.550000  \n",
       "50%       3.310000     0.620000  \n",
       "75%       3.400000     0.730000  \n",
       "max       4.010000     2.000000  "
      ]
     },
     "execution_count": 13,
     "metadata": {},
     "output_type": "execute_result"
    }
   ],
   "source": [
    "df_red_wine.describe()"
   ]
  },
  {
   "cell_type": "markdown",
   "metadata": {},
   "source": [
    "Wat uitleg over bovenstaande tabel"
   ]
  },
  {
   "cell_type": "markdown",
   "metadata": {},
   "source": [
    "### De wijnproevers\n",
    "Aangezien we met wijnproevers te maken hebben is alle data over de punten die aan een wijn toegedeeld zijn subjectief. Allereerst willen we wat inzicht krijgen over het gedrag van deze groep bij de toekenning van de punten.  \n",
    "  \n",
    "Eerst gaan we kijken met hoeveel wijnproevers we in totaal te maken hebben."
   ]
  },
  {
   "cell_type": "code",
   "execution_count": 14,
   "metadata": {},
   "outputs": [
    {
     "data": {
      "text/plain": [
       "18"
      ]
     },
     "execution_count": 14,
     "metadata": {},
     "output_type": "execute_result"
    }
   ],
   "source": [
    "len(df_red_wine['taster_name'].unique())"
   ]
  },
  {
   "cell_type": "markdown",
   "metadata": {},
   "source": [
    "We hebben dus met 18 verschillende wijnproevers te maken.  \n",
    "Hierna gaan we kijken of de frequenties van de beoordelingen van de wijnproevers gelijk verdeeld zijn."
   ]
  },
  {
   "cell_type": "code",
   "execution_count": 15,
   "metadata": {},
   "outputs": [
    {
     "data": {
      "text/plain": [
       "Roger Voss            572\n",
       "Michael Schachner     334\n",
       "Kerin O’Keefe         231\n",
       "Paul Gregutt          199\n",
       "Virginie Boone        191\n",
       "Joe Czerwinski        127\n",
       "Matt Kettmann         123\n",
       "Sean P. Sullivan      107\n",
       "Jim Gordon             97\n",
       "Anna Lee C. Iijima     74\n",
       "Anne Krebiehl MW       49\n",
       "Lauren Buzzeo          34\n",
       "Susan Kostrzewa        25\n",
       "Alexander Peartree     14\n",
       "Jeff Jenssen            9\n",
       "Mike DeSimone           4\n",
       "Fiona Adams             3\n",
       "Carrie Dykes            3\n",
       "Name: taster_name, dtype: int64"
      ]
     },
     "execution_count": 15,
     "metadata": {},
     "output_type": "execute_result"
    }
   ],
   "source": [
    "df_red_wine['taster_name'].value_counts()"
   ]
  },
  {
   "cell_type": "markdown",
   "metadata": {},
   "source": [
    "Uit de bovenstaande tabel valt te zien dat de frequenties van de beoordelingen niet evenredig verdeeld zijn. Zo valt te zien dat sommige proevers zeer veel beoordelingen hebben gegeven terwijl andere veel minder hebben gegeven.  \n",
    "  \n",
    "Hierna willen we graag weten wat de minimale, maximale en gemiddelde score is per proever."
   ]
  },
  {
   "cell_type": "code",
   "execution_count": 16,
   "metadata": {},
   "outputs": [
    {
     "data": {
      "text/html": [
       "<div>\n",
       "<style scoped>\n",
       "    .dataframe tbody tr th:only-of-type {\n",
       "        vertical-align: middle;\n",
       "    }\n",
       "\n",
       "    .dataframe tbody tr th {\n",
       "        vertical-align: top;\n",
       "    }\n",
       "\n",
       "    .dataframe thead th {\n",
       "        text-align: right;\n",
       "    }\n",
       "</style>\n",
       "<table border=\"1\" class=\"dataframe\">\n",
       "  <thead>\n",
       "    <tr style=\"text-align: right;\">\n",
       "      <th></th>\n",
       "      <th>min points</th>\n",
       "      <th>max points</th>\n",
       "      <th>avg points</th>\n",
       "    </tr>\n",
       "    <tr>\n",
       "      <th>taster_name</th>\n",
       "      <th></th>\n",
       "      <th></th>\n",
       "      <th></th>\n",
       "    </tr>\n",
       "  </thead>\n",
       "  <tbody>\n",
       "    <tr>\n",
       "      <td>Alexander Peartree</td>\n",
       "      <td>82</td>\n",
       "      <td>95</td>\n",
       "      <td>88.500000</td>\n",
       "    </tr>\n",
       "    <tr>\n",
       "      <td>Anna Lee C. Iijima</td>\n",
       "      <td>83</td>\n",
       "      <td>95</td>\n",
       "      <td>88.878378</td>\n",
       "    </tr>\n",
       "    <tr>\n",
       "      <td>Anne Krebiehl MW</td>\n",
       "      <td>83</td>\n",
       "      <td>94</td>\n",
       "      <td>88.020408</td>\n",
       "    </tr>\n",
       "    <tr>\n",
       "      <td>Carrie Dykes</td>\n",
       "      <td>83</td>\n",
       "      <td>88</td>\n",
       "      <td>85.333333</td>\n",
       "    </tr>\n",
       "    <tr>\n",
       "      <td>Fiona Adams</td>\n",
       "      <td>85</td>\n",
       "      <td>91</td>\n",
       "      <td>88.666667</td>\n",
       "    </tr>\n",
       "    <tr>\n",
       "      <td>Jeff Jenssen</td>\n",
       "      <td>82</td>\n",
       "      <td>92</td>\n",
       "      <td>87.111111</td>\n",
       "    </tr>\n",
       "    <tr>\n",
       "      <td>Jim Gordon</td>\n",
       "      <td>82</td>\n",
       "      <td>95</td>\n",
       "      <td>88.701031</td>\n",
       "    </tr>\n",
       "    <tr>\n",
       "      <td>Joe Czerwinski</td>\n",
       "      <td>84</td>\n",
       "      <td>94</td>\n",
       "      <td>88.637795</td>\n",
       "    </tr>\n",
       "    <tr>\n",
       "      <td>Kerin O’Keefe</td>\n",
       "      <td>81</td>\n",
       "      <td>96</td>\n",
       "      <td>88.770563</td>\n",
       "    </tr>\n",
       "    <tr>\n",
       "      <td>Lauren Buzzeo</td>\n",
       "      <td>82</td>\n",
       "      <td>93</td>\n",
       "      <td>88.764706</td>\n",
       "    </tr>\n",
       "    <tr>\n",
       "      <td>Matt Kettmann</td>\n",
       "      <td>81</td>\n",
       "      <td>97</td>\n",
       "      <td>89.065041</td>\n",
       "    </tr>\n",
       "    <tr>\n",
       "      <td>Michael Schachner</td>\n",
       "      <td>82</td>\n",
       "      <td>100</td>\n",
       "      <td>89.224551</td>\n",
       "    </tr>\n",
       "    <tr>\n",
       "      <td>Mike DeSimone</td>\n",
       "      <td>87</td>\n",
       "      <td>92</td>\n",
       "      <td>90.250000</td>\n",
       "    </tr>\n",
       "    <tr>\n",
       "      <td>Paul Gregutt</td>\n",
       "      <td>81</td>\n",
       "      <td>96</td>\n",
       "      <td>89.010050</td>\n",
       "    </tr>\n",
       "    <tr>\n",
       "      <td>Roger Voss</td>\n",
       "      <td>82</td>\n",
       "      <td>99</td>\n",
       "      <td>88.828671</td>\n",
       "    </tr>\n",
       "    <tr>\n",
       "      <td>Sean P. Sullivan</td>\n",
       "      <td>84</td>\n",
       "      <td>95</td>\n",
       "      <td>88.757009</td>\n",
       "    </tr>\n",
       "    <tr>\n",
       "      <td>Susan Kostrzewa</td>\n",
       "      <td>82</td>\n",
       "      <td>95</td>\n",
       "      <td>89.080000</td>\n",
       "    </tr>\n",
       "    <tr>\n",
       "      <td>Virginie Boone</td>\n",
       "      <td>84</td>\n",
       "      <td>95</td>\n",
       "      <td>88.806283</td>\n",
       "    </tr>\n",
       "  </tbody>\n",
       "</table>\n",
       "</div>"
      ],
      "text/plain": [
       "                    min points  max points  avg points\n",
       "taster_name                                           \n",
       "Alexander Peartree          82          95   88.500000\n",
       "Anna Lee C. Iijima          83          95   88.878378\n",
       "Anne Krebiehl MW            83          94   88.020408\n",
       "Carrie Dykes                83          88   85.333333\n",
       "Fiona Adams                 85          91   88.666667\n",
       "Jeff Jenssen                82          92   87.111111\n",
       "Jim Gordon                  82          95   88.701031\n",
       "Joe Czerwinski              84          94   88.637795\n",
       "Kerin O’Keefe               81          96   88.770563\n",
       "Lauren Buzzeo               82          93   88.764706\n",
       "Matt Kettmann               81          97   89.065041\n",
       "Michael Schachner           82         100   89.224551\n",
       "Mike DeSimone               87          92   90.250000\n",
       "Paul Gregutt                81          96   89.010050\n",
       "Roger Voss                  82          99   88.828671\n",
       "Sean P. Sullivan            84          95   88.757009\n",
       "Susan Kostrzewa             82          95   89.080000\n",
       "Virginie Boone              84          95   88.806283"
      ]
     },
     "execution_count": 16,
     "metadata": {},
     "output_type": "execute_result"
    }
   ],
   "source": [
    "# prepare the data_frame\n",
    "df_taster_index = df_red_wine.copy()\n",
    "df_taster_index = df_taster_index[['taster_name', 'points']]\n",
    "df_taster_index.set_index('taster_name', inplace=True)\n",
    "\n",
    "# getting the min, max and average per taster\n",
    "taster_avg = df_taster_index.groupby('taster_name').mean()\n",
    "taster_min = np.min(df_taster_index.groupby('taster_name'))\n",
    "taster_max = np.max(df_taster_index.groupby('taster_name'))\n",
    "\n",
    "# building a new dataframe with all the info per taster\n",
    "df_taster_stats = pd.concat([taster_min, taster_max, taster_avg], axis=1)\n",
    "df_taster_stats.columns = ['min points', 'max points', 'avg points']\n",
    "df_taster_stats"
   ]
  },
  {
   "cell_type": "markdown",
   "metadata": {},
   "source": [
    "<h3>Normalisatie van de gegeven scores</h3>"
   ]
  },
  {
   "cell_type": "code",
   "execution_count": 17,
   "metadata": {},
   "outputs": [
    {
     "data": {
      "image/png": "[encoded data removed]",
      "text/plain": [
       "<Figure size 1800x600 with 1 Axes>"
      ]
     },
     "metadata": {
      "needs_background": "light"
     },
     "output_type": "display_data"
    }
   ],
   "source": [
    "# Gemiddelde punten\n",
    "ave = df_taster_stats.mean()['avg points']\n",
    "\n",
    "# Standaard deviatie per wijnproever\n",
    "a = df_taster_stats['avg points'] - ave\n",
    "\n",
    "# Barchart afwijking\n",
    "fix, ax = plt.subplots(figsize=(12,4), dpi=150)\n",
    "a = a.sort_values()\n",
    "ax.bar(a.index, a)\n",
    "plt.ylabel('Afwijking');\n",
    "plt.xlabel('Proever');\n",
    "plt.xticks(rotation=90)\n",
    "sns.set_style('whitegrid')\n",
    "plt.show()"
   ]
  },
  {
   "cell_type": "code",
   "execution_count": 18,
   "metadata": {
    "scrolled": true
   },
   "outputs": [
    {
     "data": {
      "image/png": "[encoded data removed]",
      "text/plain": [
       "<Figure size 1800x600 with 1 Axes>"
      ]
     },
     "metadata": {},
     "output_type": "display_data"
    }
   ],
   "source": [
    "data = df_red_wine['points'].value_counts().sort_index()\n",
    "\n",
    "fix, ax = plt.subplots(figsize=(12,4), dpi=150)\n",
    "\n",
    "ax.bar(data.index, data)\n",
    "plt.xticks([n for n in range(80, 101, 1)])\n",
    "plt.ylabel('Occurences');\n",
    "plt.xlabel('Score');\n",
    "plt.show()"
   ]
  },
  {
   "cell_type": "code",
   "execution_count": 19,
   "metadata": {},
   "outputs": [],
   "source": [
    "points = df_red_wine['points']\n",
    "prices = df_red_wine['price']\n",
    "\n"
   ]
  },
  {
   "cell_type": "code",
   "execution_count": 20,
   "metadata": {},
   "outputs": [
    {
     "data": {
      "image/png": "[encoded data removed]",
      "text/plain": [
       "<Figure size 1800x900 with 1 Axes>"
      ]
     },
     "metadata": {},
     "output_type": "display_data"
    }
   ],
   "source": [
    "fso = df_red_wine['free sulfur dioxide']\n",
    "tso = df_red_wine['total sulfur dioxide']\n",
    "ph = df_red_wine['pH']\n",
    "prices = df_red_wine['price']\n",
    "alcohol = df_red_wine['alcohol']\n",
    "points = df_red_wine['points']\n",
    "citric_acid = df_red_wine['citric acid']\n",
    "\n",
    "# Plot\n",
    "fig, ax = plt.subplots(figsize=(12,6), dpi=150)\n",
    "plt.scatter(citric_acid,points)\n",
    "# plt.title('tso/fso')\n",
    "plt.xlabel('Prijs')\n",
    "plt.ylabel('Punten')\n",
    "plt.show()"
   ]
  },
  {
   "cell_type": "code",
   "execution_count": 21,
   "metadata": {},
   "outputs": [
    {
     "name": "stdout",
     "output_type": "stream",
     "text": [
      "points                  88.864299\n",
      "price                   24.819217\n",
      "fixed acidity            8.347040\n",
      "volatile acidity         0.530089\n",
      "residual sugar           2.575592\n",
      "chlorides                0.087842\n",
      "free sulfur dioxide     15.953097\n",
      "total sulfur dioxide    47.468124\n",
      "pH                       3.311557\n",
      "sulphates                0.663201\n",
      "dtype: float64\n",
      "fixed acidity             6.854788\n",
      "volatile acidity          0.278241\n",
      "citric acid               0.334192\n",
      "residual sugar            6.391415\n",
      "chlorides                 0.045772\n",
      "free sulfur dioxide      35.308085\n",
      "total sulfur dioxide    138.360657\n",
      "density                   0.994027\n",
      "pH                        3.188267\n",
      "sulphates                 0.489847\n",
      "alcohol                  10.514267\n",
      "quality                   5.877909\n",
      "dtype: float64\n"
     ]
    }
   ],
   "source": [
    "print(df_red_wine.mean())\n",
    "print(df_white_wine.mean())"
   ]
  }
 ],
 "metadata": {
  "kernelspec": {
   "display_name": "Python 3",
   "language": "python",
   "name": "python3"
  },
  "language_info": {
   "codemirror_mode": {
    "name": "ipython",
    "version": 3
   },
   "file_extension": ".py",
   "mimetype": "text/x-python",
   "name": "python",
   "nbconvert_exporter": "python",
   "pygments_lexer": "ipython3",
   "version": "3.7.4"
  }
 },
 "nbformat": 4,
 "nbformat_minor": 1
}
