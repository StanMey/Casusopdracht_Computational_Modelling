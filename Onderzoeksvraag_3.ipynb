{
 "cells": [
  {
   "cell_type": "markdown",
   "metadata": {
    "collapsed": true,
    "pycharm": {
     "name": "#%% md\n"
    }
   },
   "source": [
    "# Analyse over Wijn\n",
    "- Stan Meyberg (TICT-AI-V2A-19)\n",
    "- Roeland Oostdam (TICT-AI-V2A-19)\n",
    "- Ruben Klinkenberg (TICT-AI-V2A-19)\n"
   ]
  },
  {
   "cell_type": "markdown",
   "metadata": {},
   "source": [
    "## onderzoeksvragen\n",
    "1. In hoeverre is de score van een Portugese Red te voorspellen op basis van de chemische kenmerken?  \n",
    "2. In hoeverre speelt de prijs een rol in de beoordeling van de wijn?\n",
    "3. In hoeverre kan op basis van de chemische kenmerken voorspelt worden of het een witte of rode wijn is?\n",
    "4. Welke kernwoorden zijn typerend voor een hoog scorende wijn?  \n",
    "\n",
    "Wij zullen deze onderzoeksvragen zo goed mogelijk proberen te beantwoorden.\n",
    "Voor de beantwoording van deze vragen maken wij gebruik van het Data Science proces.  \n",
    "Dit proces ziet er als volgt uit:\n",
    "### Het data science proces\n",
    "1. Data collection\n",
    "2. Data processing\n",
    "3. Data cleaning\n",
    "4. Data exploration & analysis\n",
    "5. Model building\n",
    "6. Visualization\n",
    "7. Communication\n"
   ]
  },
  {
   "cell_type": "markdown",
   "metadata": {
    "pycharm": {
     "metadata": false,
     "name": "#%% md\n"
    }
   },
   "source": [
    "Allereerst zullen we de benodigde libraries importeren.\n",
    "Deze libraries zullen we gebruiken voor het analyseren en het visualiseren van de data."
   ]
  },
  {
   "cell_type": "code",
   "execution_count": null,
   "metadata": {
    "pycharm": {
     "is_executing": true,
     "metadata": false,
     "name": "#%%\n"
    }
   },
   "outputs": [],
   "source": [
    "# data analysis libraries \n",
    "import numpy as np\n",
    "import pandas as pd\n",
    "\n",
    "# visualization libraries\n",
    "import matplotlib.pyplot as plt\n",
    "import seaborn as sns\n"
   ]
  },
  {
   "cell_type": "markdown",
   "metadata": {},
   "source": [
    "## Data Collection\n",
    "De eerste dataset die we gaan gebruiken is aan ons aangeleverd. De dataset is een csv bestand en heet: 'redwine.csv'. In de dataset staat informatie en chemische kenmerken van wijnen in Portugal. \n",
    "\n",
    "Allereerst beginnen we met het importeren van de dataset en kijken we of de dataset correct is geïmporteerd door de eerste 5 regels op te vragen."
   ]
  },
  {
   "cell_type": "code",
   "execution_count": null,
   "metadata": {
    "pycharm": {
     "is_executing": false,
     "metadata": false,
     "name": "#%%\n"
    },
    "scrolled": true
   },
   "outputs": [],
   "source": [
    "# import the data files\n",
    "df_red_wine = pd.read_csv(\"data/redwine.csv\", sep=\";\")\n",
    "df_red_wine.head()"
   ]
  },
  {
   "cell_type": "markdown",
   "metadata": {},
   "source": [
    "### externe dataset\n",
    "Aangezien onze eerste dataset alleen maar kenmerken van rode wijn bevat zijn wij gaan zoeken naar een dataset met kenmerken van witte wijn.  \n",
    "  \n",
    "De dataset komt van de volgende website: https://archive.ics.uci.edu/ml/datasets/wine+quality  \n",
    "  \n",
    "Ook deze dataset gaan we importeren om hierna te controleren of hij goed geïmporteerd is."
   ]
  },
  {
   "cell_type": "code",
   "execution_count": null,
   "metadata": {
    "pycharm": {
     "is_executing": false
    },
    "scrolled": true
   },
   "outputs": [],
   "source": [
    "df_white_wine = pd.read_csv(\"data/winequality-white.csv\", sep=\";\")\n",
    "df_white_wine.head()"
   ]
  },
  {
   "cell_type": "markdown",
   "metadata": {},
   "source": [
    "## Data Processing\n",
    "Aangezien de bestanden met de data al in een csv bestand staan kunnen deze direct in een dataframe worden ingelezen.  \n",
    "Nu is het nog aan ons om te beslissen of er nog kolomnamen zijn die aangepast moeten worden en welke kolommen we gaan droppen.  \n",
    "In totaal heeft deze dataset 22 kolommen. Om uit te zoeken welke kolommen essentieel zijn voor het verdere proces gaan we nu eerste kijken hoe de kolommen heten."
   ]
  },
  {
   "cell_type": "code",
   "execution_count": null,
   "metadata": {
    "pycharm": {
     "is_executing": false,
     "metadata": false,
     "name": "#%%\n"
    },
    "scrolled": true
   },
   "outputs": [],
   "source": [
    "df_red_wine.columns"
   ]
  },
  {
   "cell_type": "markdown",
   "metadata": {
    "pycharm": {
     "metadata": false,
     "name": "#%% md\n"
    }
   },
   "source": [
    "Om goed te kunnen begrijpen met welke data we hier mee te maken hebben is hieronder voor iedere kolom de betekenis van de data die erin staat gegeven.  \n",
    "\n",
    "- **id**  \n",
    "    Een uniek nummer voor iedere rij.\n",
    "- **Country**  \n",
    "    Het land waar de wijn vandaan komt.\n",
    "- **Description**  \n",
    "    De beschrijving van de wijn.\n",
    "- **Designation**  \n",
    "    De wijngaard waar tenminste 85% van de druiven vandaan komen.\n",
    "- **Points**  \n",
    "    De hoeveelheid punten die de wijn heeft gekregen van de proever.\n",
    "- **Price**  \n",
    "    De prijs van de wijn.\n",
    "- **Province**  \n",
    "    De provincie waar de wijn.\n",
    "- **Taster_name**  \n",
    "    De volledige naam van de proever.\n",
    "- **Title**  \n",
    "    De titel die normaliter op het wijnetiket staat.\n",
    "- **Variety**  \n",
    "    Het type druif dat gebruikt wordt.\n",
    "- **Winery**  \n",
    "    Het bedrijf waar de wijn geproduceerd is.\n",
    "- **Fixed acidity**  \n",
    "    Zuren zijn zeer belangrijke bestanddelen van wijn en voegen zeer veel toe aan de smaak. Hoe hoger de hoeveelheid zuren des te zuurder de wijn wordt.\n",
    "- **Volatile acidity**  \n",
    "    De hoeveelheid azijnzuur in de wijn. Kan leiden tot een azijnachtige smaak als het in te grote hoeveelheden aanwezig is.\n",
    "- **Citric acid**  \n",
    "    Een zuur die gebruikt kan worden als natuurlijk conserveermiddel. Citroenzuur kan bijdragen aan de frisheid en smaak van de wijn.\n",
    "- **Residual sugar**  \n",
    "    De hoeveelheid suiker die over is na de fermentatie van de wijn. De hoeveelheid suiker in de wijn geeft de type van de wijn aan (droog, halfdroog, zoet).\n",
    "- **Chlorides**  \n",
    "    De hoeveelheid zout in de wijn.\n",
    "- **Free sulfur dioxide**  \n",
    "    De hoeveelheid zwaveldioxide dat vrij in de wijn zit. (Wat dus niet gebonden is aan andere chemicaliën in de wijn).\n",
    "    Het zwaveldioxide voorkomt oxidatie van de wijn en wordt als conserveringsmiddel in veel levensmiddelen gebruikt.\n",
    "    Zwaveldioxide wat niet vrij is, en dus al gebonden is aan andere stoffen in de wijn, heeft geen antioxiderende werking meer.\n",
    "- **Total sulfur dioxide**  \n",
    "    De totale hoeveelheid zwaveldioxide dat in de wijn zit.  \n",
    "    Een te hoge concentratie zwaveldioxide kan de smaak verpesten.\n",
    "    Een te lage concentratie zwaveldioxide kan ervoor zorgen dat er teveel bacteriën in de wijn blijven zitten waardoor het gevaarlijk kan zijn om te drinken.\n",
    "- **Density**  \n",
    "    De dichtheid van de wijn. De dichtheid kan verminderen door toevoeging van meer alcohol.\n",
    "- **pH**  \n",
    "    Is een maat voor de zuurgraad van een waterige oplossing. De schaal gaat van 0 (zuur) tot 14 (basisch). De meeste wijnen zitten tussen de 2.8 en de 4.0.\n",
    "- **Sulphates (sulfites)**  \n",
    "    Een additief die bijdraagt aan het vermeerderen van het gas zwaveldioxide.\n",
    "- **Alcohol**  \n",
    "    Het percentage alcohol in de wijn.\n",
    "\n",
    "Voor het uitzoeken van de betekenis van deze termen/kolommen zijn de volgende bronnen gebruikt:  \n",
    "- https://www.gall.nl/ontdek/wijn/de-zuurgraad-van-wijn/\n",
    "- https://winecompliancealliance.com/vinyard-designation-on-a-wine-label/\n",
    "- https://wineserver.ucdavis.edu/industry-info/enology/methods-and-techniques/common-chemical-reagents/citric-acid\n",
    "- https://waterhouse.ucdavis.edu/whats-in-wine/volatile-acidity\n",
    "- http://rstudio-pubs-static.s3.amazonaws.com/80458_5000e31f84df449099a872ccf40747b7.html\n"
   ]
  },
  {
   "cell_type": "markdown",
   "metadata": {},
   "source": [
    "Bij deze dataset hebben we al de voorkennis dat al deze wijnen uit Portugal komen. Hierdoor hoeven we de kolom 'country' niet te gebruiken. Verder geeft 'variety' aan met wat voor druif we te maken hebben, waarschijnlijk zal dit ook maar één unieke waarde hebben.  \n",
    "Voordat we deze kolommen weggooien checken we nog voor de zekerheid of onze aannames kloppen. "
   ]
  },
  {
   "cell_type": "code",
   "execution_count": null,
   "metadata": {
    "pycharm": {
     "is_executing": false
    }
   },
   "outputs": [],
   "source": [
    "df_red_wine['country'].unique()"
   ]
  },
  {
   "cell_type": "code",
   "execution_count": null,
   "metadata": {
    "pycharm": {
     "is_executing": false
    }
   },
   "outputs": [],
   "source": [
    "df_red_wine['variety'].unique()"
   ]
  },
  {
   "cell_type": "markdown",
   "metadata": {},
   "source": [
    "Onze aannames blijken te kloppen. We hebben hier twee keer te maken met een kolom met maar één unieke waarde. Deze kolommen kunnen dus gedropt worden."
   ]
  },
  {
   "cell_type": "code",
   "execution_count": null,
   "metadata": {
    "pycharm": {
     "is_executing": false
    }
   },
   "outputs": [],
   "source": [
    "df_red_wine.drop(['country', 'variety'], axis=1, inplace=True)"
   ]
  },
  {
   "cell_type": "markdown",
   "metadata": {},
   "source": [
    "Op basis van onze onderzoeksvragen kunnen we ook de kolommen 'Designation', 'winery' en 'Province' laten vallen. Dit omdat we voor de beantwoording van onze onderzoeksvragen geen onderscheid hoeven te maken tussen de verschillende provincies of de wijngaarden waar de wijn vandaan kan komen."
   ]
  },
  {
   "cell_type": "code",
   "execution_count": null,
   "metadata": {
    "pycharm": {
     "is_executing": false
    }
   },
   "outputs": [],
   "source": [
    "df_red_wine.drop(['designation', 'province', 'winery'], axis=1, inplace=True)"
   ]
  },
  {
   "cell_type": "markdown",
   "metadata": {},
   "source": [
    "Verder maken we van de kolom 'id' de index"
   ]
  },
  {
   "cell_type": "code",
   "execution_count": null,
   "metadata": {
    "pycharm": {
     "is_executing": false
    }
   },
   "outputs": [],
   "source": [
    "df_red_wine.set_index('id', inplace=True)\n",
    "df_red_wine.head()"
   ]
  },
  {
   "cell_type": "markdown",
   "metadata": {},
   "source": [
    "## Data cleaning\n",
    "Nu de data bewerkt is kunnen we tot de volgende stap overgaan: het opschonen van de data. Hierbij gaan we op zoek naar missende en dubbele waarden, outliers en onvolkomenheden.  \n",
    "Allereerst gaan we opzoek naar rijen waar waarden missen."
   ]
  },
  {
   "cell_type": "code",
   "execution_count": null,
   "metadata": {
    "pycharm": {
     "is_executing": false
    }
   },
   "outputs": [],
   "source": [
    "len(df_red_wine)"
   ]
  },
  {
   "cell_type": "code",
   "execution_count": null,
   "metadata": {
    "pycharm": {
     "is_executing": false
    },
    "scrolled": true
   },
   "outputs": [],
   "source": [
    "pd.isnull(df_red_wine).sum()"
   ]
  },
  {
   "cell_type": "markdown",
   "metadata": {},
   "source": [
    "Hier zien we dat er 269 missende waarden zijn en dat die waarden zich allemaal in de 'price' kolom bevinden. Deze waarde hebben we echter wel voor één van de onderzoeksvragen. Hier hebben wij de afweging gemaakt om deze waarden te verwijderen.  \n",
    "Deze keuze is gebaseerd op het feit dat we nu ongeveer 12% van de data weggooien en we dus nog genoeg data behouden om te onderzoeken of er een relatie zit tussen de prijs en de hoeveelheid punten van een fles wijn.  \n",
    "We droppen dus alle rijen met missende waardes en tegelijkertijd verwijderen we duplicate rijen."
   ]
  },
  {
   "cell_type": "code",
   "execution_count": null,
   "metadata": {
    "pycharm": {
     "is_executing": true
    }
   },
   "outputs": [],
   "source": [
    "# deleting the rows with empty values\n",
    "df_red_wine.dropna(inplace=True)\n",
    "# deleting the duplicates rows\n",
    "df_red_wine.drop_duplicates(inplace=True)"
   ]
  },
  {
   "cell_type": "markdown",
   "metadata": {},
   "source": [
    "Nu moeten we nog checken of elke kolom de geschikte datatype heeft."
   ]
  },
  {
   "cell_type": "code",
   "execution_count": null,
   "metadata": {
    "pycharm": {
     "is_executing": true
    }
   },
   "outputs": [],
   "source": [
    "df_red_wine.dtypes"
   ]
  },
  {
   "cell_type": "markdown",
   "metadata": {},
   "source": [
    "In de bovenstaande tabel valt te zien dat de kolom 'density', 'citric acid' en 'alcohol' niet de gewenste datatypen hebben. We willen hier floats hebben terwijl ze nu aangegeven worden als Strings.  \n",
    "Om dit op te lossen gaan we over de kolommen heen en zetten iedere String om tot een float. Wanneer dit niet kan omdat de waarde dit niet toelaat wordt er een NaN ingevuld."
   ]
  },
  {
   "cell_type": "code",
   "execution_count": null,
   "metadata": {
    "pycharm": {
     "is_executing": true
    }
   },
   "outputs": [],
   "source": [
    "df_red_wine['citric acid'] = pd.to_numeric(df_red_wine['citric acid'], errors='coerce')\n",
    "df_red_wine['density'] = pd.to_numeric(df_red_wine['density'], errors='coerce')\n",
    "df_red_wine['alcohol'] = pd.to_numeric(df_red_wine['alcohol'], errors='coerce')\n",
    "\n",
    "pd.isnull(df_red_wine).sum()"
   ]
  },
  {
   "cell_type": "markdown",
   "metadata": {},
   "source": [
    "In de bovenstaande tabel valt te lezen dat in totaal 194 waarden zijn omgezet tot NaN. Deze waardes kunnen we nu automatisch vullen door te interpoleren. Deze keuze hebben we gemaakt omdat we op zoek zijn naar bepaalde kenmerken en door te interpoleren blijven deze unieke kenmerken tussen de waardes die ze uniek maakt."
   ]
  },
  {
   "cell_type": "code",
   "execution_count": null,
   "metadata": {
    "pycharm": {
     "is_executing": true
    }
   },
   "outputs": [],
   "source": [
    "df_red_wine.interpolate(inplace=True)\n",
    "pd.isnull(df_red_wine).sum()"
   ]
  },
  {
   "cell_type": "markdown",
   "metadata": {},
   "source": [
    "## Data Exploration"
   ]
  },
  {
   "cell_type": "markdown",
   "metadata": {},
   "source": [
    "### De wijnproevers\n",
    "Aangezien we met wijnproevers te maken hebben is alle data over de punten die aan een wijn toegedeeld zijn subjectief. Allereerst willen we dus wat inzicht krijgen over het gedrag van deze groep bij de toekenning van de punten.  \n",
    "  \n",
    "Eerst gaan we kijken met hoeveel wijnproevers we in totaal te maken hebben."
   ]
  },
  {
   "cell_type": "code",
   "execution_count": null,
   "metadata": {
    "pycharm": {
     "is_executing": true
    }
   },
   "outputs": [],
   "source": [
    "len(df_red_wine['taster_name'].unique())"
   ]
  },
  {
   "cell_type": "markdown",
   "metadata": {},
   "source": [
    "We hebben dus met 18 verschillende wijnproevers te maken.  \n",
    "Hierna gaan we kijken of de hoeveelheid gegeven beoordelingen van de wijnproevers gelijk verdeeld zijn."
   ]
  },
  {
   "cell_type": "code",
   "execution_count": null,
   "metadata": {
    "pycharm": {
     "is_executing": true
    }
   },
   "outputs": [],
   "source": [
    "df_red_wine['taster_name'].value_counts()"
   ]
  },
  {
   "cell_type": "markdown",
   "metadata": {},
   "source": [
    "In de bovenstaande tabel valt te zien dat deze verdeling niet echt gelijk verdeeld is.  \n",
    "Om deze data nog iets overzichtelijker te maken zetten we deze tabel om tot een grafiek."
   ]
  },
  {
   "cell_type": "code",
   "execution_count": null,
   "metadata": {
    "pycharm": {
     "is_executing": true
    },
    "scrolled": false
   },
   "outputs": [],
   "source": [
    "# selecting the data\n",
    "df_tasting_freq = df_red_wine['taster_name'].value_counts()\n",
    "\n",
    "# parsing the data\n",
    "fig, ax = plt.subplots(figsize=(10,4), dpi=150)\n",
    "ax.bar(df_tasting_freq.index, df_tasting_freq, width= 0.8)\n",
    "\n",
    "# setting the axis\n",
    "plt.xticks(rotation=90)\n",
    "plt.yticks([n for n in range(0, 650, 50)])\n",
    "\n",
    "# setting the style, labels and title\n",
    "plt.xlabel('Naam proever')\n",
    "plt.ylabel('Hoeveelheid beoordelingen')\n",
    "plt.title('Hoeveelheid geregistreerde beoordelingen per proever')\n",
    "sns.set_style(\"whitegrid\")\n",
    "\n",
    "# printing the plot\n",
    "plt.show()"
   ]
  },
  {
   "cell_type": "markdown",
   "metadata": {},
   "source": [
    "De aannames die de tabel aanwakkeren worden door de grafiek bevestigd. Uit de grafiek valt nog beter te zien dat de hoeveelheid beoordelingen per proever zeer onevenredig verdeeld zijn. Sommige proevers hebben zeer veel beoordelingen gegeven terwijl andere proevers veel minder hebben gegeven.  \n",
    "  \n",
    "Hierna willen we graag weten wat de minimale, maximale en gemiddelde score is per proever."
   ]
  },
  {
   "cell_type": "code",
   "execution_count": null,
   "metadata": {
    "pycharm": {
     "is_executing": true
    },
    "scrolled": false
   },
   "outputs": [],
   "source": [
    "# prepare the data_frame\n",
    "df_taster_index = df_red_wine.copy()\n",
    "df_taster_index = df_taster_index[['taster_name', 'points']]\n",
    "df_taster_index.set_index('taster_name', inplace=True)\n",
    "\n",
    "# getting the min, max and average per taster\n",
    "taster_avg = df_taster_index.groupby('taster_name').mean()\n",
    "taster_min = np.min(df_taster_index.groupby('taster_name'))\n",
    "taster_max = np.max(df_taster_index.groupby('taster_name'))\n",
    "\n",
    "# building a new dataframe with all the info per taster\n",
    "df_taster_stats = pd.concat([taster_min, taster_max, taster_avg], axis=1)\n",
    "df_taster_stats.columns = ['min points', 'max points', 'avg points']\n",
    "df_taster_stats.sort_values(['avg points'])"
   ]
  },
  {
   "cell_type": "markdown",
   "metadata": {},
   "source": [
    "Uit deze tabel valt te lezen dat het gemiddeld aantal punten ongeveer rond de 88 punten zal liggen. Om nog iets meer duidelijkheid te creeëren rondom de puntenverdeling zullen we de gegeven punten in een grafiek plotten."
   ]
  },
  {
   "cell_type": "code",
   "execution_count": null,
   "metadata": {
    "pycharm": {
     "is_executing": true
    }
   },
   "outputs": [],
   "source": [
    "# selecting the data\n",
    "data = df_red_wine['points'].value_counts().sort_index()\n",
    "\n",
    "# parsing the data\n",
    "fix, ax = plt.subplots(figsize=(10,4), dpi=150)\n",
    "ax.bar(data.index, data)\n",
    "\n",
    "# setting the axis\n",
    "plt.xticks([n for n in range(80, 101, 1)])\n",
    "\n",
    "# setting the style, labels and title\n",
    "plt.xlabel('Puntenaantal')\n",
    "plt.ylabel('Hoeveelheid stemmen')\n",
    "plt.title('Verdeling van de hoeveelheid stemmen per puntenaantal')\n",
    "sns.set_style(\"whitegrid\")\n",
    "\n",
    "# printing the plot\n",
    "plt.show()\n"
   ]
  },
  {
   "cell_type": "markdown",
   "metadata": {},
   "source": [
    "Zoals in de grafiek te zien is valt zal het gemiddelde ongeveer rond de 88 liggen. Verder is de modus ook 88. Het interessante van deze grafiek is het feit dat zo rond 89 punten een kleine dip is. Dit kan ook mede komen door de aangeleverde data."
   ]
  },
  {
   "cell_type": "markdown",
   "metadata": {},
   "source": [
    "### Prijs analyse\n",
    "Om wat meer informatie te vergaren over de prijzen is het bevorderlijk om de verdeling van de prijzen te plotten."
   ]
  },
  {
   "cell_type": "code",
   "execution_count": null,
   "metadata": {
    "pycharm": {
     "is_executing": true
    }
   },
   "outputs": [],
   "source": []
  },
  {
   "cell_type": "markdown",
   "metadata": {},
   "source": [
    "### Chemische kenmerken\n",
    "Ook qua chemische kenmerken hebben willen we graag wat analyses doen over de dataset. Deze analyses kunnen we dan hopelijk gebruiken bij het selecteren van de variabelen om de twee soorten wijnen te klassificeren.  \n",
    "  \n",
    "Allereerst vragen we de algemene statistieken op over alle chemische kenmerken."
   ]
  },
  {
   "cell_type": "code",
   "execution_count": null,
   "metadata": {
    "pycharm": {
     "is_executing": true
    }
   },
   "outputs": [],
   "source": [
    "df_red_wine.describe()"
   ]
  },
  {
   "cell_type": "markdown",
   "metadata": {},
   "source": [
    "Op het eerste gezicht zeggen deze waardes nog niet zoveel. Pas wanneer we de kolommen met de minimale, maximale en gemiddelde waarden van alle kenmerken met van de witte en rode wijn zullen (hopelijk) deze waardes veel meer zeggen. \n",
    "  \n",
    "Dus gaan we nu voor alle chemische kenmerken de minimale, maximale en gemiddelde waardes van witte en rode wijn met elkaar vergelijken."
   ]
  },
  {
   "cell_type": "code",
   "execution_count": null,
   "metadata": {
    "pycharm": {
     "is_executing": true
    }
   },
   "outputs": [],
   "source": []
  },
  {
   "cell_type": "markdown",
   "metadata": {},
   "source": [
    "## onderzoeksvraag 1"
   ]
  },
  {
   "cell_type": "code",
   "execution_count": null,
   "metadata": {
    "pycharm": {
     "is_executing": true
    }
   },
   "outputs": [],
   "source": []
  },
  {
   "cell_type": "markdown",
   "metadata": {},
   "source": [
    "## onderzoeksvraag 2"
   ]
  },
  {
   "cell_type": "code",
   "execution_count": null,
   "metadata": {
    "pycharm": {
     "is_executing": true
    }
   },
   "outputs": [],
   "source": []
  },
  {
   "cell_type": "markdown",
   "metadata": {},
   "source": [
    "## onderzoeksvraag 3\n",
    "Eerst voegen de dataframes van de rode en witte wijnen samen. Daarbij voegen we een eigenschap toe die aangeeft wat voor wijn het is."
   ]
  },
  {
   "cell_type": "code",
   "execution_count": null,
   "metadata": {
    "pycharm": {
     "is_executing": true
    }
   },
   "outputs": [],
   "source": [
    "df_red_wine.insert(0,'isRed',1)\n",
    "df_white_wine.insert(0,'isRed',0)\n",
    "df_all = pd.merge(df_red_wine,df_white_wine,how='outer',copy=False)"
   ]
  },
  {
   "cell_type": "markdown",
   "metadata": {},
   "source": [
    "De onnodige kolommen halen we er uit."
   ]
  },
  {
   "cell_type": "code",
   "execution_count": null,
   "metadata": {
    "pycharm": {
     "is_executing": true
    }
   },
   "outputs": [],
   "source": [
    "df_all.drop(['description','points','price','taster_name','title','quality'],axis=1,inplace=True)\n",
    "df_all.head()"
   ]
  },
  {
   "cell_type": "markdown",
   "metadata": {},
   "source": [
    "Hieronder zien we in de gemiddeldes gelijk een significant verschil in total/free sulfur dioxide. Verder is het onduidelijk welke andere variabelen een significante correlatie hebben."
   ]
  },
  {
   "cell_type": "code",
   "execution_count": null,
   "metadata": {},
   "outputs": [],
   "source": [
    "df_all.where(df_all['isRed']==0).mean()"
   ]
  },
  {
   "cell_type": "code",
   "execution_count": null,
   "metadata": {
    "scrolled": true
   },
   "outputs": [],
   "source": [
    "df_all.where(df_all['isRed']==1).mean()"
   ]
  },
  {
   "cell_type": "markdown",
   "metadata": {},
   "source": [
    "Hier kijken we naar de correlatie tussen wijntype rood en alle andere kolommen.\n",
    "Alle waardes van kleiner dan -0,5 en groter dan 0,5 worden groen weergegeven voor het gemak.\n",
    "Gelijk valt op dat er 5 eigenschappen een hoge correlatie lijken te hebben."
   ]
  },
  {
   "cell_type": "code",
   "execution_count": null,
   "metadata": {},
   "outputs": [],
   "source": [
    "from scipy import stats\n",
    "for column in df_all.columns:\n",
    "    c = stats.pearsonr(df_all['isRed'],df_all[column])\n",
    "    if(c[0]>0.5 or c[0]<-0.5):\n",
    "        print(\"\\033[92m\",column,c[0])\n",
    "    else:\n",
    "        print(\"\\x1b[31m\",column,c[0])"
   ]
  },
  {
   "cell_type": "markdown",
   "metadata": {},
   "source": [
    "We hebben gekozen voor KNeighborsClassifier omdat ten eerste supervised learning logisch leek omdat we alle data al wisten en daarnaast proberen we 2 groepen te onderscheiden.\n",
    "\n",
    "In eerste instantie hebben we getest met alle groene eigenschappen van hierboven. Na wat uitproberen kregen we de hoogste score door het gebruiken van volatile acidity en total sulfur dioxide.\n",
    "\n",
    "Deze geeft een score van 94,1%"
   ]
  },
  {
   "cell_type": "code",
   "execution_count": null,
   "metadata": {},
   "outputs": [],
   "source": [
    "from sklearn.model_selection import train_test_split\n",
    "# train_df,test_df = train_test_split(df_all,random_state=0)\n",
    "\n",
    "X = df_all[['volatile acidity','total sulfur dioxide']]\n",
    "y = df_all['isRed']\n",
    "\n",
    "X_train, X_test, y_train, y_test = train_test_split(X,y, random_state=0)\n",
    "# print(len(train_df),len(test_df))\n",
    "\n",
    "from sklearn.neighbors import KNeighborsClassifier\n",
    "reg = KNeighborsClassifier()\n",
    "reg.fit(X_train,y_train)\n",
    "reg.score(X_test,y_test)"
   ]
  },
  {
   "cell_type": "markdown",
   "metadata": {},
   "source": [
    "Hieronder is nog een visualisatie te zien van de echte waarden en de voorspelde."
   ]
  },
  {
   "cell_type": "code",
   "execution_count": null,
   "metadata": {},
   "outputs": [],
   "source": [
    "colorGroup = ['red' if x==1 else 'blue' for x in df_all['isRed']]\n",
    "\n",
    "fig = plt.figure(figsize=[10,10])\n",
    "ax = fig.add_subplot()\n",
    "\n",
    "ax.scatter(df_all['volatile acidity'],df_all['total sulfur dioxide'],c=colorGroup)\n",
    "\n",
    "ax.set_xlabel('Volatile acidity')\n",
    "ax.set_ylabel('Total sulfur dioxide')\n",
    "ax.set_title(\"Type wijn (echte waarden van volledige database)\")\n",
    "\n",
    "plt.show()"
   ]
  },
  {
   "cell_type": "code",
   "execution_count": null,
   "metadata": {},
   "outputs": [],
   "source": [
    "colorGroup = reg.predict(X_test)\n",
    "colorGroup = ['red' if x==0 else 'blue' for x in colorGroup]\n",
    "# X_test.plot.scatter('volatile acidity','chlorides',c=colorGroup)\n",
    "\n",
    "# colorGroup = ['red' if x==1 else 'blue' for x in df_all['isRed']]\n",
    "\n",
    "fig = plt.figure(figsize=[10,10])\n",
    "ax = fig.add_subplot()\n",
    "\n",
    "ax.scatter(X_test['volatile acidity'],X_test['total sulfur dioxide'],c=colorGroup)\n",
    "\n",
    "ax.set_xlabel('Volatile acidity')\n",
    "ax.set_ylabel('Total sulfur dioxide')\n",
    "ax.set_title(\"Type wijn (voorspelde waarden van test dataframe)\")\n",
    "\n",
    "plt.show()"
   ]
  },
  {
   "cell_type": "markdown",
   "metadata": {},
   "source": [
    "## onderzoeksvraag 4"
   ]
  },
  {
   "cell_type": "code",
   "execution_count": null,
   "metadata": {
    "pycharm": {
     "is_executing": true
    }
   },
   "outputs": [],
   "source": []
  }
 ],
 "metadata": {
  "kernelspec": {
   "display_name": "Python 3",
   "language": "python",
   "name": "python3"
  },
  "language_info": {
   "codemirror_mode": {
    "name": "ipython",
    "version": 3
   },
   "file_extension": ".py",
   "mimetype": "text/x-python",
   "name": "python",
   "nbconvert_exporter": "python",
   "pygments_lexer": "ipython3",
   "version": "3.7.4"
  }
 },
 "nbformat": 4,
 "nbformat_minor": 1
}
