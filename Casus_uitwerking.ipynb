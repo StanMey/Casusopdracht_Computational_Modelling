{
 "cells": [
  {
   "cell_type": "markdown",
   "metadata": {
    "collapsed": true,
    "pycharm": {
     "name": "#%% md\n"
    }
   },
   "source": [
    "# Analyse over Wijn\n"
   ]
  },
  {
   "cell_type": "markdown",
   "metadata": {},
   "source": [
    "## onderzoeksvragen\n",
    "- In hoeverre is de score van een Portugese Red te voorspellen op basis van de chemische kenmerken?  \n",
    "- Zijn de wijnen die met een hoge score beoordeeld zijn duurder dan wijnen met een lagere score?\n",
    "- In hoeverre kan op basis van de chemische kenmerken voorspelt worden of het een witte of rode wijn is?\n",
    "- Welke kernwoorden zijn typerend voor een hoog scorende wijn?  \n",
    "\n",
    "Wij zullen deze onderzoeksvragen zo goed mogelijk proberen te beantwoorden.\n",
    "Voor de beantwoording van deze vragen maken wij gebruik van het Data Science proces.  \n",
    "Dit proces ziet er als volgt uit:\n",
    "### Het data science proces\n",
    "1. Data collection\n",
    "2. Data processing\n",
    "3. Data cleaning\n",
    "4. Data exploration & analysis\n",
    "5. Model building\n",
    "6. Visualization\n",
    "7. Communication\n"
   ]
  },
  {
   "cell_type": "markdown",
   "metadata": {
    "pycharm": {
     "metadata": false,
     "name": "#%% md\n"
    }
   },
   "source": [
    "Allereerst zullen we de benodigde libraries importeren.\n",
    "Deze libraries zullen we gebruiken voor het analyseren en het visualiseren van de data."
   ]
  },
  {
   "cell_type": "code",
   "execution_count": 1,
   "metadata": {
    "pycharm": {
     "is_executing": false,
     "metadata": false,
     "name": "#%%\n"
    }
   },
   "outputs": [],
   "source": [
    "# data analysis libraries \n",
    "import numpy as np\n",
    "import pandas as pd\n",
    "\n",
    "# visualization libraries\n",
    "import matplotlib.pyplot as plt\n",
    "import seaborn as sns\n"
   ]
  },
  {
   "cell_type": "markdown",
   "metadata": {},
   "source": [
    "## Data Collection\n",
    "De eerste dataset die we gaan gebruiken is aan ons aangeleverd. De dataset is een csv bestand en heet: 'redwine.csv'. In de dataset staat informatie en chemische kenmerken van wijnen in Portugal. \n",
    "\n",
    "Allereerst beginnen we met het importeren van de dataset en kijken we of de dataset correct is geïmporteerd door de eerste 5 regels op te vragen."
   ]
  },
  {
   "cell_type": "code",
   "execution_count": 2,
   "metadata": {
    "pycharm": {
     "is_executing": false,
     "metadata": false,
     "name": "#%%\n"
    },
    "scrolled": false
   },
   "outputs": [
    {
     "data": {
      "text/html": [
       "<div>\n",
       "<style scoped>\n",
       "    .dataframe tbody tr th:only-of-type {\n",
       "        vertical-align: middle;\n",
       "    }\n",
       "\n",
       "    .dataframe tbody tr th {\n",
       "        vertical-align: top;\n",
       "    }\n",
       "\n",
       "    .dataframe thead th {\n",
       "        text-align: right;\n",
       "    }\n",
       "</style>\n",
       "<table border=\"1\" class=\"dataframe\">\n",
       "  <thead>\n",
       "    <tr style=\"text-align: right;\">\n",
       "      <th></th>\n",
       "      <th>id</th>\n",
       "      <th>country</th>\n",
       "      <th>description</th>\n",
       "      <th>designation</th>\n",
       "      <th>points</th>\n",
       "      <th>price</th>\n",
       "      <th>province</th>\n",
       "      <th>taster_name</th>\n",
       "      <th>title</th>\n",
       "      <th>variety</th>\n",
       "      <th>...</th>\n",
       "      <th>volatile acidity</th>\n",
       "      <th>citric acid</th>\n",
       "      <th>residual sugar</th>\n",
       "      <th>chlorides</th>\n",
       "      <th>free sulfur dioxide</th>\n",
       "      <th>total sulfur dioxide</th>\n",
       "      <th>density</th>\n",
       "      <th>pH</th>\n",
       "      <th>sulphates</th>\n",
       "      <th>alcohol</th>\n",
       "    </tr>\n",
       "  </thead>\n",
       "  <tbody>\n",
       "    <tr>\n",
       "      <th>0</th>\n",
       "      <td>1</td>\n",
       "      <td>Portugal</td>\n",
       "      <td>This is ripe and fruity, a wine that is smooth...</td>\n",
       "      <td>Avidagos</td>\n",
       "      <td>87</td>\n",
       "      <td>15.0</td>\n",
       "      <td>Douro</td>\n",
       "      <td>Kerin O’Keefe</td>\n",
       "      <td>Quinta dos Avidagos 2011 Avidagos Red (Douro)</td>\n",
       "      <td>Portuguese Red</td>\n",
       "      <td>...</td>\n",
       "      <td>0.29</td>\n",
       "      <td>0.4</td>\n",
       "      <td>2.9</td>\n",
       "      <td>0.098</td>\n",
       "      <td>10.0</td>\n",
       "      <td>26.0</td>\n",
       "      <td>10.006</td>\n",
       "      <td>3.48</td>\n",
       "      <td>0.91</td>\n",
       "      <td>9.7</td>\n",
       "    </tr>\n",
       "    <tr>\n",
       "      <th>1</th>\n",
       "      <td>2</td>\n",
       "      <td>Portugal</td>\n",
       "      <td>From an estate in the south of the Alentejo, t...</td>\n",
       "      <td>Grande Reserva Tinto</td>\n",
       "      <td>91</td>\n",
       "      <td>26.0</td>\n",
       "      <td>Alentejano</td>\n",
       "      <td>Roger Voss</td>\n",
       "      <td>Casa Santa Vitória 2013 Grande Reserva Tinto R...</td>\n",
       "      <td>Portuguese Red</td>\n",
       "      <td>...</td>\n",
       "      <td>0.26</td>\n",
       "      <td>0.37</td>\n",
       "      <td>1.4</td>\n",
       "      <td>0.076</td>\n",
       "      <td>8.0</td>\n",
       "      <td>23.0</td>\n",
       "      <td>0.9974</td>\n",
       "      <td>3.26</td>\n",
       "      <td>0.70</td>\n",
       "      <td>9.6</td>\n",
       "    </tr>\n",
       "    <tr>\n",
       "      <th>2</th>\n",
       "      <td>3</td>\n",
       "      <td>Portugal</td>\n",
       "      <td>A year in wood and 30 months in bottle before ...</td>\n",
       "      <td>Montes Claros Garrafeira</td>\n",
       "      <td>90</td>\n",
       "      <td>28.0</td>\n",
       "      <td>Alentejo</td>\n",
       "      <td>Paul Gregutt</td>\n",
       "      <td>Adega Cooperativa de Borba 2012 Montes Claros ...</td>\n",
       "      <td>Portuguese Red</td>\n",
       "      <td>...</td>\n",
       "      <td>0.69</td>\n",
       "      <td>0.07</td>\n",
       "      <td>2.5</td>\n",
       "      <td>0.091</td>\n",
       "      <td>15.0</td>\n",
       "      <td>21.0</td>\n",
       "      <td>0.99572</td>\n",
       "      <td>3.38</td>\n",
       "      <td>0.60</td>\n",
       "      <td>11.3</td>\n",
       "    </tr>\n",
       "    <tr>\n",
       "      <th>3</th>\n",
       "      <td>4</td>\n",
       "      <td>Portugal</td>\n",
       "      <td>Wood aging gives this ripe blend of Baga and T...</td>\n",
       "      <td>NaN</td>\n",
       "      <td>90</td>\n",
       "      <td>20.0</td>\n",
       "      <td>Beira Atlantico</td>\n",
       "      <td>Alexander Peartree</td>\n",
       "      <td>Quinta de Foz de Arouce 2013 Red (Beira Atlant...</td>\n",
       "      <td>Portuguese Red</td>\n",
       "      <td>...</td>\n",
       "      <td>0.69</td>\n",
       "      <td>0.07</td>\n",
       "      <td>2.5</td>\n",
       "      <td>0.091</td>\n",
       "      <td>15.0</td>\n",
       "      <td>21.0</td>\n",
       "      <td>0.99572</td>\n",
       "      <td>3.38</td>\n",
       "      <td>0.60</td>\n",
       "      <td>11.3</td>\n",
       "    </tr>\n",
       "    <tr>\n",
       "      <th>4</th>\n",
       "      <td>5</td>\n",
       "      <td>Portugal</td>\n",
       "      <td>A powerful wine, richly structured and full of...</td>\n",
       "      <td>Gerações Colheita Seleccionada</td>\n",
       "      <td>92</td>\n",
       "      <td>34.0</td>\n",
       "      <td>Alentejano</td>\n",
       "      <td>Paul Gregutt</td>\n",
       "      <td>Herdade Grande 2010 Gerações Colheita Seleccio...</td>\n",
       "      <td>Portuguese Red</td>\n",
       "      <td>...</td>\n",
       "      <td>0.48</td>\n",
       "      <td>0.34</td>\n",
       "      <td>2.2</td>\n",
       "      <td>0.073</td>\n",
       "      <td>16.0</td>\n",
       "      <td>25.0</td>\n",
       "      <td>0.9936</td>\n",
       "      <td>3.28</td>\n",
       "      <td>0.66</td>\n",
       "      <td>12.4</td>\n",
       "    </tr>\n",
       "  </tbody>\n",
       "</table>\n",
       "<p>5 rows × 22 columns</p>\n",
       "</div>"
      ],
      "text/plain": [
       "   id   country                                        description  \\\n",
       "0   1  Portugal  This is ripe and fruity, a wine that is smooth...   \n",
       "1   2  Portugal  From an estate in the south of the Alentejo, t...   \n",
       "2   3  Portugal  A year in wood and 30 months in bottle before ...   \n",
       "3   4  Portugal  Wood aging gives this ripe blend of Baga and T...   \n",
       "4   5  Portugal  A powerful wine, richly structured and full of...   \n",
       "\n",
       "                      designation  points  price         province  \\\n",
       "0                        Avidagos      87   15.0            Douro   \n",
       "1            Grande Reserva Tinto      91   26.0       Alentejano   \n",
       "2        Montes Claros Garrafeira      90   28.0         Alentejo   \n",
       "3                             NaN      90   20.0  Beira Atlantico   \n",
       "4  Gerações Colheita Seleccionada      92   34.0       Alentejano   \n",
       "\n",
       "          taster_name                                              title  \\\n",
       "0       Kerin O’Keefe      Quinta dos Avidagos 2011 Avidagos Red (Douro)   \n",
       "1          Roger Voss  Casa Santa Vitória 2013 Grande Reserva Tinto R...   \n",
       "2        Paul Gregutt  Adega Cooperativa de Borba 2012 Montes Claros ...   \n",
       "3  Alexander Peartree  Quinta de Foz de Arouce 2013 Red (Beira Atlant...   \n",
       "4        Paul Gregutt  Herdade Grande 2010 Gerações Colheita Seleccio...   \n",
       "\n",
       "          variety   ...    volatile acidity  citric acid  residual sugar  \\\n",
       "0  Portuguese Red   ...                0.29          0.4             2.9   \n",
       "1  Portuguese Red   ...                0.26         0.37             1.4   \n",
       "2  Portuguese Red   ...                0.69         0.07             2.5   \n",
       "3  Portuguese Red   ...                0.69         0.07             2.5   \n",
       "4  Portuguese Red   ...                0.48         0.34             2.2   \n",
       "\n",
       "  chlorides  free sulfur dioxide  total sulfur dioxide  density    pH  \\\n",
       "0     0.098                 10.0                  26.0   10.006  3.48   \n",
       "1     0.076                  8.0                  23.0   0.9974  3.26   \n",
       "2     0.091                 15.0                  21.0  0.99572  3.38   \n",
       "3     0.091                 15.0                  21.0  0.99572  3.38   \n",
       "4     0.073                 16.0                  25.0   0.9936  3.28   \n",
       "\n",
       "  sulphates  alcohol  \n",
       "0      0.91      9.7  \n",
       "1      0.70      9.6  \n",
       "2      0.60     11.3  \n",
       "3      0.60     11.3  \n",
       "4      0.66     12.4  \n",
       "\n",
       "[5 rows x 22 columns]"
      ]
     },
     "execution_count": 2,
     "metadata": {},
     "output_type": "execute_result"
    }
   ],
   "source": [
    "# import the data files\n",
    "df_red_wine = pd.read_csv(\"data/redwine.csv\", sep=\";\")\n",
    "df_red_wine.head()"
   ]
  },
  {
   "cell_type": "markdown",
   "metadata": {},
   "source": [
    "### externe dataset\n",
    "Aangezien onze eerste dataset alleen maar kenmerken van rode wijn bevat zijn wij gaan zoeken naar een dataset met kenmerken van witte wijn.  \n",
    "  \n",
    "De dataset komt van de volgende website: https://archive.ics.uci.edu/ml/datasets/wine+quality  \n",
    "  \n",
    "Ook deze dataset gaan we importeren om hierna te controleren of hij goed geïmporteerd is."
   ]
  },
  {
   "cell_type": "code",
   "execution_count": 3,
   "metadata": {},
   "outputs": [
    {
     "data": {
      "text/html": [
       "<div>\n",
       "<style scoped>\n",
       "    .dataframe tbody tr th:only-of-type {\n",
       "        vertical-align: middle;\n",
       "    }\n",
       "\n",
       "    .dataframe tbody tr th {\n",
       "        vertical-align: top;\n",
       "    }\n",
       "\n",
       "    .dataframe thead th {\n",
       "        text-align: right;\n",
       "    }\n",
       "</style>\n",
       "<table border=\"1\" class=\"dataframe\">\n",
       "  <thead>\n",
       "    <tr style=\"text-align: right;\">\n",
       "      <th></th>\n",
       "      <th>fixed acidity</th>\n",
       "      <th>volatile acidity</th>\n",
       "      <th>citric acid</th>\n",
       "      <th>residual sugar</th>\n",
       "      <th>chlorides</th>\n",
       "      <th>free sulfur dioxide</th>\n",
       "      <th>total sulfur dioxide</th>\n",
       "      <th>density</th>\n",
       "      <th>pH</th>\n",
       "      <th>sulphates</th>\n",
       "      <th>alcohol</th>\n",
       "      <th>quality</th>\n",
       "    </tr>\n",
       "  </thead>\n",
       "  <tbody>\n",
       "    <tr>\n",
       "      <th>0</th>\n",
       "      <td>7.0</td>\n",
       "      <td>0.27</td>\n",
       "      <td>0.36</td>\n",
       "      <td>20.7</td>\n",
       "      <td>0.045</td>\n",
       "      <td>45.0</td>\n",
       "      <td>170.0</td>\n",
       "      <td>1.0010</td>\n",
       "      <td>3.00</td>\n",
       "      <td>0.45</td>\n",
       "      <td>8.8</td>\n",
       "      <td>6</td>\n",
       "    </tr>\n",
       "    <tr>\n",
       "      <th>1</th>\n",
       "      <td>6.3</td>\n",
       "      <td>0.30</td>\n",
       "      <td>0.34</td>\n",
       "      <td>1.6</td>\n",
       "      <td>0.049</td>\n",
       "      <td>14.0</td>\n",
       "      <td>132.0</td>\n",
       "      <td>0.9940</td>\n",
       "      <td>3.30</td>\n",
       "      <td>0.49</td>\n",
       "      <td>9.5</td>\n",
       "      <td>6</td>\n",
       "    </tr>\n",
       "    <tr>\n",
       "      <th>2</th>\n",
       "      <td>8.1</td>\n",
       "      <td>0.28</td>\n",
       "      <td>0.40</td>\n",
       "      <td>6.9</td>\n",
       "      <td>0.050</td>\n",
       "      <td>30.0</td>\n",
       "      <td>97.0</td>\n",
       "      <td>0.9951</td>\n",
       "      <td>3.26</td>\n",
       "      <td>0.44</td>\n",
       "      <td>10.1</td>\n",
       "      <td>6</td>\n",
       "    </tr>\n",
       "    <tr>\n",
       "      <th>3</th>\n",
       "      <td>7.2</td>\n",
       "      <td>0.23</td>\n",
       "      <td>0.32</td>\n",
       "      <td>8.5</td>\n",
       "      <td>0.058</td>\n",
       "      <td>47.0</td>\n",
       "      <td>186.0</td>\n",
       "      <td>0.9956</td>\n",
       "      <td>3.19</td>\n",
       "      <td>0.40</td>\n",
       "      <td>9.9</td>\n",
       "      <td>6</td>\n",
       "    </tr>\n",
       "    <tr>\n",
       "      <th>4</th>\n",
       "      <td>7.2</td>\n",
       "      <td>0.23</td>\n",
       "      <td>0.32</td>\n",
       "      <td>8.5</td>\n",
       "      <td>0.058</td>\n",
       "      <td>47.0</td>\n",
       "      <td>186.0</td>\n",
       "      <td>0.9956</td>\n",
       "      <td>3.19</td>\n",
       "      <td>0.40</td>\n",
       "      <td>9.9</td>\n",
       "      <td>6</td>\n",
       "    </tr>\n",
       "  </tbody>\n",
       "</table>\n",
       "</div>"
      ],
      "text/plain": [
       "   fixed acidity  volatile acidity  citric acid  residual sugar  chlorides  \\\n",
       "0            7.0              0.27         0.36            20.7      0.045   \n",
       "1            6.3              0.30         0.34             1.6      0.049   \n",
       "2            8.1              0.28         0.40             6.9      0.050   \n",
       "3            7.2              0.23         0.32             8.5      0.058   \n",
       "4            7.2              0.23         0.32             8.5      0.058   \n",
       "\n",
       "   free sulfur dioxide  total sulfur dioxide  density    pH  sulphates  \\\n",
       "0                 45.0                 170.0   1.0010  3.00       0.45   \n",
       "1                 14.0                 132.0   0.9940  3.30       0.49   \n",
       "2                 30.0                  97.0   0.9951  3.26       0.44   \n",
       "3                 47.0                 186.0   0.9956  3.19       0.40   \n",
       "4                 47.0                 186.0   0.9956  3.19       0.40   \n",
       "\n",
       "   alcohol  quality  \n",
       "0      8.8        6  \n",
       "1      9.5        6  \n",
       "2     10.1        6  \n",
       "3      9.9        6  \n",
       "4      9.9        6  "
      ]
     },
     "execution_count": 3,
     "metadata": {},
     "output_type": "execute_result"
    }
   ],
   "source": [
    "df_white_wine = pd.read_csv(\"data/winequality-white.csv\", sep=\";\")\n",
    "df_white_wine.head()"
   ]
  },
  {
   "cell_type": "markdown",
   "metadata": {},
   "source": [
    "## Data Processing\n",
    "Aangezien de bestanden met de data al in een csv bestand staan kunnen deze direct in een dataframe worden ingelezen.  \n",
    "Nu is het nog aan ons om te beslissen of er nog kolomnamen zijn die aangepast moeten worden en welke kolommen we gaan droppen.  \n",
    "In totaal heeft deze dataset 22 kolommen. Om uit te zoeken welke kolommen essentieel zijn voor het verdere proces gaan we nu eerste kijken hoe de kolommen heten."
   ]
  },
  {
   "cell_type": "code",
   "execution_count": 4,
   "metadata": {
    "pycharm": {
     "is_executing": false,
     "metadata": false,
     "name": "#%%\n"
    },
    "scrolled": true
   },
   "outputs": [
    {
     "data": {
      "text/plain": [
       "Index(['id', 'country', 'description', 'designation', 'points', 'price',\n",
       "       'province', 'taster_name', 'title', 'variety', 'winery',\n",
       "       'fixed acidity', 'volatile acidity', 'citric acid', 'residual sugar',\n",
       "       'chlorides', 'free sulfur dioxide', 'total sulfur dioxide', 'density',\n",
       "       'pH', 'sulphates', 'alcohol'],\n",
       "      dtype='object')"
      ]
     },
     "execution_count": 4,
     "metadata": {},
     "output_type": "execute_result"
    }
   ],
   "source": [
    "df_red_wine.columns"
   ]
  },
  {
   "cell_type": "markdown",
   "metadata": {
    "pycharm": {
     "metadata": false,
     "name": "#%% md\n"
    }
   },
   "source": [
    "Om goed te kunnen begrijpen met welke data we hier mee te maken hebben is hieronder voor iedere kolom de betekenis van de data die erin staat gegeven.  \n",
    "\n",
    "- **id**  \n",
    "    Een uniek nummer voor iedere rij\n",
    "- **Country**  \n",
    "    Het land waar de wijn vandaan komt\n",
    "- **Description**  \n",
    "    De beschrijving van de wijn\n",
    "- **Designation**  \n",
    "    De wijngaard waar tenminste 85% van de druiven vandaan komen\n",
    "- **Points**  \n",
    "    De hoeveelheid punten die de wijn heeft gekregen van de proever\n",
    "- **Price**  \n",
    "    De prijs van de wijn\n",
    "- **Province**  \n",
    "    De provincie waar de wijn\n",
    "- **Taster_name**  \n",
    "    De volledige naam van de proever\n",
    "- **Title**  \n",
    "    De titel die normaliter op het wijnetiket staat\n",
    "- **Variety**  \n",
    "    Het type druif dat gebruikt wordt\n",
    "- **Winery**  \n",
    "    Het bedrijf waar de wijn geproduceerd is\n",
    "- **Fixed acidity**  \n",
    "    \n",
    "- **Volatile acidity**  \n",
    "    \n",
    "- **Citric acid**  \n",
    "    \n",
    "    citric acid can add ‘freshness’ and flavor to wines\n",
    "- **Residual sugar**  \n",
    "    \n",
    "- **Chlorides**  \n",
    "    De hoeveelheid zout in de wijn\n",
    "- **Free sulfur dioxide**  \n",
    "    \n",
    "- **Total sulfur dioxide**  \n",
    "    \n",
    "- **Density**  \n",
    "    \n",
    "- **pH**  \n",
    "    Is een maat voor de zuurgraad van een waterige oplossing. De schaal gaat van 0 (zuur) tot 14 (basisch). De meeste wijnen zitten tussen de 2.8 en de 4.0\n",
    "- **Sulphates (sulfites)**  \n",
    "    \n",
    "- **Alcohol**  \n",
    "    Het percentage alcohol in de wijn\n",
    "\n",
    "Voor het uitzoeken van de betekenis van deze termen/kolommen zijn de volgende bronnen gebruikt:  \n",
    "- https://www.gall.nl/ontdek/wijn/de-zuurgraad-van-wijn/\n",
    "- https://winecompliancealliance.com/vinyard-designation-on-a-wine-label/\n",
    "- http://rstudio-pubs-static.s3.amazonaws.com/80458_5000e31f84df449099a872ccf40747b7.html\n"
   ]
  },
  {
   "cell_type": "markdown",
   "metadata": {},
   "source": [
    "Bij deze dataset hebben we al de voorkennis dat al deze wijnen uit Portugal komen. Hierdoor hoeven we de kolom 'country' niet te gebruiken. Verder geeft 'variety' aan met wat voor druif we te maken hebben, waarschijnlijk zal dit ook maar één unieke waarde hebben.  \n",
    "Voordat we deze kolommen weggooien checken we nog voor de zekerheid of onze aannames kloppen. "
   ]
  },
  {
   "cell_type": "code",
   "execution_count": 5,
   "metadata": {},
   "outputs": [
    {
     "data": {
      "text/plain": [
       "array(['Portugal'], dtype=object)"
      ]
     },
     "execution_count": 5,
     "metadata": {},
     "output_type": "execute_result"
    }
   ],
   "source": [
    "df_red_wine['country'].unique()"
   ]
  },
  {
   "cell_type": "code",
   "execution_count": 6,
   "metadata": {},
   "outputs": [
    {
     "data": {
      "text/plain": [
       "array(['Portuguese Red'], dtype=object)"
      ]
     },
     "execution_count": 6,
     "metadata": {},
     "output_type": "execute_result"
    }
   ],
   "source": [
    "df_red_wine['variety'].unique()"
   ]
  },
  {
   "cell_type": "markdown",
   "metadata": {},
   "source": [
    "Onze aannames blijken te kloppen. We hebben hier twee keer te maken met een kolom met maar één unieke waarde. Deze kolommen kunnen dus gedropt worden."
   ]
  },
  {
   "cell_type": "code",
   "execution_count": 7,
   "metadata": {},
   "outputs": [],
   "source": [
    "df_red_wine.drop(['country', 'variety'], axis=1, inplace=True)"
   ]
  },
  {
   "cell_type": "markdown",
   "metadata": {},
   "source": [
    "Op basis van onze onderzoeksvragen kunnen we ook de kolommen 'Designation', 'winery' en 'Province' laten vallen. Dit omdat we voor de beantwoording van onze onderzoeksvragen geen onderscheid hoeven te maken tussen de verschillende provincies of de wijngaarden waar de wijn vandaan kan komen."
   ]
  },
  {
   "cell_type": "code",
   "execution_count": 8,
   "metadata": {},
   "outputs": [],
   "source": [
    "df_red_wine.drop(['designation', 'province', 'winery'], axis=1, inplace=True)"
   ]
  },
  {
   "cell_type": "markdown",
   "metadata": {},
   "source": [
    "Verder maken we van de kolom 'id' de index"
   ]
  },
  {
   "cell_type": "code",
   "execution_count": 9,
   "metadata": {},
   "outputs": [
    {
     "data": {
      "text/html": [
       "<div>\n",
       "<style scoped>\n",
       "    .dataframe tbody tr th:only-of-type {\n",
       "        vertical-align: middle;\n",
       "    }\n",
       "\n",
       "    .dataframe tbody tr th {\n",
       "        vertical-align: top;\n",
       "    }\n",
       "\n",
       "    .dataframe thead th {\n",
       "        text-align: right;\n",
       "    }\n",
       "</style>\n",
       "<table border=\"1\" class=\"dataframe\">\n",
       "  <thead>\n",
       "    <tr style=\"text-align: right;\">\n",
       "      <th></th>\n",
       "      <th>description</th>\n",
       "      <th>points</th>\n",
       "      <th>price</th>\n",
       "      <th>taster_name</th>\n",
       "      <th>title</th>\n",
       "      <th>fixed acidity</th>\n",
       "      <th>volatile acidity</th>\n",
       "      <th>citric acid</th>\n",
       "      <th>residual sugar</th>\n",
       "      <th>chlorides</th>\n",
       "      <th>free sulfur dioxide</th>\n",
       "      <th>total sulfur dioxide</th>\n",
       "      <th>density</th>\n",
       "      <th>pH</th>\n",
       "      <th>sulphates</th>\n",
       "      <th>alcohol</th>\n",
       "    </tr>\n",
       "    <tr>\n",
       "      <th>id</th>\n",
       "      <th></th>\n",
       "      <th></th>\n",
       "      <th></th>\n",
       "      <th></th>\n",
       "      <th></th>\n",
       "      <th></th>\n",
       "      <th></th>\n",
       "      <th></th>\n",
       "      <th></th>\n",
       "      <th></th>\n",
       "      <th></th>\n",
       "      <th></th>\n",
       "      <th></th>\n",
       "      <th></th>\n",
       "      <th></th>\n",
       "      <th></th>\n",
       "    </tr>\n",
       "  </thead>\n",
       "  <tbody>\n",
       "    <tr>\n",
       "      <th>1</th>\n",
       "      <td>This is ripe and fruity, a wine that is smooth...</td>\n",
       "      <td>87</td>\n",
       "      <td>15.0</td>\n",
       "      <td>Kerin O’Keefe</td>\n",
       "      <td>Quinta dos Avidagos 2011 Avidagos Red (Douro)</td>\n",
       "      <td>10.0</td>\n",
       "      <td>0.29</td>\n",
       "      <td>0.4</td>\n",
       "      <td>2.9</td>\n",
       "      <td>0.098</td>\n",
       "      <td>10.0</td>\n",
       "      <td>26.0</td>\n",
       "      <td>10.006</td>\n",
       "      <td>3.48</td>\n",
       "      <td>0.91</td>\n",
       "      <td>9.7</td>\n",
       "    </tr>\n",
       "    <tr>\n",
       "      <th>2</th>\n",
       "      <td>From an estate in the south of the Alentejo, t...</td>\n",
       "      <td>91</td>\n",
       "      <td>26.0</td>\n",
       "      <td>Roger Voss</td>\n",
       "      <td>Casa Santa Vitória 2013 Grande Reserva Tinto R...</td>\n",
       "      <td>8.3</td>\n",
       "      <td>0.26</td>\n",
       "      <td>0.37</td>\n",
       "      <td>1.4</td>\n",
       "      <td>0.076</td>\n",
       "      <td>8.0</td>\n",
       "      <td>23.0</td>\n",
       "      <td>0.9974</td>\n",
       "      <td>3.26</td>\n",
       "      <td>0.70</td>\n",
       "      <td>9.6</td>\n",
       "    </tr>\n",
       "    <tr>\n",
       "      <th>3</th>\n",
       "      <td>A year in wood and 30 months in bottle before ...</td>\n",
       "      <td>90</td>\n",
       "      <td>28.0</td>\n",
       "      <td>Paul Gregutt</td>\n",
       "      <td>Adega Cooperativa de Borba 2012 Montes Claros ...</td>\n",
       "      <td>7.0</td>\n",
       "      <td>0.69</td>\n",
       "      <td>0.07</td>\n",
       "      <td>2.5</td>\n",
       "      <td>0.091</td>\n",
       "      <td>15.0</td>\n",
       "      <td>21.0</td>\n",
       "      <td>0.99572</td>\n",
       "      <td>3.38</td>\n",
       "      <td>0.60</td>\n",
       "      <td>11.3</td>\n",
       "    </tr>\n",
       "    <tr>\n",
       "      <th>4</th>\n",
       "      <td>Wood aging gives this ripe blend of Baga and T...</td>\n",
       "      <td>90</td>\n",
       "      <td>20.0</td>\n",
       "      <td>Alexander Peartree</td>\n",
       "      <td>Quinta de Foz de Arouce 2013 Red (Beira Atlant...</td>\n",
       "      <td>7.0</td>\n",
       "      <td>0.69</td>\n",
       "      <td>0.07</td>\n",
       "      <td>2.5</td>\n",
       "      <td>0.091</td>\n",
       "      <td>15.0</td>\n",
       "      <td>21.0</td>\n",
       "      <td>0.99572</td>\n",
       "      <td>3.38</td>\n",
       "      <td>0.60</td>\n",
       "      <td>11.3</td>\n",
       "    </tr>\n",
       "    <tr>\n",
       "      <th>5</th>\n",
       "      <td>A powerful wine, richly structured and full of...</td>\n",
       "      <td>92</td>\n",
       "      <td>34.0</td>\n",
       "      <td>Paul Gregutt</td>\n",
       "      <td>Herdade Grande 2010 Gerações Colheita Seleccio...</td>\n",
       "      <td>8.0</td>\n",
       "      <td>0.48</td>\n",
       "      <td>0.34</td>\n",
       "      <td>2.2</td>\n",
       "      <td>0.073</td>\n",
       "      <td>16.0</td>\n",
       "      <td>25.0</td>\n",
       "      <td>0.9936</td>\n",
       "      <td>3.28</td>\n",
       "      <td>0.66</td>\n",
       "      <td>12.4</td>\n",
       "    </tr>\n",
       "  </tbody>\n",
       "</table>\n",
       "</div>"
      ],
      "text/plain": [
       "                                          description  points  price  \\\n",
       "id                                                                     \n",
       "1   This is ripe and fruity, a wine that is smooth...      87   15.0   \n",
       "2   From an estate in the south of the Alentejo, t...      91   26.0   \n",
       "3   A year in wood and 30 months in bottle before ...      90   28.0   \n",
       "4   Wood aging gives this ripe blend of Baga and T...      90   20.0   \n",
       "5   A powerful wine, richly structured and full of...      92   34.0   \n",
       "\n",
       "           taster_name                                              title  \\\n",
       "id                                                                          \n",
       "1        Kerin O’Keefe      Quinta dos Avidagos 2011 Avidagos Red (Douro)   \n",
       "2           Roger Voss  Casa Santa Vitória 2013 Grande Reserva Tinto R...   \n",
       "3         Paul Gregutt  Adega Cooperativa de Borba 2012 Montes Claros ...   \n",
       "4   Alexander Peartree  Quinta de Foz de Arouce 2013 Red (Beira Atlant...   \n",
       "5         Paul Gregutt  Herdade Grande 2010 Gerações Colheita Seleccio...   \n",
       "\n",
       "    fixed acidity  volatile acidity citric acid  residual sugar  chlorides  \\\n",
       "id                                                                           \n",
       "1            10.0              0.29         0.4             2.9      0.098   \n",
       "2             8.3              0.26        0.37             1.4      0.076   \n",
       "3             7.0              0.69        0.07             2.5      0.091   \n",
       "4             7.0              0.69        0.07             2.5      0.091   \n",
       "5             8.0              0.48        0.34             2.2      0.073   \n",
       "\n",
       "    free sulfur dioxide  total sulfur dioxide  density    pH  sulphates  \\\n",
       "id                                                                        \n",
       "1                  10.0                  26.0   10.006  3.48       0.91   \n",
       "2                   8.0                  23.0   0.9974  3.26       0.70   \n",
       "3                  15.0                  21.0  0.99572  3.38       0.60   \n",
       "4                  15.0                  21.0  0.99572  3.38       0.60   \n",
       "5                  16.0                  25.0   0.9936  3.28       0.66   \n",
       "\n",
       "   alcohol  \n",
       "id          \n",
       "1      9.7  \n",
       "2      9.6  \n",
       "3     11.3  \n",
       "4     11.3  \n",
       "5     12.4  "
      ]
     },
     "execution_count": 9,
     "metadata": {},
     "output_type": "execute_result"
    }
   ],
   "source": [
    "df_red_wine.set_index('id', inplace=True)\n",
    "df_red_wine.head()"
   ]
  },
  {
   "cell_type": "markdown",
   "metadata": {},
   "source": [
    "## Data cleaning\n",
    "Nu de data bewerkt is kunnen we tot de volgende stap overgaan: het opschonen van de data. Hierbij gaan we op zoek naar missende en dubbele waarden, outliers en onvolkomenheden.  \n",
    "Allereerst gaan we opzoek naar rijen waar waarden missen."
   ]
  },
  {
   "cell_type": "code",
   "execution_count": 10,
   "metadata": {},
   "outputs": [
    {
     "data": {
      "text/plain": [
       "2465"
      ]
     },
     "execution_count": 10,
     "metadata": {},
     "output_type": "execute_result"
    }
   ],
   "source": [
    "len(df_red_wine)"
   ]
  },
  {
   "cell_type": "code",
   "execution_count": 11,
   "metadata": {
    "scrolled": true
   },
   "outputs": [
    {
     "data": {
      "text/plain": [
       "description               0\n",
       "points                    0\n",
       "price                   269\n",
       "taster_name               0\n",
       "title                     0\n",
       "fixed acidity             0\n",
       "volatile acidity          0\n",
       "citric acid               0\n",
       "residual sugar            0\n",
       "chlorides                 0\n",
       "free sulfur dioxide       0\n",
       "total sulfur dioxide      0\n",
       "density                   0\n",
       "pH                        0\n",
       "sulphates                 0\n",
       "alcohol                   0\n",
       "dtype: int64"
      ]
     },
     "execution_count": 11,
     "metadata": {},
     "output_type": "execute_result"
    }
   ],
   "source": [
    "pd.isnull(df_red_wine).sum()"
   ]
  },
  {
   "cell_type": "markdown",
   "metadata": {},
   "source": [
    "Hier zien we dat er 269 missende waarden zijn en dat die waarden zich allemaal in de 'price' kolom bevinden. Deze waarde hebben we echter wel voor één van de onderzoeksvragen. Hier hebben wij de afweging gemaakt om deze waarden te verwijderen.  \n",
    "Deze keuze is gebaseerd op het feit dat we nu ongeveer 12% van de data weggooien en we dus nog genoeg data behouden om te onderzoeken of er een relatie zit tussen de prijs en de hoeveelheid punten van een fles wijn.  \n",
    "We droppen dus alle rijen met missende waardes en tegelijkertijd verwijderen we duplicate rijen."
   ]
  },
  {
   "cell_type": "code",
   "execution_count": 12,
   "metadata": {},
   "outputs": [],
   "source": [
    "# deleting the rows with empty values\n",
    "df_red_wine.dropna(inplace=True)\n",
    "# deleting the duplicates rows\n",
    "df_red_wine.drop_duplicates(inplace=True)"
   ]
  },
  {
   "cell_type": "markdown",
   "metadata": {},
   "source": []
  },
  {
   "cell_type": "code",
   "execution_count": 13,
   "metadata": {},
   "outputs": [
    {
     "data": {
      "text/plain": [
       "description              object\n",
       "points                    int64\n",
       "price                   float64\n",
       "taster_name              object\n",
       "title                    object\n",
       "fixed acidity           float64\n",
       "volatile acidity        float64\n",
       "citric acid              object\n",
       "residual sugar          float64\n",
       "chlorides               float64\n",
       "free sulfur dioxide     float64\n",
       "total sulfur dioxide    float64\n",
       "density                  object\n",
       "pH                      float64\n",
       "sulphates               float64\n",
       "alcohol                  object\n",
       "dtype: object"
      ]
     },
     "execution_count": 13,
     "metadata": {},
     "output_type": "execute_result"
    }
   ],
   "source": [
    "df_red_wine.dtypes"
   ]
  },
  {
   "cell_type": "markdown",
   "metadata": {},
   "source": []
  },
  {
   "cell_type": "code",
   "execution_count": 14,
   "metadata": {},
   "outputs": [
    {
     "data": {
      "text/plain": [
       "description               0\n",
       "points                    0\n",
       "price                     0\n",
       "taster_name               0\n",
       "title                     0\n",
       "fixed acidity             0\n",
       "volatile acidity          0\n",
       "citric acid             183\n",
       "residual sugar            0\n",
       "chlorides                 0\n",
       "free sulfur dioxide       0\n",
       "total sulfur dioxide      0\n",
       "density                   1\n",
       "pH                        0\n",
       "sulphates                 0\n",
       "alcohol                  10\n",
       "dtype: int64"
      ]
     },
     "execution_count": 14,
     "metadata": {},
     "output_type": "execute_result"
    }
   ],
   "source": [
    "df_red_wine['citric acid'] = pd.to_numeric(df_red_wine['citric acid'], errors='coerce')\n",
    "df_red_wine['density'] = pd.to_numeric(df_red_wine['density'], errors='coerce')\n",
    "df_red_wine['alcohol'] = pd.to_numeric(df_red_wine['alcohol'], errors='coerce')\n",
    "\n",
    "pd.isnull(df_red_wine).sum()"
   ]
  },
  {
   "cell_type": "markdown",
   "metadata": {},
   "source": []
  },
  {
   "cell_type": "code",
   "execution_count": 15,
   "metadata": {},
   "outputs": [
    {
     "data": {
      "text/plain": [
       "description             0\n",
       "points                  0\n",
       "price                   0\n",
       "taster_name             0\n",
       "title                   0\n",
       "fixed acidity           0\n",
       "volatile acidity        0\n",
       "citric acid             0\n",
       "residual sugar          0\n",
       "chlorides               0\n",
       "free sulfur dioxide     0\n",
       "total sulfur dioxide    0\n",
       "density                 0\n",
       "pH                      0\n",
       "sulphates               0\n",
       "alcohol                 0\n",
       "dtype: int64"
      ]
     },
     "execution_count": 15,
     "metadata": {},
     "output_type": "execute_result"
    }
   ],
   "source": [
    "df_red_wine.interpolate(inplace=True)\n",
    "pd.isnull(df_red_wine).sum()"
   ]
  },
  {
   "cell_type": "markdown",
   "metadata": {},
   "source": [
    "## Data Exploration"
   ]
  },
  {
   "cell_type": "markdown",
   "metadata": {},
   "source": [
    "### De wijnproevers\n",
    "Aangezien we met wijnproevers te maken hebben is alle data over de punten die aan een wijn toegedeeld zijn subjectief. Allereerst willen we dus wat inzicht krijgen over het gedrag van deze groep bij de toekenning van de punten.  \n",
    "  \n",
    "Eerst gaan we kijken met hoeveel wijnproevers we in totaal te maken hebben."
   ]
  },
  {
   "cell_type": "code",
   "execution_count": 16,
   "metadata": {},
   "outputs": [
    {
     "data": {
      "text/plain": [
       "18"
      ]
     },
     "execution_count": 16,
     "metadata": {},
     "output_type": "execute_result"
    }
   ],
   "source": [
    "len(df_red_wine['taster_name'].unique())"
   ]
  },
  {
   "cell_type": "markdown",
   "metadata": {},
   "source": [
    "We hebben dus met 18 verschillende wijnproevers te maken.  \n",
    "Hierna gaan we kijken of de hoeveelheid gegeven beoordelingen van de wijnproevers gelijk verdeeld zijn."
   ]
  },
  {
   "cell_type": "code",
   "execution_count": 17,
   "metadata": {},
   "outputs": [
    {
     "data": {
      "text/plain": [
       "Roger Voss            572\n",
       "Michael Schachner     334\n",
       "Kerin O’Keefe         231\n",
       "Paul Gregutt          199\n",
       "Virginie Boone        191\n",
       "Joe Czerwinski        127\n",
       "Matt Kettmann         123\n",
       "Sean P. Sullivan      107\n",
       "Jim Gordon             97\n",
       "Anna Lee C. Iijima     74\n",
       "Anne Krebiehl MW       49\n",
       "Lauren Buzzeo          34\n",
       "Susan Kostrzewa        25\n",
       "Alexander Peartree     14\n",
       "Jeff Jenssen            9\n",
       "Mike DeSimone           4\n",
       "Fiona Adams             3\n",
       "Carrie Dykes            3\n",
       "Name: taster_name, dtype: int64"
      ]
     },
     "execution_count": 17,
     "metadata": {},
     "output_type": "execute_result"
    }
   ],
   "source": [
    "df_red_wine['taster_name'].value_counts()"
   ]
  },
  {
   "cell_type": "markdown",
   "metadata": {},
   "source": [
    "In de bovenstaande tabel valt te zien dat deze verdeling niet echt gelijk verdeeld is.  \n",
    "Om deze data nog iets overzichtelijker te maken zetten we deze tabel om tot een grafiek."
   ]
  },
  {
   "cell_type": "code",
   "execution_count": 18,
   "metadata": {
    "scrolled": false
   },
   "outputs": [
    {
     "data": {
      "image/png": "[encoded data removed]",
      "text/plain": [
       "<Figure size 1500x600 with 1 Axes>"
      ]
     },
     "metadata": {
      "needs_background": "light"
     },
     "output_type": "display_data"
    }
   ],
   "source": [
    "# selecting the data\n",
    "df_tasting_freq = df_red_wine['taster_name'].value_counts()\n",
    "\n",
    "# parsing the data\n",
    "fig, ax = plt.subplots(figsize=(10,4), dpi=150)\n",
    "ax.bar(df_tasting_freq.index, df_tasting_freq, width= 0.8)\n",
    "\n",
    "# setting the axis\n",
    "plt.xticks(rotation=90)\n",
    "plt.yticks([n for n in range(0, 650, 50)])\n",
    "\n",
    "# setting the style, labels and title\n",
    "plt.xlabel('Naam proever')\n",
    "plt.ylabel('Hoeveelheid beoordelingen')\n",
    "plt.title('Hoeveelheid geregistreerde beoordelingen per proever')\n",
    "sns.set_style(\"whitegrid\")\n",
    "\n",
    "# printing the plot\n",
    "plt.show()"
   ]
  },
  {
   "cell_type": "markdown",
   "metadata": {},
   "source": [
    "De aannames die de tabel aanwakkeren worden door de grafiek bevestigd. Uit de grafiek valt nog beter te zien dat de hoeveelheid beoordelingen per proever zeer onevenredig verdeeld zijn. Sommige proevers hebben zeer veel beoordelingen gegeven terwijl andere proevers veel minder hebben gegeven.  \n",
    "  \n",
    "Hierna willen we graag weten wat de minimale, maximale en gemiddelde score is per proever."
   ]
  },
  {
   "cell_type": "code",
   "execution_count": 19,
   "metadata": {
    "scrolled": false
   },
   "outputs": [
    {
     "data": {
      "text/html": [
       "<div>\n",
       "<style scoped>\n",
       "    .dataframe tbody tr th:only-of-type {\n",
       "        vertical-align: middle;\n",
       "    }\n",
       "\n",
       "    .dataframe tbody tr th {\n",
       "        vertical-align: top;\n",
       "    }\n",
       "\n",
       "    .dataframe thead th {\n",
       "        text-align: right;\n",
       "    }\n",
       "</style>\n",
       "<table border=\"1\" class=\"dataframe\">\n",
       "  <thead>\n",
       "    <tr style=\"text-align: right;\">\n",
       "      <th></th>\n",
       "      <th>min points</th>\n",
       "      <th>max points</th>\n",
       "      <th>avg points</th>\n",
       "    </tr>\n",
       "    <tr>\n",
       "      <th>taster_name</th>\n",
       "      <th></th>\n",
       "      <th></th>\n",
       "      <th></th>\n",
       "    </tr>\n",
       "  </thead>\n",
       "  <tbody>\n",
       "    <tr>\n",
       "      <th>Alexander Peartree</th>\n",
       "      <td>82</td>\n",
       "      <td>95</td>\n",
       "      <td>88.500000</td>\n",
       "    </tr>\n",
       "    <tr>\n",
       "      <th>Anna Lee C. Iijima</th>\n",
       "      <td>83</td>\n",
       "      <td>95</td>\n",
       "      <td>88.878378</td>\n",
       "    </tr>\n",
       "    <tr>\n",
       "      <th>Anne Krebiehl MW</th>\n",
       "      <td>83</td>\n",
       "      <td>94</td>\n",
       "      <td>88.020408</td>\n",
       "    </tr>\n",
       "    <tr>\n",
       "      <th>Carrie Dykes</th>\n",
       "      <td>83</td>\n",
       "      <td>88</td>\n",
       "      <td>85.333333</td>\n",
       "    </tr>\n",
       "    <tr>\n",
       "      <th>Fiona Adams</th>\n",
       "      <td>85</td>\n",
       "      <td>91</td>\n",
       "      <td>88.666667</td>\n",
       "    </tr>\n",
       "    <tr>\n",
       "      <th>Jeff Jenssen</th>\n",
       "      <td>82</td>\n",
       "      <td>92</td>\n",
       "      <td>87.111111</td>\n",
       "    </tr>\n",
       "    <tr>\n",
       "      <th>Jim Gordon</th>\n",
       "      <td>82</td>\n",
       "      <td>95</td>\n",
       "      <td>88.701031</td>\n",
       "    </tr>\n",
       "    <tr>\n",
       "      <th>Joe Czerwinski</th>\n",
       "      <td>84</td>\n",
       "      <td>94</td>\n",
       "      <td>88.637795</td>\n",
       "    </tr>\n",
       "    <tr>\n",
       "      <th>Kerin O’Keefe</th>\n",
       "      <td>81</td>\n",
       "      <td>96</td>\n",
       "      <td>88.770563</td>\n",
       "    </tr>\n",
       "    <tr>\n",
       "      <th>Lauren Buzzeo</th>\n",
       "      <td>82</td>\n",
       "      <td>93</td>\n",
       "      <td>88.764706</td>\n",
       "    </tr>\n",
       "    <tr>\n",
       "      <th>Matt Kettmann</th>\n",
       "      <td>81</td>\n",
       "      <td>97</td>\n",
       "      <td>89.065041</td>\n",
       "    </tr>\n",
       "    <tr>\n",
       "      <th>Michael Schachner</th>\n",
       "      <td>82</td>\n",
       "      <td>100</td>\n",
       "      <td>89.224551</td>\n",
       "    </tr>\n",
       "    <tr>\n",
       "      <th>Mike DeSimone</th>\n",
       "      <td>87</td>\n",
       "      <td>92</td>\n",
       "      <td>90.250000</td>\n",
       "    </tr>\n",
       "    <tr>\n",
       "      <th>Paul Gregutt</th>\n",
       "      <td>81</td>\n",
       "      <td>96</td>\n",
       "      <td>89.010050</td>\n",
       "    </tr>\n",
       "    <tr>\n",
       "      <th>Roger Voss</th>\n",
       "      <td>82</td>\n",
       "      <td>99</td>\n",
       "      <td>88.828671</td>\n",
       "    </tr>\n",
       "    <tr>\n",
       "      <th>Sean P. Sullivan</th>\n",
       "      <td>84</td>\n",
       "      <td>95</td>\n",
       "      <td>88.757009</td>\n",
       "    </tr>\n",
       "    <tr>\n",
       "      <th>Susan Kostrzewa</th>\n",
       "      <td>82</td>\n",
       "      <td>95</td>\n",
       "      <td>89.080000</td>\n",
       "    </tr>\n",
       "    <tr>\n",
       "      <th>Virginie Boone</th>\n",
       "      <td>84</td>\n",
       "      <td>95</td>\n",
       "      <td>88.806283</td>\n",
       "    </tr>\n",
       "  </tbody>\n",
       "</table>\n",
       "</div>"
      ],
      "text/plain": [
       "                    min points  max points  avg points\n",
       "taster_name                                           \n",
       "Alexander Peartree          82          95   88.500000\n",
       "Anna Lee C. Iijima          83          95   88.878378\n",
       "Anne Krebiehl MW            83          94   88.020408\n",
       "Carrie Dykes                83          88   85.333333\n",
       "Fiona Adams                 85          91   88.666667\n",
       "Jeff Jenssen                82          92   87.111111\n",
       "Jim Gordon                  82          95   88.701031\n",
       "Joe Czerwinski              84          94   88.637795\n",
       "Kerin O’Keefe               81          96   88.770563\n",
       "Lauren Buzzeo               82          93   88.764706\n",
       "Matt Kettmann               81          97   89.065041\n",
       "Michael Schachner           82         100   89.224551\n",
       "Mike DeSimone               87          92   90.250000\n",
       "Paul Gregutt                81          96   89.010050\n",
       "Roger Voss                  82          99   88.828671\n",
       "Sean P. Sullivan            84          95   88.757009\n",
       "Susan Kostrzewa             82          95   89.080000\n",
       "Virginie Boone              84          95   88.806283"
      ]
     },
     "execution_count": 19,
     "metadata": {},
     "output_type": "execute_result"
    }
   ],
   "source": [
    "# prepare the data_frame\n",
    "df_taster_index = df_red_wine.copy()\n",
    "df_taster_index = df_taster_index[['taster_name', 'points']]\n",
    "df_taster_index.set_index('taster_name', inplace=True)\n",
    "\n",
    "# getting the min, max and average per taster\n",
    "taster_avg = df_taster_index.groupby('taster_name').mean()\n",
    "taster_min = np.min(df_taster_index.groupby('taster_name'))\n",
    "taster_max = np.max(df_taster_index.groupby('taster_name'))\n",
    "\n",
    "# building a new dataframe with all the info per taster\n",
    "df_taster_stats = pd.concat([taster_min, taster_max, taster_avg], axis=1)\n",
    "df_taster_stats.columns = ['min points', 'max points', 'avg points']\n",
    "df_taster_stats"
   ]
  },
  {
   "cell_type": "code",
   "execution_count": null,
   "metadata": {},
   "outputs": [],
   "source": []
  },
  {
   "cell_type": "markdown",
   "metadata": {},
   "source": [
    "### Chemische kenmerken\n",
    "asdf"
   ]
  },
  {
   "cell_type": "code",
   "execution_count": 20,
   "metadata": {},
   "outputs": [
    {
     "data": {
      "text/html": [
       "<div>\n",
       "<style scoped>\n",
       "    .dataframe tbody tr th:only-of-type {\n",
       "        vertical-align: middle;\n",
       "    }\n",
       "\n",
       "    .dataframe tbody tr th {\n",
       "        vertical-align: top;\n",
       "    }\n",
       "\n",
       "    .dataframe thead th {\n",
       "        text-align: right;\n",
       "    }\n",
       "</style>\n",
       "<table border=\"1\" class=\"dataframe\">\n",
       "  <thead>\n",
       "    <tr style=\"text-align: right;\">\n",
       "      <th></th>\n",
       "      <th>points</th>\n",
       "      <th>price</th>\n",
       "      <th>fixed acidity</th>\n",
       "      <th>volatile acidity</th>\n",
       "      <th>citric acid</th>\n",
       "      <th>residual sugar</th>\n",
       "      <th>chlorides</th>\n",
       "      <th>free sulfur dioxide</th>\n",
       "      <th>total sulfur dioxide</th>\n",
       "      <th>density</th>\n",
       "      <th>pH</th>\n",
       "      <th>sulphates</th>\n",
       "      <th>alcohol</th>\n",
       "    </tr>\n",
       "  </thead>\n",
       "  <tbody>\n",
       "    <tr>\n",
       "      <th>count</th>\n",
       "      <td>2196.000000</td>\n",
       "      <td>2196.000000</td>\n",
       "      <td>2196.000000</td>\n",
       "      <td>2196.000000</td>\n",
       "      <td>2196.000000</td>\n",
       "      <td>2196.000000</td>\n",
       "      <td>2196.000000</td>\n",
       "      <td>2196.000000</td>\n",
       "      <td>2196.000000</td>\n",
       "      <td>2196.000000</td>\n",
       "      <td>2196.000000</td>\n",
       "      <td>2196.000000</td>\n",
       "      <td>2196.000000</td>\n",
       "    </tr>\n",
       "    <tr>\n",
       "      <th>mean</th>\n",
       "      <td>88.864299</td>\n",
       "      <td>24.819217</td>\n",
       "      <td>8.347040</td>\n",
       "      <td>0.530089</td>\n",
       "      <td>0.295362</td>\n",
       "      <td>2.575592</td>\n",
       "      <td>0.087842</td>\n",
       "      <td>15.953097</td>\n",
       "      <td>47.468124</td>\n",
       "      <td>2.273421</td>\n",
       "      <td>3.311557</td>\n",
       "      <td>0.663201</td>\n",
       "      <td>10.423065</td>\n",
       "    </tr>\n",
       "    <tr>\n",
       "      <th>std</th>\n",
       "      <td>2.997764</td>\n",
       "      <td>25.539475</td>\n",
       "      <td>1.751835</td>\n",
       "      <td>0.179942</td>\n",
       "      <td>0.182491</td>\n",
       "      <td>1.438245</td>\n",
       "      <td>0.047686</td>\n",
       "      <td>10.446069</td>\n",
       "      <td>33.304164</td>\n",
       "      <td>9.770103</td>\n",
       "      <td>0.155462</td>\n",
       "      <td>0.174591</td>\n",
       "      <td>1.054974</td>\n",
       "    </tr>\n",
       "    <tr>\n",
       "      <th>min</th>\n",
       "      <td>81.000000</td>\n",
       "      <td>5.000000</td>\n",
       "      <td>4.600000</td>\n",
       "      <td>0.120000</td>\n",
       "      <td>0.010000</td>\n",
       "      <td>0.900000</td>\n",
       "      <td>0.012000</td>\n",
       "      <td>1.000000</td>\n",
       "      <td>6.000000</td>\n",
       "      <td>0.990070</td>\n",
       "      <td>2.740000</td>\n",
       "      <td>0.330000</td>\n",
       "      <td>8.500000</td>\n",
       "    </tr>\n",
       "    <tr>\n",
       "      <th>25%</th>\n",
       "      <td>87.000000</td>\n",
       "      <td>12.000000</td>\n",
       "      <td>7.100000</td>\n",
       "      <td>0.400000</td>\n",
       "      <td>0.140000</td>\n",
       "      <td>1.900000</td>\n",
       "      <td>0.070000</td>\n",
       "      <td>7.750000</td>\n",
       "      <td>22.000000</td>\n",
       "      <td>0.995680</td>\n",
       "      <td>3.210000</td>\n",
       "      <td>0.550000</td>\n",
       "      <td>9.500000</td>\n",
       "    </tr>\n",
       "    <tr>\n",
       "      <th>50%</th>\n",
       "      <td>88.000000</td>\n",
       "      <td>17.000000</td>\n",
       "      <td>7.900000</td>\n",
       "      <td>0.520000</td>\n",
       "      <td>0.280000</td>\n",
       "      <td>2.200000</td>\n",
       "      <td>0.079000</td>\n",
       "      <td>14.000000</td>\n",
       "      <td>38.000000</td>\n",
       "      <td>0.996800</td>\n",
       "      <td>3.310000</td>\n",
       "      <td>0.620000</td>\n",
       "      <td>10.200000</td>\n",
       "    </tr>\n",
       "    <tr>\n",
       "      <th>75%</th>\n",
       "      <td>91.000000</td>\n",
       "      <td>28.000000</td>\n",
       "      <td>9.300000</td>\n",
       "      <td>0.640000</td>\n",
       "      <td>0.440000</td>\n",
       "      <td>2.600000</td>\n",
       "      <td>0.090000</td>\n",
       "      <td>21.250000</td>\n",
       "      <td>64.000000</td>\n",
       "      <td>0.997900</td>\n",
       "      <td>3.400000</td>\n",
       "      <td>0.730000</td>\n",
       "      <td>11.100000</td>\n",
       "    </tr>\n",
       "    <tr>\n",
       "      <th>max</th>\n",
       "      <td>100.000000</td>\n",
       "      <td>450.000000</td>\n",
       "      <td>15.900000</td>\n",
       "      <td>1.580000</td>\n",
       "      <td>1.000000</td>\n",
       "      <td>15.500000</td>\n",
       "      <td>0.611000</td>\n",
       "      <td>72.000000</td>\n",
       "      <td>289.000000</td>\n",
       "      <td>100.369000</td>\n",
       "      <td>4.010000</td>\n",
       "      <td>2.000000</td>\n",
       "      <td>14.900000</td>\n",
       "    </tr>\n",
       "  </tbody>\n",
       "</table>\n",
       "</div>"
      ],
      "text/plain": [
       "            points        price  fixed acidity  volatile acidity  citric acid  \\\n",
       "count  2196.000000  2196.000000    2196.000000       2196.000000  2196.000000   \n",
       "mean     88.864299    24.819217       8.347040          0.530089     0.295362   \n",
       "std       2.997764    25.539475       1.751835          0.179942     0.182491   \n",
       "min      81.000000     5.000000       4.600000          0.120000     0.010000   \n",
       "25%      87.000000    12.000000       7.100000          0.400000     0.140000   \n",
       "50%      88.000000    17.000000       7.900000          0.520000     0.280000   \n",
       "75%      91.000000    28.000000       9.300000          0.640000     0.440000   \n",
       "max     100.000000   450.000000      15.900000          1.580000     1.000000   \n",
       "\n",
       "       residual sugar    chlorides  free sulfur dioxide  total sulfur dioxide  \\\n",
       "count     2196.000000  2196.000000          2196.000000           2196.000000   \n",
       "mean         2.575592     0.087842            15.953097             47.468124   \n",
       "std          1.438245     0.047686            10.446069             33.304164   \n",
       "min          0.900000     0.012000             1.000000              6.000000   \n",
       "25%          1.900000     0.070000             7.750000             22.000000   \n",
       "50%          2.200000     0.079000            14.000000             38.000000   \n",
       "75%          2.600000     0.090000            21.250000             64.000000   \n",
       "max         15.500000     0.611000            72.000000            289.000000   \n",
       "\n",
       "           density           pH    sulphates      alcohol  \n",
       "count  2196.000000  2196.000000  2196.000000  2196.000000  \n",
       "mean      2.273421     3.311557     0.663201    10.423065  \n",
       "std       9.770103     0.155462     0.174591     1.054974  \n",
       "min       0.990070     2.740000     0.330000     8.500000  \n",
       "25%       0.995680     3.210000     0.550000     9.500000  \n",
       "50%       0.996800     3.310000     0.620000    10.200000  \n",
       "75%       0.997900     3.400000     0.730000    11.100000  \n",
       "max     100.369000     4.010000     2.000000    14.900000  "
      ]
     },
     "execution_count": 20,
     "metadata": {},
     "output_type": "execute_result"
    }
   ],
   "source": [
    "df_red_wine.describe()"
   ]
  }
 ],
 "metadata": {
  "kernelspec": {
   "display_name": "Python 3",
   "language": "python",
   "name": "python3"
  },
  "language_info": {
   "codemirror_mode": {
    "name": "ipython",
    "version": 3
   },
   "file_extension": ".py",
   "mimetype": "text/x-python",
   "name": "python",
   "nbconvert_exporter": "python",
   "pygments_lexer": "ipython3",
   "version": "3.7.1"
  }
 },
 "nbformat": 4,
 "nbformat_minor": 1
}
