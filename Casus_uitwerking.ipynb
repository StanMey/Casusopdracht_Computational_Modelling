{
 "cells": [
  {
   "cell_type": "markdown",
   "metadata": {
    "collapsed": true,
    "pycharm": {
     "name": "#%% md\n"
    }
   },
   "source": [
    "# Analyse over Wijn\n",
    "- Stan Meyberg (TICT-AI-V2A-19)\n",
    "- Roeland Oostdam (TICT-AI-V2A-19)\n",
    "- Ruben Klinkenberg (TICT-AI-V2A-19)\n"
   ]
  },
  {
   "cell_type": "markdown",
   "metadata": {},
   "source": [
    "## onderzoeksvragen\n",
    "1. In hoeverre is de score van een Portugese Red te voorspellen op basis van de chemische kenmerken?  \n",
    "2. In hoeverre speelt de prijs een rol in de beoordeling van de wijn?\n",
    "3. In hoeverre kan op basis van de chemische kenmerken voorspelt worden of het een witte of rode wijn is?\n",
    "4. Welke kernwoorden zijn typerend voor een hoog scorende wijn?  \n",
    "\n",
    "Wij zullen deze onderzoeksvragen zo goed mogelijk proberen te beantwoorden.\n",
    "Voor de beantwoording van deze vragen maken wij gebruik van het Data Science proces.  \n",
    "Dit proces ziet er als volgt uit:\n",
    "### Het data science proces\n",
    "1. Data collection\n",
    "2. Data processing\n",
    "3. Data cleaning\n",
    "4. Data exploration & analysis\n",
    "5. Model building\n",
    "6. Visualization\n",
    "7. Communication\n"
   ]
  },
  {
   "cell_type": "markdown",
   "metadata": {
    "pycharm": {
     "metadata": false,
     "name": "#%% md\n"
    }
   },
   "source": [
    "Allereerst zullen we de benodigde libraries importeren.\n",
    "Deze libraries zullen we gebruiken voor het analyseren en het visualiseren van de data."
   ]
  },
  {
   "cell_type": "code",
   "execution_count": null,
   "metadata": {
    "pycharm": {
     "is_executing": false,
     "metadata": false,
     "name": "#%%\n"
    }
   },
   "outputs": [],
   "source": [
    "# data analysis libraries \n",
    "import numpy as np\n",
    "import pandas as pd\n",
    "\n",
    "# visualization libraries\n",
    "import matplotlib.pyplot as plt\n",
    "import seaborn as sns\n",
    "\n",
    "# libraries for machine learning algorithms\n",
    "from sklearn.model_selection import train_test_split\n",
    "from sklearn.linear_model import LinearRegression\n",
    "from sklearn.tree import DecisionTreeClassifier\n",
    "from sklearn.metrics import mean_squared_error, accuracy_score\n",
    "\n",
    "# library for statistical functions\n",
    "import scipy.stats as stats\n"
   ]
  },
  {
   "cell_type": "markdown",
   "metadata": {},
   "source": [
    "## Data Collection\n",
    "De eerste dataset die we gaan gebruiken is aan ons aangeleverd. De dataset is een csv bestand en heet: 'redwine.csv'. In de dataset staat informatie en chemische kenmerken van wijnen in Portugal. \n",
    "\n",
    "Allereerst beginnen we met het importeren van de dataset en kijken we of de dataset correct is geïmporteerd door de eerste 5 regels op te vragen."
   ]
  },
  {
   "cell_type": "code",
   "execution_count": null,
   "metadata": {
    "pycharm": {
     "is_executing": false,
     "metadata": false,
     "name": "#%%\n"
    },
    "scrolled": true
   },
   "outputs": [],
   "source": [
    "# import the data files\n",
    "df_red_wine = pd.read_csv(\"data/redwine.csv\", sep=\";\")\n",
    "df_red_wine.head()"
   ]
  },
  {
   "cell_type": "markdown",
   "metadata": {},
   "source": [
    "### externe dataset\n",
    "Aangezien onze eerste dataset alleen maar kenmerken van rode wijn bevat zijn wij gaan zoeken naar een dataset met kenmerken van witte wijn.  \n",
    "  \n",
    "De dataset komt van de volgende website: https://archive.ics.uci.edu/ml/datasets/wine+quality  \n",
    "  \n",
    "Ook deze dataset gaan we importeren om hierna te controleren of hij goed geïmporteerd is."
   ]
  },
  {
   "cell_type": "code",
   "execution_count": null,
   "metadata": {
    "scrolled": true
   },
   "outputs": [],
   "source": [
    "df_white_wine = pd.read_csv(\"data/winequality-white.csv\", sep=\";\")\n",
    "df_white_wine.head()"
   ]
  },
  {
   "cell_type": "markdown",
   "metadata": {},
   "source": [
    "## Data Processing\n",
    "Aangezien de bestanden met de data al in een csv bestand staan kunnen deze direct in een dataframe worden ingelezen.  \n",
    "Nu is het nog aan ons om te beslissen of er nog kolomnamen zijn die aangepast moeten worden en welke kolommen we gaan droppen.  \n",
    "In totaal heeft deze dataset 22 kolommen. Om uit te zoeken welke kolommen essentieel zijn voor het verdere proces gaan we nu eerste kijken hoe de kolommen heten."
   ]
  },
  {
   "cell_type": "code",
   "execution_count": null,
   "metadata": {
    "pycharm": {
     "is_executing": false,
     "metadata": false,
     "name": "#%%\n"
    },
    "scrolled": true
   },
   "outputs": [],
   "source": [
    "df_red_wine.columns"
   ]
  },
  {
   "cell_type": "markdown",
   "metadata": {
    "pycharm": {
     "metadata": false,
     "name": "#%% md\n"
    }
   },
   "source": [
    "Om goed te kunnen begrijpen met welke data we hier mee te maken hebben is hieronder voor iedere kolom de betekenis van de data die erin staat gegeven.  \n",
    "\n",
    "- **id**  \n",
    "    Een uniek nummer voor iedere rij.\n",
    "- **Country**  \n",
    "    Het land waar de wijn vandaan komt.\n",
    "- **Description**  \n",
    "    De beschrijving van de wijn.\n",
    "- **Designation**  \n",
    "    De wijngaard waar tenminste 85% van de druiven vandaan komen.\n",
    "- **Points**  \n",
    "    De hoeveelheid punten die de wijn heeft gekregen van de proever.\n",
    "- **Price**  \n",
    "    De prijs van de wijn.\n",
    "- **Province**  \n",
    "    De provincie waar de wijn.\n",
    "- **Taster_name**  \n",
    "    De volledige naam van de proever.\n",
    "- **Title**  \n",
    "    De titel die normaliter op het wijnetiket staat.\n",
    "- **Variety**  \n",
    "    Het type druif dat gebruikt wordt.\n",
    "- **Winery**  \n",
    "    Het bedrijf waar de wijn geproduceerd is.\n",
    "- **Fixed acidity**  \n",
    "    Zuren zijn zeer belangrijke bestanddelen van wijn en voegen zeer veel toe aan de smaak. Hoe hoger de hoeveelheid zuren des te zuurder de wijn wordt.\n",
    "- **Volatile acidity**  \n",
    "    De hoeveelheid azijnzuur in de wijn. Kan leiden tot een azijnachtige smaak als het in te grote hoeveelheden aanwezig is.\n",
    "- **Citric acid**  \n",
    "    Een zuur die gebruikt kan worden als natuurlijk conserveermiddel. Citroenzuur kan bijdragen aan de frisheid en smaak van de wijn.\n",
    "- **Residual sugar**  \n",
    "    De hoeveelheid suiker die over is na de fermentatie van de wijn. De hoeveelheid suiker in de wijn geeft de type van de wijn aan (droog, halfdroog, zoet).\n",
    "- **Chlorides**  \n",
    "    De hoeveelheid zout in de wijn.\n",
    "- **Free sulfur dioxide**  \n",
    "    De hoeveelheid zwaveldioxide dat vrij in de wijn zit. (Wat dus niet gebonden is aan andere chemicaliën in de wijn).\n",
    "    Het zwaveldioxide voorkomt oxidatie van de wijn en wordt als conserveringsmiddel in veel levensmiddelen gebruikt.\n",
    "    Zwaveldioxide wat niet vrij is, en dus al gebonden is aan andere stoffen in de wijn, heeft geen antioxiderende werking meer.\n",
    "- **Total sulfur dioxide**  \n",
    "    De totale hoeveelheid zwaveldioxide dat in de wijn zit.  \n",
    "    Een te hoge concentratie zwaveldioxide kan de smaak verpesten.\n",
    "    Een te lage concentratie zwaveldioxide kan ervoor zorgen dat er teveel bacteriën in de wijn blijven zitten waardoor het gevaarlijk kan zijn om te drinken.\n",
    "- **Density**  \n",
    "    De dichtheid van de wijn. De dichtheid kan verminderen door toevoeging van meer alcohol.\n",
    "- **pH**  \n",
    "    Is een maat voor de zuurgraad van een waterige oplossing. De schaal gaat van 0 (zuur) tot 14 (basisch). De meeste wijnen zitten tussen de 2.8 en de 4.0.\n",
    "- **Sulphates (sulfites)**  \n",
    "    Een additief die bijdraagt aan het vermeerderen van het gas zwaveldioxide.\n",
    "- **Alcohol**  \n",
    "    Het percentage alcohol in de wijn.\n",
    "\n",
    "Voor het uitzoeken van de betekenis van deze termen/kolommen zijn de volgende bronnen gebruikt:  \n",
    "- https://www.gall.nl/ontdek/wijn/de-zuurgraad-van-wijn/\n",
    "- https://winecompliancealliance.com/vinyard-designation-on-a-wine-label/\n",
    "- https://wineserver.ucdavis.edu/industry-info/enology/methods-and-techniques/common-chemical-reagents/citric-acid\n",
    "- https://waterhouse.ucdavis.edu/whats-in-wine/volatile-acidity\n",
    "- http://rstudio-pubs-static.s3.amazonaws.com/80458_5000e31f84df449099a872ccf40747b7.html\n"
   ]
  },
  {
   "cell_type": "markdown",
   "metadata": {},
   "source": [
    "Bij deze dataset hebben we al de voorkennis dat al deze wijnen uit Portugal komen. Hierdoor hoeven we de kolom 'country' niet te gebruiken. Verder geeft 'variety' aan met wat voor druif we te maken hebben, waarschijnlijk zal dit ook maar één unieke waarde hebben.  \n",
    "Voordat we deze kolommen weggooien checken we nog voor de zekerheid of onze aannames kloppen. "
   ]
  },
  {
   "cell_type": "code",
   "execution_count": null,
   "metadata": {},
   "outputs": [],
   "source": [
    "df_red_wine['country'].unique()"
   ]
  },
  {
   "cell_type": "code",
   "execution_count": null,
   "metadata": {},
   "outputs": [],
   "source": [
    "df_red_wine['variety'].unique()"
   ]
  },
  {
   "cell_type": "markdown",
   "metadata": {},
   "source": [
    "Onze aannames blijken te kloppen. We hebben hier twee keer te maken met een kolom met maar één unieke waarde. Deze kolommen kunnen dus gedropt worden."
   ]
  },
  {
   "cell_type": "code",
   "execution_count": null,
   "metadata": {},
   "outputs": [],
   "source": [
    "df_red_wine.drop(['country', 'variety'], axis=1, inplace=True)"
   ]
  },
  {
   "cell_type": "markdown",
   "metadata": {},
   "source": [
    "Op basis van onze onderzoeksvragen kunnen we ook de kolommen 'Designation', 'winery' en 'Province' laten vallen. Dit omdat we voor de beantwoording van onze onderzoeksvragen geen onderscheid hoeven te maken tussen de verschillende provincies of de wijngaarden waar de wijn vandaan kan komen."
   ]
  },
  {
   "cell_type": "code",
   "execution_count": null,
   "metadata": {},
   "outputs": [],
   "source": [
    "df_red_wine.drop(['designation', 'province', 'winery'], axis=1, inplace=True)"
   ]
  },
  {
   "cell_type": "markdown",
   "metadata": {},
   "source": [
    "Verder maken we van de kolom 'id' de index"
   ]
  },
  {
   "cell_type": "code",
   "execution_count": null,
   "metadata": {},
   "outputs": [],
   "source": [
    "df_red_wine.set_index('id', inplace=True)\n",
    "df_red_wine.head()"
   ]
  },
  {
   "cell_type": "markdown",
   "metadata": {},
   "source": [
    "## Data cleaning\n",
    "Nu de data bewerkt is kunnen we tot de volgende stap overgaan: het opschonen van de data. Hierbij gaan we op zoek naar missende en dubbele waarden, outliers en onvolkomenheden.  \n",
    "Allereerst gaan we opzoek naar rijen waar waarden missen."
   ]
  },
  {
   "cell_type": "code",
   "execution_count": null,
   "metadata": {},
   "outputs": [],
   "source": [
    "len(df_red_wine)"
   ]
  },
  {
   "cell_type": "code",
   "execution_count": null,
   "metadata": {
    "scrolled": true
   },
   "outputs": [],
   "source": [
    "pd.isnull(df_red_wine).sum()"
   ]
  },
  {
   "cell_type": "markdown",
   "metadata": {},
   "source": [
    "Hier zien we dat er 269 missende waarden zijn en dat die waarden zich allemaal in de 'price' kolom bevinden. Deze waarde hebben we echter wel voor één van de onderzoeksvragen. Hier hebben wij de afweging gemaakt om deze waarden te verwijderen.  \n",
    "Deze keuze is gebaseerd op het feit dat we nu ongeveer 12% van de data weggooien en we dus nog genoeg data behouden om te onderzoeken of er een relatie zit tussen de prijs en de hoeveelheid punten van een fles wijn.  \n",
    "We droppen dus alle rijen met missende waardes en tegelijkertijd verwijderen we duplicate rijen.  \n",
    "  \n",
    "Aangezien we hiermee ook extra informatie over chemische kenmerken weggooien hebben we de afweging gemaakt om hier twee verschillende dataframes aan te maken: één met de verwijderde rijen van 'price' en één zonder, zodat we voor de andere onderzoeksvragen alle kenmerken beschikbaar hebben die we kunnen krijgen. Voor de dataframe waarvan we de prijzen niet verwijderen worden deze prijzen omgezet tot de waarde 0.0"
   ]
  },
  {
   "cell_type": "code",
   "execution_count": null,
   "metadata": {},
   "outputs": [],
   "source": [
    "# copying the dataframe\n",
    "df_red_wine_dropped_price_rows = df_red_wine.copy()\n",
    "\n",
    "# deleting the rows with empty values for prizes\n",
    "df_red_wine_dropped_price_rows.dropna(inplace=True)\n",
    "\n",
    "# filling the rows with empty values for prizes with 0.0\n",
    "df_red_wine.fillna(0.0, inplace=True)\n",
    "\n",
    "# deleting the duplicate rows\n",
    "df_red_wine.drop_duplicates(inplace=True)\n",
    "df_red_wine_dropped_price_rows.drop_duplicates(inplace=True)"
   ]
  },
  {
   "cell_type": "markdown",
   "metadata": {},
   "source": [
    "Nu moeten we nog checken of elke kolom de geschikte datatype heeft."
   ]
  },
  {
   "cell_type": "code",
   "execution_count": null,
   "metadata": {},
   "outputs": [],
   "source": [
    "df_red_wine.dtypes"
   ]
  },
  {
   "cell_type": "markdown",
   "metadata": {},
   "source": [
    "In de bovenstaande tabel valt te zien dat de kolom 'density', 'citric acid' en 'alcohol' niet de gewenste datatypen hebben. We willen hier floats hebben terwijl ze nu aangegeven worden als Strings.  \n",
    "Om dit op te lossen gaan we over de kolommen heen en zetten iedere String om tot een float. Wanneer dit niet kan omdat de waarde dit niet toelaat wordt er een NaN ingevuld.  \n",
    "  \n",
    "De reden dat we deze stappen niet doen voor de 'red_wine_price_dropped' dataframe is dat we deze dataframe eigenlijk alleen maar gebruiken om te kijken of er een correlatie bestaat tussen twee kolommen. Hierbij komen geen van de chemische kenmerken kijken."
   ]
  },
  {
   "cell_type": "code",
   "execution_count": null,
   "metadata": {},
   "outputs": [],
   "source": [
    "df_red_wine['citric acid'] = pd.to_numeric(df_red_wine['citric acid'], errors='coerce')\n",
    "df_red_wine['density'] = pd.to_numeric(df_red_wine['density'], errors='coerce')\n",
    "df_red_wine['alcohol'] = pd.to_numeric(df_red_wine['alcohol'], errors='coerce')\n",
    "\n",
    "pd.isnull(df_red_wine).sum()"
   ]
  },
  {
   "cell_type": "markdown",
   "metadata": {},
   "source": [
    "In de bovenstaande tabel valt te lezen dat in totaal 194 waarden zijn omgezet tot NaN. Deze waardes kunnen we nu automatisch vullen door te interpoleren. Deze keuze hebben we gemaakt omdat we op zoek zijn naar bepaalde kenmerken en door te interpoleren blijven deze unieke kenmerken tussen de waardes die ze uniek maakt."
   ]
  },
  {
   "cell_type": "code",
   "execution_count": null,
   "metadata": {},
   "outputs": [],
   "source": [
    "df_red_wine.interpolate(inplace=True)\n",
    "pd.isnull(df_red_wine).sum()"
   ]
  },
  {
   "cell_type": "markdown",
   "metadata": {},
   "source": [
    "## Data Exploration"
   ]
  },
  {
   "cell_type": "markdown",
   "metadata": {},
   "source": [
    "### De wijnproevers\n",
    "Aangezien we met wijnproevers te maken hebben is alle data over de punten die aan een wijn toegedeeld zijn subjectief. Allereerst willen we dus wat inzicht krijgen over het gedrag van deze groep bij de toekenning van de punten.  \n",
    "  \n",
    "Eerst gaan we kijken met hoeveel wijnproevers we in totaal te maken hebben."
   ]
  },
  {
   "cell_type": "code",
   "execution_count": null,
   "metadata": {},
   "outputs": [],
   "source": [
    "len(df_red_wine['taster_name'].unique())"
   ]
  },
  {
   "cell_type": "markdown",
   "metadata": {},
   "source": [
    "We hebben dus met 18 verschillende wijnproevers te maken.  \n",
    "Hierna gaan we kijken of de hoeveelheid gegeven beoordelingen van de wijnproevers gelijk verdeeld zijn."
   ]
  },
  {
   "cell_type": "code",
   "execution_count": null,
   "metadata": {},
   "outputs": [],
   "source": [
    "df_red_wine['taster_name'].value_counts()"
   ]
  },
  {
   "cell_type": "markdown",
   "metadata": {},
   "source": [
    "In de bovenstaande tabel valt te zien dat deze verdeling niet echt gelijk verdeeld is.  \n",
    "Om deze data nog iets overzichtelijker te maken zetten we deze tabel om tot een grafiek."
   ]
  },
  {
   "cell_type": "code",
   "execution_count": null,
   "metadata": {
    "scrolled": false
   },
   "outputs": [],
   "source": [
    "# selecting the data\n",
    "df_tasting_freq = df_red_wine['taster_name'].value_counts()\n",
    "\n",
    "# parsing the data\n",
    "fig, ax = plt.subplots(figsize=(10,4), dpi=150)\n",
    "ax.bar(df_tasting_freq.index, df_tasting_freq, width= 0.8)\n",
    "\n",
    "# setting the axis\n",
    "plt.xticks(rotation=90)\n",
    "plt.yticks([n for n in range(0, 700, 50)])\n",
    "\n",
    "# setting the style, labels and title\n",
    "plt.xlabel('Naam proever')\n",
    "plt.ylabel('Hoeveelheid beoordelingen')\n",
    "plt.title('Hoeveelheid geregistreerde beoordelingen per proever')\n",
    "sns.set_style(\"whitegrid\")\n",
    "\n",
    "# printing the plot\n",
    "plt.show()"
   ]
  },
  {
   "cell_type": "markdown",
   "metadata": {},
   "source": [
    "De aannames die de tabel aanwakkeren worden door de grafiek bevestigd. Uit de grafiek valt nog beter te zien dat de hoeveelheid beoordelingen per proever zeer onevenredig verdeeld zijn. Sommige proevers hebben zeer veel beoordelingen gegeven terwijl andere proevers veel minder hebben gegeven.  \n",
    "  \n",
    "Hierna willen we graag weten wat de minimale, maximale en gemiddelde score is per proever."
   ]
  },
  {
   "cell_type": "code",
   "execution_count": null,
   "metadata": {
    "scrolled": false
   },
   "outputs": [],
   "source": [
    "# prepare the data_frame\n",
    "df_taster_index = df_red_wine.copy()\n",
    "df_taster_index = df_taster_index[['taster_name', 'points']]\n",
    "df_taster_index.set_index('taster_name', inplace=True)\n",
    "\n",
    "# getting the min, max and average per taster\n",
    "taster_avg = df_taster_index.groupby('taster_name').mean()\n",
    "taster_min = np.min(df_taster_index.groupby('taster_name'))\n",
    "taster_max = np.max(df_taster_index.groupby('taster_name'))\n",
    "\n",
    "# building a new dataframe with all the info per taster\n",
    "df_taster_stats = pd.concat([taster_min, taster_max, taster_avg], axis=1)\n",
    "df_taster_stats.columns = ['min points', 'max points', 'avg points']\n",
    "df_taster_stats.sort_values(['avg points'])"
   ]
  },
  {
   "cell_type": "code",
   "execution_count": null,
   "metadata": {},
   "outputs": [],
   "source": [
    "# print the total mean score over all tasters\n",
    "print(\"Total Mean: {0}\".format(df_red_wine['points'].mean()))"
   ]
  },
  {
   "cell_type": "markdown",
   "metadata": {},
   "source": [
    "Uit deze tabel valt te lezen dat het gemiddeld aantal punten ongeveer rond de 88 punten zal liggen. Om nog iets meer duidelijkheid te creeëren rondom de puntenverdeling zullen we de gegeven punten in een grafiek plotten."
   ]
  },
  {
   "cell_type": "code",
   "execution_count": null,
   "metadata": {},
   "outputs": [],
   "source": [
    "# selecting the data\n",
    "data = df_red_wine['points'].value_counts().sort_index()\n",
    "\n",
    "# parsing the data\n",
    "fix, ax = plt.subplots(figsize=(10,4), dpi=150)\n",
    "ax.bar(data.index, data)\n",
    "\n",
    "# setting the axis\n",
    "plt.xticks([n for n in range(80, 101, 1)])\n",
    "\n",
    "# setting the style, labels and title\n",
    "plt.xlabel('Puntenaantal')\n",
    "plt.ylabel('Hoeveelheid stemmen')\n",
    "plt.title('Verdeling van de hoeveelheid stemmen per puntenaantal')\n",
    "sns.set_style(\"whitegrid\")\n",
    "\n",
    "# printing the plot\n",
    "plt.show()\n"
   ]
  },
  {
   "cell_type": "markdown",
   "metadata": {},
   "source": [
    "Zoals in de grafiek te zien is valt zal het gemiddelde ongeveer rond de 88 liggen. Verder is de modus ook 88. Het interessante van deze grafiek is het feit dat zo rond 89 punten een kleine dip is. Dit kan ook mede komen door de aangeleverde data."
   ]
  },
  {
   "cell_type": "markdown",
   "metadata": {},
   "source": [
    "### Prijs analyse\n",
    "Om wat meer informatie te vergaren over de prijzen is het bevorderlijk om de verdeling van de prijzen te plotten."
   ]
  },
  {
   "cell_type": "code",
   "execution_count": null,
   "metadata": {},
   "outputs": [],
   "source": [
    "data = df_red_wine[['points','price']]\n",
    "data = data.groupby('points').mean()\n",
    "\n",
    "fix, ax = plt.subplots(figsize=(12,4), dpi=150)\n",
    "\n",
    "ax.bar(data.index, data['price'])\n",
    "plt.xticks([n for n in range(81, 101, 1)])\n",
    "plt.title(\"Gemiddelde prijs per punten\")\n",
    "plt.ylabel('Prijs');\n",
    "plt.xlabel('Punten');\n",
    "plt.show()"
   ]
  },
  {
   "cell_type": "markdown",
   "metadata": {},
   "source": []
  },
  {
   "cell_type": "markdown",
   "metadata": {},
   "source": [
    "### Chemische kenmerken\n",
    "Ook qua chemische kenmerken hebben willen we graag wat analyses doen over de dataset. Deze analyses kunnen we dan hopelijk gebruiken bij het selecteren van de variabelen om de twee soorten wijnen te klassificeren.  \n",
    "  \n",
    "Allereerst vragen we de algemene statistieken op over alle chemische kenmerken."
   ]
  },
  {
   "cell_type": "code",
   "execution_count": null,
   "metadata": {},
   "outputs": [],
   "source": [
    "df_red_wine.describe()"
   ]
  },
  {
   "cell_type": "markdown",
   "metadata": {},
   "source": [
    "Op het eerste gezicht zeggen deze waardes nog niet zoveel. Pas wanneer we de kolommen met de minimale, maximale en gemiddelde waarden van alle kenmerken met van de witte en rode wijn zullen (hopelijk) deze waardes veel meer zeggen. \n",
    "  \n",
    "Dus gaan we nu voor alle chemische kenmerken de minimale, maximale en gemiddelde waardes van witte en rode wijn met elkaar vergelijken."
   ]
  },
  {
   "cell_type": "code",
   "execution_count": null,
   "metadata": {},
   "outputs": [],
   "source": []
  },
  {
   "cell_type": "markdown",
   "metadata": {},
   "source": [
    "## onderzoeksvraag 1"
   ]
  },
  {
   "cell_type": "markdown",
   "metadata": {},
   "source": [
    "Hieronder zullen we proberen de volgende onderzoeksvraag uit te werken:  \n",
    "#### In hoeverre is de score van een Portugese Red te voorspellen op basis van de chemische kenmerken?  \n",
    "Wat hiermee bedoeld wordt is dat gegeven een bepaalde Portugese Red met bekende chemische kenmerken, of deze wijn op basis van zijn chemische kenmerken ingedeeld kan worden op een bepaalde score."
   ]
  },
  {
   "cell_type": "markdown",
   "metadata": {},
   "source": [
    "Allereerst zullen we hiervoor een basis voorspelling maken. In onze eerdere analyse kwam naar voren dat de modus van alle punten op 88 punten uitkwam. Op basis van deze informatie zullen we nu de eerste voorspellingen gaan doen. Hierbij voorspellen we dat iedere Portugese Red een score heeft van 88. Voor deze voorspelling willen we graag weten hoe accuraat hij is."
   ]
  },
  {
   "cell_type": "code",
   "execution_count": null,
   "metadata": {},
   "outputs": [],
   "source": [
    "df_modus_pred = pd.Series(88, index=[df_red_wine.index])\n",
    "accuracy_score(df_red_wine['points'], df_modus_pred)"
   ]
  },
  {
   "cell_type": "markdown",
   "metadata": {},
   "source": [
    "Ons eerste model geeft een accurate voorspelling van de score in 14% van de gevallen. Echter maken we hier geen onderscheid tussen de verschillende waarden die de chemische kenmerken kunnen hebben. Ofwel de chemische kenmerken worden bij deze voorspellingen buiten beschouwing gelaten.  \n",
    "Om uiteindelijk de onderzoeksvraag zo volledig mogelijk te kunnen beantwoorden moeten we de chemische kenmerken meenemen in het proces.  \n",
    "  \n",
    "Om uit te zoeken of er tussen de gegeven scores en de chemische kenmerken überhaupt iets van correlatie te vinden is vragen we op alle basis van de gegeven punten de correlatie met de chemische kenmerken op."
   ]
  },
  {
   "cell_type": "code",
   "execution_count": null,
   "metadata": {},
   "outputs": [],
   "source": [
    "df_red_wine.corr()['points']"
   ]
  },
  {
   "cell_type": "markdown",
   "metadata": {},
   "source": [
    "In de bovenstaande tabel valt te zien dat er qua correlatie tussen punten en chemische kenmerken geen sprake is van significante correlatie. Wel valt hier te zien dat er een mogelijke correlatie zou kunnen bestaan tussen de punten en de hoeveelheid alcohol die in de wijn zit. Desalniettemin zijn we wel benieuwd of we met behulp van lineaire regressie wel een voorspelling kunnen geven.  \n",
    "We willen uiteindelijk namelijk een formule die 'voorspelt' wat de score zal zijn bij een bepaalde mix van chemische kenmerken.  \n",
    "  \n",
    "Allereerst wordt maken we een lineair regressie model aan. Hierna selecteren we de features en de uitkomst om deze om deze op te delen in een training en testset. Als laatste trainen we het model met de hiervoor aangemaakte trainingset."
   ]
  },
  {
   "cell_type": "code",
   "execution_count": null,
   "metadata": {},
   "outputs": [],
   "source": [
    "# Create the linear regression object\n",
    "wine_regr_model = LinearRegression()\n",
    "\n",
    "# Select the features and target\n",
    "X = df_red_wine.loc[:,'fixed acidity':]\n",
    "y = df_red_wine['points']\n",
    "\n",
    "# create a training and test set\n",
    "X_train, X_test, y_train, y_test = train_test_split(X, y, random_state=0)\n",
    "\n",
    "print(\"Aantal waarden in de training set: {0}\".format(len(X_train)))\n",
    "print(\"Aantal waardes in de test set: {0}\".format(len(X_test)))\n",
    "\n",
    "# Start the learning process\n",
    "wine_regr_model.fit(X_train, y_train)"
   ]
  },
  {
   "cell_type": "markdown",
   "metadata": {},
   "source": [
    "Nu het model getrained is zijn we geïntereseerd welke coëfficienten iedere feature heeft gekregen."
   ]
  },
  {
   "cell_type": "code",
   "execution_count": null,
   "metadata": {},
   "outputs": [],
   "source": [
    "pd.DataFrame({'features': X.columns, 'coefficients': wine_regr_model.coef_})"
   ]
  },
  {
   "cell_type": "markdown",
   "metadata": {},
   "source": [
    "Hier zien we dat chorides heel veel invloed heeft. Verder hebben volatile acicity, sulphates en alcohol ook invloed op de lijn.  \n",
    "Om uit te vinden hoe goed de voorspellende waarde van deze regressie lijn is gaan we hem voorspellingen laten maken met behulp van de test set. Hierna kunnen we door middel van de echte uitkomst en de 'voorspelde' uitkomst uitrekenen hoe accuraat de voorspellingen zijn. "
   ]
  },
  {
   "cell_type": "code",
   "execution_count": null,
   "metadata": {},
   "outputs": [],
   "source": [
    "# Make predictions using the test set\n",
    "wine_regr_test_orig = wine_regr_model.predict(X_test)\n",
    "wine_regr_test_rounded = np.rint(np.floor(wine_regr_model.predict(X_test)))\n",
    "\n",
    "# Calculate the average deviation\n",
    "avg_dev = abs(wine_regr_test_orig - y_test).sum() / len(y_test)"
   ]
  },
  {
   "cell_type": "code",
   "execution_count": null,
   "metadata": {
    "scrolled": true
   },
   "outputs": [],
   "source": [
    "# Calculate the root mean squared error\n",
    "print(\"mean_squared_error: {0}\".format(mean_squared_error(y_test, wine_regr_test_orig)))\n",
    "print(\"Determinatiecoëfficient: {0}\".format(wine_regr_model.score(X_test, y_test)))\n",
    "print(\"Algemene score (met afronding): {0}\".format(accuracy_score(wine_regr_test_rounded, y_test)))\n",
    "\n",
    "print(\"\\nGemiddelde afwijking: {0}\".format(avg_dev))"
   ]
  },
  {
   "cell_type": "markdown",
   "metadata": {},
   "source": [
    "Allereerst hebben we de mean_squared_error opgevraagd, deze score geeft aan hoe dicht de regressie lijn bij alle punten ligt. De bedoeling is om dit cijfer zo klein mogelijk te krijgen, aangezien dan de 'voorspellingen' accurater zijn.  \n",
    "Hierna hebben we de determinatiecoëfficient, deze score geeft de variabiliteit van de waarden aan. Ofwel de water waarin verband lijkt te zijn op een rechte lijn. 0.29 is echter een niet al te hoge score voor een lineaire regressie.\n",
    "\n",
    "De algemene score is berekend door alle voorspelde waardes naar beneden af te ronden tot een geheel getal. Dit geeft aan dat de voorspelling voor 17% van de waardes in de test set correct is.\n",
    "Aangezien we ook graag willen weten in hoeverre de voorspellingen gemiddeld van de correcte voorspelling afliggen hebben we de gemiddelde afwijking berekend. Deze pakt het absolute verschil tussen de onafgeronde voorspellingen en de correcte waardes en telt deze bij elkaar op om uiteindelijk te delen door de totale hoeveelheid waardes in de test set. \n",
    "  \n",
    "  \n",
    "We weten dat alle scores in principe subjectief zijn toebedeeld. Dit zou één van de redenen kunnen zijn waarom hier niet of nauwelijks sprake is van een correcte lineaire regressie. Om hier wat meer inzicht in te krijgen bekijken we de correlatie tussen de gegeven punten van één bepaalde proever en de chemische eigenschappen."
   ]
  },
  {
   "cell_type": "code",
   "execution_count": null,
   "metadata": {},
   "outputs": [],
   "source": [
    "df_red_wine[df_red_wine['taster_name'] == 'Roger Voss'].corr()['points']"
   ]
  },
  {
   "cell_type": "markdown",
   "metadata": {},
   "source": [
    "Zoals in de bovenstaande tabel te zien valt is er niet echt een groot verschil tussen de correlaties van één persoon en de correlaties van de gehele set van wijnproevers. desalniettemin hoeft dat niet te betekenen dat dit ook voor de rest van de wijnproevers het geval is. Wel valt er namelijk te zien dat de correlatie iets sterker is op sommige plekken.  \n",
    "  \n"
   ]
  },
  {
   "cell_type": "code",
   "execution_count": null,
   "metadata": {},
   "outputs": [],
   "source": [
    "# Create the linear regression object\n",
    "selected_features_regr_model = LinearRegression()\n",
    "\n",
    "# Select the features and target\n",
    "#X = df_red_wine[['citric acid', 'sulphates', 'alcohol', 'volatile acidity', 'chlorides']]\n",
    "X = df_red_wine[['alcohol', 'sulphates', 'chlorides']]\n",
    "y = df_red_wine['points']\n",
    "\n",
    "# create a training and test set\n",
    "X_train, X_test, y_train, y_test = train_test_split(X, y, random_state=0)\n",
    "\n",
    "# Start the learning process\n",
    "selected_features_regr_model.fit(X_train, y_train)\n",
    "\n",
    "# Make predictions using the test set\n",
    "wine_regr_test_orig = selected_features_regr_model.predict(X_test)\n",
    "wine_regr_test_rounded = np.rint(np.floor(selected_features_regr_model.predict(X_test)))\n",
    "\n",
    "# Calculate the average deviation\n",
    "avg_dev = abs(wine_regr_test_orig - y_test).sum() / len(y_test)\n",
    "\n",
    "# Calculate the root mean squared error\n",
    "print(\"mean_squared_error: {0}\".format(mean_squared_error(y_test, wine_regr_test_orig)))\n",
    "print(\"Determinatiecoëfficient: {0}\".format(selected_features_regr_model.score(X_test, y_test)))\n",
    "print(\"Algemene score (met afronding): {0}\".format(accuracy_score(wine_regr_test_rounded, y_test)))\n",
    "\n",
    "print(\"\\nGemiddelde afwijking: {0}\".format(avg_dev))"
   ]
  },
  {
   "cell_type": "markdown",
   "metadata": {},
   "source": []
  },
  {
   "cell_type": "code",
   "execution_count": null,
   "metadata": {},
   "outputs": [],
   "source": [
    "def tune_decision_tree(depth):\n",
    "    # Create the decision tree object\n",
    "    wine_decision_tree = DecisionTreeClassifier(max_depth=depth)\n",
    "\n",
    "    # Select the features and target\n",
    "    X = df_red_wine.loc[:,'fixed acidity':]\n",
    "    y = df_red_wine['points']\n",
    "\n",
    "    # Split the data into a train set and analysis set\n",
    "    X_train, X_analysis, y_train, y_analysis = train_test_split(X, y, random_state=0)\n",
    "\n",
    "    # Create a validation and test set\n",
    "    X_validate, X_test, y_validate, y_test = train_test_split(X_analysis, y_analysis, random_state=0, test_size=0.5)\n",
    "\n",
    "    # fit the data\n",
    "    wine_decision_tree.fit(X_train, y_train)\n",
    "\n",
    "    # validation accuracy score\n",
    "    val_score = wine_decision_tree.score(X_validate, y_validate)\n",
    "    \n",
    "    # test accuracy score\n",
    "    test_score = wine_decision_tree.score(X_test, y_test)\n",
    "    \n",
    "    return (wine_decision_tree, val_score, test_score)\n",
    "\n",
    "for x in range(1, 13):\n",
    "    tree_result = tune_decision_tree(x)\n",
    "    print(\"n: {0}; accuracy validation: {1}; accuracy test: {2}\".format(x, tree_result[1], tree_result[2]))"
   ]
  },
  {
   "cell_type": "markdown",
   "metadata": {},
   "source": []
  },
  {
   "cell_type": "code",
   "execution_count": null,
   "metadata": {},
   "outputs": [],
   "source": [
    "from sklearn.tree import export_graphviz\n",
    "\n",
    "# Building the tree\n",
    "decision_tree = tune_decision_tree(6)[0]\n",
    "\n",
    "# Selecting the feature and target names\n",
    "wine_feature_names = df_red_wine.loc[:,'fixed acidity':].columns\n",
    "wine_target_names = df_red_wine['points'].unique()\n",
    "wine_target_names\n",
    "\n",
    "# Export as dot file\n",
    "export_graphviz(decision_tree,\n",
    "                feature_names = wine_feature_names,\n",
    "                out_file='tree.dot',\n",
    "                rounded = True, proportion = False, \n",
    "                precision = 2, filled = True)\n",
    "\n",
    "# Convert to png using system command (requires Graphviz)\n",
    "from subprocess import call\n",
    "call(['dot', '-Tpng', 'tree.dot', '-o', 'tree.png', '-Gdpi=600'])\n",
    "\n",
    "# Display in jupyter notebook\n",
    "from IPython.display import Image\n",
    "Image(filename = 'tree.png')"
   ]
  },
  {
   "cell_type": "markdown",
   "metadata": {},
   "source": [
    "\n",
    "Alcohol is de grootste discriminator"
   ]
  },
  {
   "cell_type": "markdown",
   "metadata": {},
   "source": [
    "### Conclusie\n",
    "Geen significante correlatie tussen de hoeveelheid punten die een bepaalde wijn heeft gekregen en de chemische kenmerken van de desbetreffende wijn. Hierdoor is het voorspellen door middel van lineaire regressie niet effectief wat ook blijkt uit de testen die we met dit algoritme hebben gedaan.  \n",
    "De voorspellingen vanuit een decision tree waren iets effectiever\n",
    "\n",
    "- Alle scores die aan een bepaalde wijn zijn gegeven zijn subjectief van aard."
   ]
  },
  {
   "cell_type": "markdown",
   "metadata": {},
   "source": [
    "## onderzoeksvraag 2\n",
    "Hieronder zullen we proberen de volgende onderzoeksvraag uit te werken:  \n",
    "#### In hoeverre speelt de prijs een rol in de beoordeling van de wijn?"
   ]
  },
  {
   "cell_type": "code",
   "execution_count": null,
   "metadata": {},
   "outputs": [],
   "source": []
  },
  {
   "cell_type": "markdown",
   "metadata": {},
   "source": [
    "## onderzoeksvraag 3"
   ]
  },
  {
   "cell_type": "code",
   "execution_count": null,
   "metadata": {},
   "outputs": [],
   "source": []
  },
  {
   "cell_type": "markdown",
   "metadata": {},
   "source": [
    "## onderzoeksvraag 4"
   ]
  },
  {
   "cell_type": "code",
   "execution_count": null,
   "metadata": {},
   "outputs": [],
   "source": []
  },
  {
   "cell_type": "markdown",
   "metadata": {},
   "source": [
    "## Hypothesetoets  \n",
    "In het afgelopen jaar was het bijzonder zonnig in Portugal. De verbouwers van wijn vragen zich af of dit de zuurgraad (pH) van heeft beïnvloed, met andere woorden: of de wijnen uit het afgelopen jaar een andere pH hebben dan de wijnen uit andere jaren. Ze doen daarom een steekproef en meten de zuurgraad in enkele rode wijnen van afgelopen jaar. Daar komen de volgende meetwaarden uit:"
   ]
  },
  {
   "cell_type": "code",
   "execution_count": null,
   "metadata": {},
   "outputs": [],
   "source": [
    "steekproef = np.array([3.41, 3.51, 3.39, 3.11, 3.21, 3.50, 3.46, 3.37, 3.71])"
   ]
  },
  {
   "cell_type": "markdown",
   "metadata": {},
   "source": [
    "De onderzoeksvraag is: Hebben deze wijnen een significant andere zuurgraad dan gemiddeld?  \n",
    "Om zometeen een conclusie te kunnen trekken moeten we eerst de hypotheses opstellen:  \n",
    "- H0: Er is niet een verschil tussen de gemiddeldes van de wijnen uit de steekproef en de wijnen uit de totale populatie.\n",
    "- H1: Er is een verschil tussen de gemiddeldes van de wijnen uit de steekproef en de wijnen uit de totale populatie.  \n",
    "  \n",
    "Er is sprake van een tweezijdige toets."
   ]
  },
  {
   "cell_type": "markdown",
   "metadata": {},
   "source": [
    "Allereerst berekenen we wat statistieken van zowel de gehele populatie als de steekproef."
   ]
  },
  {
   "cell_type": "code",
   "execution_count": null,
   "metadata": {},
   "outputs": [],
   "source": [
    "# gemiddelde populatie\n",
    "mu = df_red_wine['pH'].mean()\n",
    "# standaarddeviatie populatie\n",
    "sigma = float(df_red_wine['pH'].std())\n",
    "\n",
    "# grootte steekproef\n",
    "n_sp = len(steekproef)\n",
    "# gemiddelde steekproef\n",
    "mean_sp = steekproef.mean()\n",
    "\n",
    "print(\"Gemiddelde populatie: {0}\\nStandaarddeviatie populatie: {1}\".format(mu, sigma))\n",
    "print(\"\\nGrootte steekproef: {0}\\nGemiddelde steekproef: {1}\".format(n_sp, mean_sp))"
   ]
  },
  {
   "cell_type": "markdown",
   "metadata": {},
   "source": [
    "Hierna bepalen we de foutmarge  \n",
    "Gegeven: $\\alpha = 0.05$"
   ]
  },
  {
   "cell_type": "code",
   "execution_count": null,
   "metadata": {},
   "outputs": [],
   "source": [
    "alpha = 0.025\n",
    "\n",
    "# Calculate the z-grens\n",
    "neg_z_grens = stats.norm.ppf(alpha)\n",
    "pos_z_grens = stats.norm.ppf(1 - alpha)"
   ]
  },
  {
   "cell_type": "markdown",
   "metadata": {},
   "source": [
    "Nu willen we de grenswaarde van het kritieke gebied berekenen. Aangezien er te maken is met een tweezijdige toets hebben we nu twee grenswaardes nodig.\n",
    "Dit doen we met behulp van de volgende formule:  \n",
    "$gr = \\mu + \\frac{z \\cdot \\sigma}{\\sqrt{n}}$"
   ]
  },
  {
   "cell_type": "code",
   "execution_count": null,
   "metadata": {},
   "outputs": [],
   "source": [
    "pos_grens = mu + ((pos_z_grens * sigma) / n_sp**0.5)\n",
    "neg_grens = mu + ((neg_z_grens * sigma) / n_sp**0.5)\n",
    "\n",
    "print(\"Positieve grenswaarde: {0}\\nNegatieve grenswaarde: {1}\".format(pos_grens, neg_grens))"
   ]
  },
  {
   "cell_type": "markdown",
   "metadata": {},
   "source": [
    "Het kritieke gebied is $x < 3.211$ en $x > 3.412$. Het gemiddelde van de steekproef is $3.408$ dus de waarde ligt niet in het kritieke gebied dus we hebben niet genoeg bewijs om de nulhypothese te kunnen verwerpen. Ofwel deze wijnen hebben niet een andere significante zuurgraad dan gemiddeld."
   ]
  }
 ],
 "metadata": {
  "kernelspec": {
   "display_name": "Python 3",
   "language": "python",
   "name": "python3"
  },
  "language_info": {
   "codemirror_mode": {
    "name": "ipython",
    "version": 3
   },
   "file_extension": ".py",
   "mimetype": "text/x-python",
   "name": "python",
   "nbconvert_exporter": "python",
   "pygments_lexer": "ipython3",
   "version": "3.7.1"
  }
 },
 "nbformat": 4,
 "nbformat_minor": 1
}
