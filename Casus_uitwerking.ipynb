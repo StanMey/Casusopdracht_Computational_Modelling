{
 "cells": [
  {
   "cell_type": "markdown",
   "metadata": {
    "collapsed": true,
    "pycharm": {
     "name": "#%% md\n"
    }
   },
   "source": [
    "# Analyse over Wijn\n",
    "- Stan Meyberg (TICT-AI-V2A-19)\n",
    "- Roeland Oostdam (TICT-AI-V2A-19)\n",
    "- Ruben Klinkenberg (TICT-AI-V2A-19)\n"
   ]
  },
  {
   "cell_type": "markdown",
   "metadata": {},
   "source": [
    "## onderzoeksvragen\n",
    "1. In hoeverre is de score van een Portugese Red te voorspellen op basis van de chemische kenmerken?  \n",
    "2. In hoeverre speelt de prijs een rol in de beoordeling van de wijn?\n",
    "3. In hoeverre kan op basis van de chemische kenmerken voorspelt worden of het een witte of rode wijn is?\n",
    "4. Welke kernwoorden zijn typerend voor een hoog scorende wijn?  \n",
    "\n",
    "Wij zullen deze onderzoeksvragen zo goed mogelijk proberen te beantwoorden.\n",
    "Voor de beantwoording van deze vragen maken wij gebruik van het Data Science proces.  \n",
    "Dit proces ziet er als volgt uit:\n",
    "### Het data science proces\n",
    "1. Data collection\n",
    "2. Data processing\n",
    "3. Data cleaning\n",
    "4. Data exploration & analysis\n",
    "5. Model building\n",
    "6. Visualization\n",
    "7. Communication\n"
   ]
  },
  {
   "cell_type": "markdown",
   "metadata": {
    "pycharm": {
     "metadata": false,
     "name": "#%% md\n"
    }
   },
   "source": [
    "Allereerst zullen we de benodigde libraries importeren.\n",
    "Deze libraries zullen we gebruiken voor het analyseren en het visualiseren van de data."
   ]
  },
  {
   "cell_type": "code",
   "execution_count": 6,
   "metadata": {
    "pycharm": {
     "is_executing": false,
     "metadata": false,
     "name": "#%%\n"
    }
   },
   "outputs": [],
   "source": [
    "# data analysis libraries \n",
    "import numpy as np\n",
    "import pandas as pd\n",
    "\n",
    "# visualization libraries\n",
    "import matplotlib.pyplot as plt\n",
    "import seaborn as sns\n",
    "\n",
    "# libraries for machine learning algorithms\n",
    "from sklearn.model_selection import train_test_split\n",
    "from sklearn.linear_model import LinearRegression\n",
    "from sklearn.tree import DecisionTreeClassifier\n",
    "from sklearn.metrics import mean_squared_error, accuracy_score\n",
    "\n",
    "# library for statistical functions\n",
    "import scipy.stats as stats\n"
   ]
  },
  {
   "cell_type": "markdown",
   "metadata": {},
   "source": [
    "## Data Collection\n",
    "De eerste dataset die we gaan gebruiken is aan ons aangeleverd. De dataset is een csv bestand en heet: 'redwine.csv'. In de dataset staat informatie en chemische kenmerken van wijnen in Portugal. \n",
    "\n",
    "Allereerst beginnen we met het importeren van de dataset en kijken we of de dataset correct is geïmporteerd door de eerste 5 regels op te vragen."
   ]
  },
  {
   "cell_type": "code",
   "execution_count": 8,
   "metadata": {
    "pycharm": {
     "is_executing": false,
     "metadata": false,
     "name": "#%%\n"
    },
    "scrolled": true
   },
   "outputs": [
    {
     "data": {
      "text/html": [
       "<div>\n",
       "<style scoped>\n",
       "    .dataframe tbody tr th:only-of-type {\n",
       "        vertical-align: middle;\n",
       "    }\n",
       "\n",
       "    .dataframe tbody tr th {\n",
       "        vertical-align: top;\n",
       "    }\n",
       "\n",
       "    .dataframe thead th {\n",
       "        text-align: right;\n",
       "    }\n",
       "</style>\n",
       "<table border=\"1\" class=\"dataframe\">\n",
       "  <thead>\n",
       "    <tr style=\"text-align: right;\">\n",
       "      <th></th>\n",
       "      <th>id</th>\n",
       "      <th>country</th>\n",
       "      <th>description</th>\n",
       "      <th>designation</th>\n",
       "      <th>points</th>\n",
       "      <th>price</th>\n",
       "      <th>province</th>\n",
       "      <th>taster_name</th>\n",
       "      <th>title</th>\n",
       "      <th>variety</th>\n",
       "      <th>...</th>\n",
       "      <th>volatile acidity</th>\n",
       "      <th>citric acid</th>\n",
       "      <th>residual sugar</th>\n",
       "      <th>chlorides</th>\n",
       "      <th>free sulfur dioxide</th>\n",
       "      <th>total sulfur dioxide</th>\n",
       "      <th>density</th>\n",
       "      <th>pH</th>\n",
       "      <th>sulphates</th>\n",
       "      <th>alcohol</th>\n",
       "    </tr>\n",
       "  </thead>\n",
       "  <tbody>\n",
       "    <tr>\n",
       "      <th>0</th>\n",
       "      <td>1</td>\n",
       "      <td>Portugal</td>\n",
       "      <td>This is ripe and fruity, a wine that is smooth...</td>\n",
       "      <td>Avidagos</td>\n",
       "      <td>87</td>\n",
       "      <td>15.0</td>\n",
       "      <td>Douro</td>\n",
       "      <td>Kerin OKeefe</td>\n",
       "      <td>Quinta dos Avidagos 2011 Avidagos Red (Douro)</td>\n",
       "      <td>Portuguese Red</td>\n",
       "      <td>...</td>\n",
       "      <td>0.29</td>\n",
       "      <td>0.4</td>\n",
       "      <td>2.9</td>\n",
       "      <td>0.098</td>\n",
       "      <td>10.0</td>\n",
       "      <td>26.0</td>\n",
       "      <td>10.006</td>\n",
       "      <td>3.48</td>\n",
       "      <td>0.91</td>\n",
       "      <td>9.7</td>\n",
       "    </tr>\n",
       "    <tr>\n",
       "      <th>1</th>\n",
       "      <td>2</td>\n",
       "      <td>Portugal</td>\n",
       "      <td>From an estate in the south of the Alentejo, t...</td>\n",
       "      <td>Grande Reserva Tinto</td>\n",
       "      <td>91</td>\n",
       "      <td>26.0</td>\n",
       "      <td>Alentejano</td>\n",
       "      <td>Roger Voss</td>\n",
       "      <td>Casa Santa Vitória 2013 Grande Reserva Tinto R...</td>\n",
       "      <td>Portuguese Red</td>\n",
       "      <td>...</td>\n",
       "      <td>0.26</td>\n",
       "      <td>0.37</td>\n",
       "      <td>1.4</td>\n",
       "      <td>0.076</td>\n",
       "      <td>8.0</td>\n",
       "      <td>23.0</td>\n",
       "      <td>0.9974</td>\n",
       "      <td>3.26</td>\n",
       "      <td>0.70</td>\n",
       "      <td>9.6</td>\n",
       "    </tr>\n",
       "    <tr>\n",
       "      <th>2</th>\n",
       "      <td>3</td>\n",
       "      <td>Portugal</td>\n",
       "      <td>A year in wood and 30 months in bottle before ...</td>\n",
       "      <td>Montes Claros Garrafeira</td>\n",
       "      <td>90</td>\n",
       "      <td>28.0</td>\n",
       "      <td>Alentejo</td>\n",
       "      <td>Paul Gregutt</td>\n",
       "      <td>Adega Cooperativa de Borba 2012 Montes Claros ...</td>\n",
       "      <td>Portuguese Red</td>\n",
       "      <td>...</td>\n",
       "      <td>0.69</td>\n",
       "      <td>0.07</td>\n",
       "      <td>2.5</td>\n",
       "      <td>0.091</td>\n",
       "      <td>15.0</td>\n",
       "      <td>21.0</td>\n",
       "      <td>0.99572</td>\n",
       "      <td>3.38</td>\n",
       "      <td>0.60</td>\n",
       "      <td>11.3</td>\n",
       "    </tr>\n",
       "    <tr>\n",
       "      <th>3</th>\n",
       "      <td>4</td>\n",
       "      <td>Portugal</td>\n",
       "      <td>Wood aging gives this ripe blend of Baga and T...</td>\n",
       "      <td>NaN</td>\n",
       "      <td>90</td>\n",
       "      <td>20.0</td>\n",
       "      <td>Beira Atlantico</td>\n",
       "      <td>Alexander Peartree</td>\n",
       "      <td>Quinta de Foz de Arouce 2013 Red (Beira Atlant...</td>\n",
       "      <td>Portuguese Red</td>\n",
       "      <td>...</td>\n",
       "      <td>0.69</td>\n",
       "      <td>0.07</td>\n",
       "      <td>2.5</td>\n",
       "      <td>0.091</td>\n",
       "      <td>15.0</td>\n",
       "      <td>21.0</td>\n",
       "      <td>0.99572</td>\n",
       "      <td>3.38</td>\n",
       "      <td>0.60</td>\n",
       "      <td>11.3</td>\n",
       "    </tr>\n",
       "    <tr>\n",
       "      <th>4</th>\n",
       "      <td>5</td>\n",
       "      <td>Portugal</td>\n",
       "      <td>A powerful wine, richly structured and full of...</td>\n",
       "      <td>Gerações Colheita Seleccionada</td>\n",
       "      <td>92</td>\n",
       "      <td>34.0</td>\n",
       "      <td>Alentejano</td>\n",
       "      <td>Paul Gregutt</td>\n",
       "      <td>Herdade Grande 2010 Gerações Colheita Seleccio...</td>\n",
       "      <td>Portuguese Red</td>\n",
       "      <td>...</td>\n",
       "      <td>0.48</td>\n",
       "      <td>0.34</td>\n",
       "      <td>2.2</td>\n",
       "      <td>0.073</td>\n",
       "      <td>16.0</td>\n",
       "      <td>25.0</td>\n",
       "      <td>0.9936</td>\n",
       "      <td>3.28</td>\n",
       "      <td>0.66</td>\n",
       "      <td>12.4</td>\n",
       "    </tr>\n",
       "  </tbody>\n",
       "</table>\n",
       "<p>5 rows × 22 columns</p>\n",
       "</div>"
      ],
      "text/plain": [
       "   id   country                                        description  \\\n",
       "0   1  Portugal  This is ripe and fruity, a wine that is smooth...   \n",
       "1   2  Portugal  From an estate in the south of the Alentejo, t...   \n",
       "2   3  Portugal  A year in wood and 30 months in bottle before ...   \n",
       "3   4  Portugal  Wood aging gives this ripe blend of Baga and T...   \n",
       "4   5  Portugal  A powerful wine, richly structured and full of...   \n",
       "\n",
       "                      designation  points  price         province  \\\n",
       "0                        Avidagos      87   15.0            Douro   \n",
       "1            Grande Reserva Tinto      91   26.0       Alentejano   \n",
       "2        Montes Claros Garrafeira      90   28.0         Alentejo   \n",
       "3                             NaN      90   20.0  Beira Atlantico   \n",
       "4  Gerações Colheita Seleccionada      92   34.0       Alentejano   \n",
       "\n",
       "          taster_name                                              title  \\\n",
       "0       Kerin OKeefe      Quinta dos Avidagos 2011 Avidagos Red (Douro)   \n",
       "1          Roger Voss  Casa Santa Vitória 2013 Grande Reserva Tinto R...   \n",
       "2        Paul Gregutt  Adega Cooperativa de Borba 2012 Montes Claros ...   \n",
       "3  Alexander Peartree  Quinta de Foz de Arouce 2013 Red (Beira Atlant...   \n",
       "4        Paul Gregutt  Herdade Grande 2010 Gerações Colheita Seleccio...   \n",
       "\n",
       "          variety  ... volatile acidity  citric acid  residual sugar  \\\n",
       "0  Portuguese Red  ...             0.29          0.4             2.9   \n",
       "1  Portuguese Red  ...             0.26         0.37             1.4   \n",
       "2  Portuguese Red  ...             0.69         0.07             2.5   \n",
       "3  Portuguese Red  ...             0.69         0.07             2.5   \n",
       "4  Portuguese Red  ...             0.48         0.34             2.2   \n",
       "\n",
       "  chlorides  free sulfur dioxide  total sulfur dioxide  density    pH  \\\n",
       "0     0.098                 10.0                  26.0   10.006  3.48   \n",
       "1     0.076                  8.0                  23.0   0.9974  3.26   \n",
       "2     0.091                 15.0                  21.0  0.99572  3.38   \n",
       "3     0.091                 15.0                  21.0  0.99572  3.38   \n",
       "4     0.073                 16.0                  25.0   0.9936  3.28   \n",
       "\n",
       "  sulphates  alcohol  \n",
       "0      0.91      9.7  \n",
       "1      0.70      9.6  \n",
       "2      0.60     11.3  \n",
       "3      0.60     11.3  \n",
       "4      0.66     12.4  \n",
       "\n",
       "[5 rows x 22 columns]"
      ]
     },
     "execution_count": 8,
     "metadata": {},
     "output_type": "execute_result"
    }
   ],
   "source": [
    "# import the data files\n",
    "df_red_wine = pd.read_csv(\"data/redwine.csv\", encoding = \"ISO-8859-1\", sep=\";\")\n",
    "df_red_wine.head()"
   ]
  },
  {
   "cell_type": "markdown",
   "metadata": {},
   "source": [
    "### externe dataset\n",
    "Aangezien onze eerste dataset alleen maar kenmerken van rode wijn bevat zijn wij gaan zoeken naar een dataset met kenmerken van witte wijn.  \n",
    "  \n",
    "De dataset komt van de volgende website: https://archive.ics.uci.edu/ml/datasets/wine+quality  \n",
    "  \n",
    "Ook deze dataset gaan we importeren om hierna te controleren of hij goed geïmporteerd is."
   ]
  },
  {
   "cell_type": "code",
   "execution_count": 9,
   "metadata": {
    "scrolled": true
   },
   "outputs": [
    {
     "data": {
      "text/html": [
       "<div>\n",
       "<style scoped>\n",
       "    .dataframe tbody tr th:only-of-type {\n",
       "        vertical-align: middle;\n",
       "    }\n",
       "\n",
       "    .dataframe tbody tr th {\n",
       "        vertical-align: top;\n",
       "    }\n",
       "\n",
       "    .dataframe thead th {\n",
       "        text-align: right;\n",
       "    }\n",
       "</style>\n",
       "<table border=\"1\" class=\"dataframe\">\n",
       "  <thead>\n",
       "    <tr style=\"text-align: right;\">\n",
       "      <th></th>\n",
       "      <th>fixed acidity</th>\n",
       "      <th>volatile acidity</th>\n",
       "      <th>citric acid</th>\n",
       "      <th>residual sugar</th>\n",
       "      <th>chlorides</th>\n",
       "      <th>free sulfur dioxide</th>\n",
       "      <th>total sulfur dioxide</th>\n",
       "      <th>density</th>\n",
       "      <th>pH</th>\n",
       "      <th>sulphates</th>\n",
       "      <th>alcohol</th>\n",
       "      <th>quality</th>\n",
       "    </tr>\n",
       "  </thead>\n",
       "  <tbody>\n",
       "    <tr>\n",
       "      <th>0</th>\n",
       "      <td>7.0</td>\n",
       "      <td>0.27</td>\n",
       "      <td>0.36</td>\n",
       "      <td>20.7</td>\n",
       "      <td>0.045</td>\n",
       "      <td>45.0</td>\n",
       "      <td>170.0</td>\n",
       "      <td>1.0010</td>\n",
       "      <td>3.00</td>\n",
       "      <td>0.45</td>\n",
       "      <td>8.8</td>\n",
       "      <td>6</td>\n",
       "    </tr>\n",
       "    <tr>\n",
       "      <th>1</th>\n",
       "      <td>6.3</td>\n",
       "      <td>0.30</td>\n",
       "      <td>0.34</td>\n",
       "      <td>1.6</td>\n",
       "      <td>0.049</td>\n",
       "      <td>14.0</td>\n",
       "      <td>132.0</td>\n",
       "      <td>0.9940</td>\n",
       "      <td>3.30</td>\n",
       "      <td>0.49</td>\n",
       "      <td>9.5</td>\n",
       "      <td>6</td>\n",
       "    </tr>\n",
       "    <tr>\n",
       "      <th>2</th>\n",
       "      <td>8.1</td>\n",
       "      <td>0.28</td>\n",
       "      <td>0.40</td>\n",
       "      <td>6.9</td>\n",
       "      <td>0.050</td>\n",
       "      <td>30.0</td>\n",
       "      <td>97.0</td>\n",
       "      <td>0.9951</td>\n",
       "      <td>3.26</td>\n",
       "      <td>0.44</td>\n",
       "      <td>10.1</td>\n",
       "      <td>6</td>\n",
       "    </tr>\n",
       "    <tr>\n",
       "      <th>3</th>\n",
       "      <td>7.2</td>\n",
       "      <td>0.23</td>\n",
       "      <td>0.32</td>\n",
       "      <td>8.5</td>\n",
       "      <td>0.058</td>\n",
       "      <td>47.0</td>\n",
       "      <td>186.0</td>\n",
       "      <td>0.9956</td>\n",
       "      <td>3.19</td>\n",
       "      <td>0.40</td>\n",
       "      <td>9.9</td>\n",
       "      <td>6</td>\n",
       "    </tr>\n",
       "    <tr>\n",
       "      <th>4</th>\n",
       "      <td>7.2</td>\n",
       "      <td>0.23</td>\n",
       "      <td>0.32</td>\n",
       "      <td>8.5</td>\n",
       "      <td>0.058</td>\n",
       "      <td>47.0</td>\n",
       "      <td>186.0</td>\n",
       "      <td>0.9956</td>\n",
       "      <td>3.19</td>\n",
       "      <td>0.40</td>\n",
       "      <td>9.9</td>\n",
       "      <td>6</td>\n",
       "    </tr>\n",
       "  </tbody>\n",
       "</table>\n",
       "</div>"
      ],
      "text/plain": [
       "   fixed acidity  volatile acidity  citric acid  residual sugar  chlorides  \\\n",
       "0            7.0              0.27         0.36            20.7      0.045   \n",
       "1            6.3              0.30         0.34             1.6      0.049   \n",
       "2            8.1              0.28         0.40             6.9      0.050   \n",
       "3            7.2              0.23         0.32             8.5      0.058   \n",
       "4            7.2              0.23         0.32             8.5      0.058   \n",
       "\n",
       "   free sulfur dioxide  total sulfur dioxide  density    pH  sulphates  \\\n",
       "0                 45.0                 170.0   1.0010  3.00       0.45   \n",
       "1                 14.0                 132.0   0.9940  3.30       0.49   \n",
       "2                 30.0                  97.0   0.9951  3.26       0.44   \n",
       "3                 47.0                 186.0   0.9956  3.19       0.40   \n",
       "4                 47.0                 186.0   0.9956  3.19       0.40   \n",
       "\n",
       "   alcohol  quality  \n",
       "0      8.8        6  \n",
       "1      9.5        6  \n",
       "2     10.1        6  \n",
       "3      9.9        6  \n",
       "4      9.9        6  "
      ]
     },
     "execution_count": 9,
     "metadata": {},
     "output_type": "execute_result"
    }
   ],
   "source": [
    "df_white_wine = pd.read_csv(\"data/winequality-white.csv\", sep=\";\")\n",
    "df_white_wine.head()"
   ]
  },
  {
   "cell_type": "markdown",
   "metadata": {},
   "source": [
    "## Data Processing\n",
    "Aangezien de bestanden met de data al in een csv bestand staan kunnen deze direct in een dataframe worden ingelezen.  \n",
    "Nu is het nog aan ons om te beslissen of er nog kolomnamen zijn die aangepast moeten worden en welke kolommen we gaan droppen.  \n",
    "In totaal heeft deze dataset 22 kolommen. Om uit te zoeken welke kolommen essentieel zijn voor het verdere proces gaan we nu eerste kijken hoe de kolommen heten."
   ]
  },
  {
   "cell_type": "code",
   "execution_count": 10,
   "metadata": {
    "pycharm": {
     "is_executing": false,
     "metadata": false,
     "name": "#%%\n"
    },
    "scrolled": true
   },
   "outputs": [
    {
     "data": {
      "text/plain": [
       "Index(['id', 'country', 'description', 'designation', 'points', 'price',\n",
       "       'province', 'taster_name', 'title', 'variety', 'winery',\n",
       "       'fixed acidity', 'volatile acidity', 'citric acid', 'residual sugar',\n",
       "       'chlorides', 'free sulfur dioxide', 'total sulfur dioxide', 'density',\n",
       "       'pH', 'sulphates', 'alcohol'],\n",
       "      dtype='object')"
      ]
     },
     "execution_count": 10,
     "metadata": {},
     "output_type": "execute_result"
    }
   ],
   "source": [
    "df_red_wine.columns"
   ]
  },
  {
   "cell_type": "markdown",
   "metadata": {
    "pycharm": {
     "metadata": false,
     "name": "#%% md\n"
    }
   },
   "source": [
    "Om goed te kunnen begrijpen met welke data we hier mee te maken hebben is hieronder voor iedere kolom de betekenis van de data die erin staat gegeven.  \n",
    "\n",
    "- **id**  \n",
    "    Een uniek nummer voor iedere rij.\n",
    "- **Country**  \n",
    "    Het land waar de wijn vandaan komt.\n",
    "- **Description**  \n",
    "    De beschrijving van de wijn.\n",
    "- **Designation**  \n",
    "    De wijngaard waar tenminste 85% van de druiven vandaan komen.\n",
    "- **Points**  \n",
    "    De hoeveelheid punten die de wijn heeft gekregen van de proever.\n",
    "- **Price**  \n",
    "    De prijs van de wijn.\n",
    "- **Province**  \n",
    "    De provincie waar de wijn.\n",
    "- **Taster_name**  \n",
    "    De volledige naam van de proever.\n",
    "- **Title**  \n",
    "    De titel die normaliter op het wijnetiket staat.\n",
    "- **Variety**  \n",
    "    Het type druif dat gebruikt wordt.\n",
    "- **Winery**  \n",
    "    Het bedrijf waar de wijn geproduceerd is.\n",
    "- **Fixed acidity**  \n",
    "    Zuren zijn zeer belangrijke bestanddelen van wijn en voegen zeer veel toe aan de smaak. Hoe hoger de hoeveelheid zuren des te zuurder de wijn wordt.\n",
    "- **Volatile acidity**  \n",
    "    De hoeveelheid azijnzuur in de wijn. Kan leiden tot een azijnachtige smaak als het in te grote hoeveelheden aanwezig is.\n",
    "- **Citric acid**  \n",
    "    Een zuur die gebruikt kan worden als natuurlijk conserveermiddel. Citroenzuur kan bijdragen aan de frisheid en smaak van de wijn.\n",
    "- **Residual sugar**  \n",
    "    De hoeveelheid suiker die over is na de fermentatie van de wijn. De hoeveelheid suiker in de wijn geeft de type van de wijn aan (droog, halfdroog, zoet).\n",
    "- **Chlorides**  \n",
    "    De hoeveelheid zout in de wijn.\n",
    "- **Free sulfur dioxide**  \n",
    "    De hoeveelheid zwaveldioxide dat vrij in de wijn zit. (Wat dus niet gebonden is aan andere chemicaliën in de wijn).\n",
    "    Het zwaveldioxide voorkomt oxidatie van de wijn en wordt als conserveringsmiddel in veel levensmiddelen gebruikt.\n",
    "    Zwaveldioxide wat niet vrij is, en dus al gebonden is aan andere stoffen in de wijn, heeft geen antioxiderende werking meer.\n",
    "- **Total sulfur dioxide**  \n",
    "    De totale hoeveelheid zwaveldioxide dat in de wijn zit.  \n",
    "    Een te hoge concentratie zwaveldioxide kan de smaak verpesten.\n",
    "    Een te lage concentratie zwaveldioxide kan ervoor zorgen dat er teveel bacteriën in de wijn blijven zitten waardoor het gevaarlijk kan zijn om te drinken.\n",
    "- **Density**  \n",
    "    De dichtheid van de wijn. De dichtheid kan verminderen door toevoeging van meer alcohol.\n",
    "- **pH**  \n",
    "    Is een maat voor de zuurgraad van een waterige oplossing. De schaal gaat van 0 (zuur) tot 14 (basisch). De meeste wijnen zitten tussen de 2.8 en de 4.0.\n",
    "- **Sulphates (sulfites)**  \n",
    "    Een additief die bijdraagt aan het vermeerderen van het gas zwaveldioxide.\n",
    "- **Alcohol**  \n",
    "    Het percentage alcohol in de wijn.\n",
    "\n",
    "Voor het uitzoeken van de betekenis van deze termen/kolommen zijn de volgende bronnen gebruikt:  \n",
    "- https://www.gall.nl/ontdek/wijn/de-zuurgraad-van-wijn/\n",
    "- https://winecompliancealliance.com/vinyard-designation-on-a-wine-label/\n",
    "- https://wineserver.ucdavis.edu/industry-info/enology/methods-and-techniques/common-chemical-reagents/citric-acid\n",
    "- https://waterhouse.ucdavis.edu/whats-in-wine/volatile-acidity\n",
    "- http://rstudio-pubs-static.s3.amazonaws.com/80458_5000e31f84df449099a872ccf40747b7.html\n"
   ]
  },
  {
   "cell_type": "markdown",
   "metadata": {},
   "source": [
    "Bij deze dataset hebben we al de voorkennis dat al deze wijnen uit Portugal komen. Hierdoor hoeven we de kolom 'country' niet te gebruiken. Verder geeft 'variety' aan met wat voor druif we te maken hebben, waarschijnlijk zal dit ook maar één unieke waarde hebben.  \n",
    "Voordat we deze kolommen weggooien checken we nog voor de zekerheid of onze aannames kloppen. "
   ]
  },
  {
   "cell_type": "markdown",
   "metadata": {},
   "source": [
    "### Externe dataset"
   ]
  },
  {
   "cell_type": "code",
   "execution_count": 14,
   "metadata": {},
   "outputs": [
    {
     "data": {
      "text/plain": [
       "Index(['fixed acidity', 'volatile acidity', 'citric acid', 'residual sugar',\n",
       "       'chlorides', 'free sulfur dioxide', 'total sulfur dioxide', 'density',\n",
       "       'pH', 'sulphates', 'alcohol', 'quality'],\n",
       "      dtype='object')"
      ]
     },
     "execution_count": 14,
     "metadata": {},
     "output_type": "execute_result"
    }
   ],
   "source": [
    "df_white_wine.columns"
   ]
  },
  {
   "cell_type": "markdown",
   "metadata": {},
   "source": [
    "Opnieuw beschrijven we iedere aanwezige kolom\n",
    "- **Fixed acidity** \n",
    "    Zuren zijn zeer belangrijke bestanddelen van wijn en voegen zeer veel toe aan de smaak. Hoe hoger de hoeveelheid zuren des te zuurder de wijn wordt.\n",
    "- **Volatile acidity**  \n",
    "    De hoeveelheid azijnzuur in de wijn. Kan leiden tot een azijnachtige smaak als het in te grote hoeveelheden aanwezig is.\n",
    "- **Citric acid**  \n",
    "    Een zuur die gebruikt kan worden als natuurlijk conserveermiddel. Citroenzuur kan bijdragen aan de frisheid en smaak van de wijn.\n",
    "- **Residual sugar**  \n",
    "    De hoeveelheid suiker die over is na de fermentatie van de wijn. De hoeveelheid suiker in de wijn geeft de type van de wijn aan (droog, halfdroog, zoet).\n",
    "- **Chlorides**  \n",
    "    De hoeveelheid zout in de wijn.\n",
    "- **Free sulfur dioxide**  \n",
    "    De hoeveelheid zwaveldioxide dat vrij in de wijn zit. (Wat dus niet gebonden is aan andere chemicaliën in de wijn).\n",
    "    Het zwaveldioxide voorkomt oxidatie van de wijn en wordt als conserveringsmiddel in veel levensmiddelen gebruikt.\n",
    "    Zwaveldioxide wat niet vrij is, en dus al gebonden is aan andere stoffen in de wijn, heeft geen antioxiderende werking meer.\n",
    "- **Total sulfur dioxide**  \n",
    "    De totale hoeveelheid zwaveldioxide dat in de wijn zit.  \n",
    "    Een te hoge concentratie zwaveldioxide kan de smaak verpesten.\n",
    "    Een te lage concentratie zwaveldioxide kan ervoor zorgen dat er teveel bacteriën in de wijn blijven zitten waardoor het gevaarlijk kan zijn om te drinken.\n",
    "- **Density**  \n",
    "    De dichtheid van de wijn. De dichtheid kan verminderen door toevoeging van meer alcohol.\n",
    "- **pH**  \n",
    "    Is een maat voor de zuurgraad van een waterige oplossing. De schaal gaat van 0 (zuur) tot 14 (basisch). De meeste wijnen zitten tussen de 2.8 en de 4.0.\n",
    "- **Sulphates**  \n",
    "    Een additief die bijdraagt aan het vermeerderen van het gas zwaveldioxide.\n",
    "- **Alcohol**\n",
    "    Het percentage alcohol in de wijn.\n",
    "- **Quality**  \n",
    "    Een score van 0 tot 10.\n",
    "    \n",
    "Voor het uitzoeken van de betekenis van deze termen/kolommen zijn de volgende bronnen gebruikt:  \n",
    "- https://www.gall.nl/ontdek/wijn/de-zuurgraad-van-wijn/\n",
    "- https://winecompliancealliance.com/vinyard-designation-on-a-wine-label/\n",
    "- https://wineserver.ucdavis.edu/industry-info/enology/methods-and-techniques/common-chemical-reagents/citric-acid\n",
    "- https://waterhouse.ucdavis.edu/whats-in-wine/volatile-acidity\n",
    "- http://rstudio-pubs-static.s3.amazonaws.com/80458_5000e31f84df449099a872ccf40747b7.html"
   ]
  },
  {
   "cell_type": "code",
   "execution_count": 15,
   "metadata": {},
   "outputs": [
    {
     "data": {
      "text/plain": [
       "array(['Portugal'], dtype=object)"
      ]
     },
     "execution_count": 15,
     "metadata": {},
     "output_type": "execute_result"
    }
   ],
   "source": [
    "df_red_wine['country'].unique()"
   ]
  },
  {
   "cell_type": "code",
   "execution_count": 16,
   "metadata": {},
   "outputs": [
    {
     "data": {
      "text/plain": [
       "array(['Portuguese Red'], dtype=object)"
      ]
     },
     "execution_count": 16,
     "metadata": {},
     "output_type": "execute_result"
    }
   ],
   "source": [
    "df_red_wine['variety'].unique()"
   ]
  },
  {
   "cell_type": "markdown",
   "metadata": {},
   "source": [
    "Onze aannames blijken te kloppen. We hebben hier twee keer te maken met een kolom met maar één unieke waarde. Deze kolommen kunnen dus gedropt worden."
   ]
  },
  {
   "cell_type": "code",
   "execution_count": 17,
   "metadata": {},
   "outputs": [],
   "source": [
    "df_red_wine.drop(['country', 'variety'], axis=1, inplace=True)"
   ]
  },
  {
   "cell_type": "markdown",
   "metadata": {},
   "source": [
    "Op basis van onze onderzoeksvragen kunnen we ook de kolommen 'Designation', 'winery' en 'Province' laten vallen. Dit omdat we voor de beantwoording van onze onderzoeksvragen geen onderscheid hoeven te maken tussen de verschillende provincies of de wijngaarden waar de wijn vandaan kan komen.\n",
    "De externe dataset bevat alleen chemische kenmerken die later gebruikt zullen worden in een onderzoeksvraag. Deze dataset zal dus niet worden aangepast."
   ]
  },
  {
   "cell_type": "code",
   "execution_count": 18,
   "metadata": {},
   "outputs": [],
   "source": [
    "df_red_wine.drop(['designation', 'province', 'winery'], axis=1, inplace=True)"
   ]
  },
  {
   "cell_type": "markdown",
   "metadata": {},
   "source": [
    "Verder maken we van de kolom 'id' de index"
   ]
  },
  {
   "cell_type": "code",
   "execution_count": 19,
   "metadata": {},
   "outputs": [
    {
     "data": {
      "text/html": [
       "<div>\n",
       "<style scoped>\n",
       "    .dataframe tbody tr th:only-of-type {\n",
       "        vertical-align: middle;\n",
       "    }\n",
       "\n",
       "    .dataframe tbody tr th {\n",
       "        vertical-align: top;\n",
       "    }\n",
       "\n",
       "    .dataframe thead th {\n",
       "        text-align: right;\n",
       "    }\n",
       "</style>\n",
       "<table border=\"1\" class=\"dataframe\">\n",
       "  <thead>\n",
       "    <tr style=\"text-align: right;\">\n",
       "      <th></th>\n",
       "      <th>description</th>\n",
       "      <th>points</th>\n",
       "      <th>price</th>\n",
       "      <th>taster_name</th>\n",
       "      <th>title</th>\n",
       "      <th>fixed acidity</th>\n",
       "      <th>volatile acidity</th>\n",
       "      <th>citric acid</th>\n",
       "      <th>residual sugar</th>\n",
       "      <th>chlorides</th>\n",
       "      <th>free sulfur dioxide</th>\n",
       "      <th>total sulfur dioxide</th>\n",
       "      <th>density</th>\n",
       "      <th>pH</th>\n",
       "      <th>sulphates</th>\n",
       "      <th>alcohol</th>\n",
       "    </tr>\n",
       "    <tr>\n",
       "      <th>id</th>\n",
       "      <th></th>\n",
       "      <th></th>\n",
       "      <th></th>\n",
       "      <th></th>\n",
       "      <th></th>\n",
       "      <th></th>\n",
       "      <th></th>\n",
       "      <th></th>\n",
       "      <th></th>\n",
       "      <th></th>\n",
       "      <th></th>\n",
       "      <th></th>\n",
       "      <th></th>\n",
       "      <th></th>\n",
       "      <th></th>\n",
       "      <th></th>\n",
       "    </tr>\n",
       "  </thead>\n",
       "  <tbody>\n",
       "    <tr>\n",
       "      <th>1</th>\n",
       "      <td>This is ripe and fruity, a wine that is smooth...</td>\n",
       "      <td>87</td>\n",
       "      <td>15.0</td>\n",
       "      <td>Kerin OKeefe</td>\n",
       "      <td>Quinta dos Avidagos 2011 Avidagos Red (Douro)</td>\n",
       "      <td>10.0</td>\n",
       "      <td>0.29</td>\n",
       "      <td>0.4</td>\n",
       "      <td>2.9</td>\n",
       "      <td>0.098</td>\n",
       "      <td>10.0</td>\n",
       "      <td>26.0</td>\n",
       "      <td>10.006</td>\n",
       "      <td>3.48</td>\n",
       "      <td>0.91</td>\n",
       "      <td>9.7</td>\n",
       "    </tr>\n",
       "    <tr>\n",
       "      <th>2</th>\n",
       "      <td>From an estate in the south of the Alentejo, t...</td>\n",
       "      <td>91</td>\n",
       "      <td>26.0</td>\n",
       "      <td>Roger Voss</td>\n",
       "      <td>Casa Santa Vitória 2013 Grande Reserva Tinto R...</td>\n",
       "      <td>8.3</td>\n",
       "      <td>0.26</td>\n",
       "      <td>0.37</td>\n",
       "      <td>1.4</td>\n",
       "      <td>0.076</td>\n",
       "      <td>8.0</td>\n",
       "      <td>23.0</td>\n",
       "      <td>0.9974</td>\n",
       "      <td>3.26</td>\n",
       "      <td>0.70</td>\n",
       "      <td>9.6</td>\n",
       "    </tr>\n",
       "    <tr>\n",
       "      <th>3</th>\n",
       "      <td>A year in wood and 30 months in bottle before ...</td>\n",
       "      <td>90</td>\n",
       "      <td>28.0</td>\n",
       "      <td>Paul Gregutt</td>\n",
       "      <td>Adega Cooperativa de Borba 2012 Montes Claros ...</td>\n",
       "      <td>7.0</td>\n",
       "      <td>0.69</td>\n",
       "      <td>0.07</td>\n",
       "      <td>2.5</td>\n",
       "      <td>0.091</td>\n",
       "      <td>15.0</td>\n",
       "      <td>21.0</td>\n",
       "      <td>0.99572</td>\n",
       "      <td>3.38</td>\n",
       "      <td>0.60</td>\n",
       "      <td>11.3</td>\n",
       "    </tr>\n",
       "    <tr>\n",
       "      <th>4</th>\n",
       "      <td>Wood aging gives this ripe blend of Baga and T...</td>\n",
       "      <td>90</td>\n",
       "      <td>20.0</td>\n",
       "      <td>Alexander Peartree</td>\n",
       "      <td>Quinta de Foz de Arouce 2013 Red (Beira Atlant...</td>\n",
       "      <td>7.0</td>\n",
       "      <td>0.69</td>\n",
       "      <td>0.07</td>\n",
       "      <td>2.5</td>\n",
       "      <td>0.091</td>\n",
       "      <td>15.0</td>\n",
       "      <td>21.0</td>\n",
       "      <td>0.99572</td>\n",
       "      <td>3.38</td>\n",
       "      <td>0.60</td>\n",
       "      <td>11.3</td>\n",
       "    </tr>\n",
       "    <tr>\n",
       "      <th>5</th>\n",
       "      <td>A powerful wine, richly structured and full of...</td>\n",
       "      <td>92</td>\n",
       "      <td>34.0</td>\n",
       "      <td>Paul Gregutt</td>\n",
       "      <td>Herdade Grande 2010 Gerações Colheita Seleccio...</td>\n",
       "      <td>8.0</td>\n",
       "      <td>0.48</td>\n",
       "      <td>0.34</td>\n",
       "      <td>2.2</td>\n",
       "      <td>0.073</td>\n",
       "      <td>16.0</td>\n",
       "      <td>25.0</td>\n",
       "      <td>0.9936</td>\n",
       "      <td>3.28</td>\n",
       "      <td>0.66</td>\n",
       "      <td>12.4</td>\n",
       "    </tr>\n",
       "  </tbody>\n",
       "</table>\n",
       "</div>"
      ],
      "text/plain": [
       "                                          description  points  price  \\\n",
       "id                                                                     \n",
       "1   This is ripe and fruity, a wine that is smooth...      87   15.0   \n",
       "2   From an estate in the south of the Alentejo, t...      91   26.0   \n",
       "3   A year in wood and 30 months in bottle before ...      90   28.0   \n",
       "4   Wood aging gives this ripe blend of Baga and T...      90   20.0   \n",
       "5   A powerful wine, richly structured and full of...      92   34.0   \n",
       "\n",
       "           taster_name                                              title  \\\n",
       "id                                                                          \n",
       "1        Kerin OKeefe      Quinta dos Avidagos 2011 Avidagos Red (Douro)   \n",
       "2           Roger Voss  Casa Santa Vitória 2013 Grande Reserva Tinto R...   \n",
       "3         Paul Gregutt  Adega Cooperativa de Borba 2012 Montes Claros ...   \n",
       "4   Alexander Peartree  Quinta de Foz de Arouce 2013 Red (Beira Atlant...   \n",
       "5         Paul Gregutt  Herdade Grande 2010 Gerações Colheita Seleccio...   \n",
       "\n",
       "    fixed acidity  volatile acidity citric acid  residual sugar  chlorides  \\\n",
       "id                                                                           \n",
       "1            10.0              0.29         0.4             2.9      0.098   \n",
       "2             8.3              0.26        0.37             1.4      0.076   \n",
       "3             7.0              0.69        0.07             2.5      0.091   \n",
       "4             7.0              0.69        0.07             2.5      0.091   \n",
       "5             8.0              0.48        0.34             2.2      0.073   \n",
       "\n",
       "    free sulfur dioxide  total sulfur dioxide  density    pH  sulphates  \\\n",
       "id                                                                        \n",
       "1                  10.0                  26.0   10.006  3.48       0.91   \n",
       "2                   8.0                  23.0   0.9974  3.26       0.70   \n",
       "3                  15.0                  21.0  0.99572  3.38       0.60   \n",
       "4                  15.0                  21.0  0.99572  3.38       0.60   \n",
       "5                  16.0                  25.0   0.9936  3.28       0.66   \n",
       "\n",
       "   alcohol  \n",
       "id          \n",
       "1      9.7  \n",
       "2      9.6  \n",
       "3     11.3  \n",
       "4     11.3  \n",
       "5     12.4  "
      ]
     },
     "execution_count": 19,
     "metadata": {},
     "output_type": "execute_result"
    }
   ],
   "source": [
    "df_red_wine.set_index('id', inplace=True)\n",
    "df_red_wine.head()"
   ]
  },
  {
   "cell_type": "markdown",
   "metadata": {},
   "source": [
    "## Data cleaning\n",
    "Nu de data bewerkt is kunnen we tot de volgende stap overgaan: het opschonen van de data. Hierbij gaan we op zoek naar missende en dubbele waarden, outliers en onvolkomenheden.  \n",
    "Allereerst gaan we opzoek naar rijen waar waarden missen."
   ]
  },
  {
   "cell_type": "code",
   "execution_count": 20,
   "metadata": {},
   "outputs": [
    {
     "data": {
      "text/plain": [
       "2465"
      ]
     },
     "execution_count": 20,
     "metadata": {},
     "output_type": "execute_result"
    }
   ],
   "source": [
    "len(df_red_wine)"
   ]
  },
  {
   "cell_type": "code",
   "execution_count": 21,
   "metadata": {
    "scrolled": true
   },
   "outputs": [
    {
     "name": "stdout",
     "output_type": "stream",
     "text": [
      "Red wine nullsum:\n"
     ]
    },
    {
     "data": {
      "text/plain": [
       "description               0\n",
       "points                    0\n",
       "price                   269\n",
       "taster_name               0\n",
       "title                     0\n",
       "fixed acidity             0\n",
       "volatile acidity          0\n",
       "citric acid               0\n",
       "residual sugar            0\n",
       "chlorides                 0\n",
       "free sulfur dioxide       0\n",
       "total sulfur dioxide      0\n",
       "density                   0\n",
       "pH                        0\n",
       "sulphates                 0\n",
       "alcohol                   0\n",
       "dtype: int64"
      ]
     },
     "execution_count": 21,
     "metadata": {},
     "output_type": "execute_result"
    }
   ],
   "source": [
    "print(\"Red wine nullsum:\")\n",
    "pd.isnull(df_red_wine).sum()"
   ]
  },
  {
   "cell_type": "code",
   "execution_count": 22,
   "metadata": {},
   "outputs": [
    {
     "name": "stdout",
     "output_type": "stream",
     "text": [
      "White wine nullsum:\n"
     ]
    },
    {
     "data": {
      "text/plain": [
       "fixed acidity           0\n",
       "volatile acidity        0\n",
       "citric acid             0\n",
       "residual sugar          0\n",
       "chlorides               0\n",
       "free sulfur dioxide     0\n",
       "total sulfur dioxide    0\n",
       "density                 0\n",
       "pH                      0\n",
       "sulphates               0\n",
       "alcohol                 0\n",
       "quality                 0\n",
       "dtype: int64"
      ]
     },
     "execution_count": 22,
     "metadata": {},
     "output_type": "execute_result"
    }
   ],
   "source": [
    "print(\"White wine nullsum:\")\n",
    "pd.isnull(df_white_wine).sum()"
   ]
  },
  {
   "cell_type": "markdown",
   "metadata": {},
   "source": [
    "Hier zien we dat er 269 missende waarden zijn en dat die waarden zich allemaal in de 'price' kolom bevinden. Deze waarde hebben we echter wel voor één van de onderzoeksvragen. Hier hebben wij de afweging gemaakt om deze waarden te verwijderen.  \n",
    "Deze keuze is gebaseerd op het feit dat we nu ongeveer 12% van de data weggooien en we dus nog genoeg data behouden om te onderzoeken of er een relatie zit tussen de prijs en de hoeveelheid punten van een fles wijn.  \n",
    "We droppen dus alle rijen met missende waardes en tegelijkertijd verwijderen we duplicate rijen.\n",
    "  \n",
    "Aangezien we hiermee ook extra informatie over chemische kenmerken weggooien hebben we de afweging gemaakt om hier twee verschillende dataframes aan te maken: één met de verwijderde rijen van 'price' en één zonder, zodat we voor de andere onderzoeksvragen alle kenmerken beschikbaar hebben die we kunnen krijgen. Voor de dataframe waarvan we de prijzen niet \n",
    "verwijderen worden deze prijzen omgezet tot de waarde 0.0\n",
    "\n",
    "Bij de witte wijn dataset zien we dat er geen missende waardes zijn en er dus niks verandert hoeft te worden."
   ]
  },
  {
   "cell_type": "code",
   "execution_count": 24,
   "metadata": {},
   "outputs": [],
   "source": [
    "# copying the dataframe\n",
    "df_red_wine_dropped_price_rows = df_red_wine.copy()\n",
    "\n",
    "# deleting the rows with empty values for prizes\n",
    "df_red_wine_dropped_price_rows.dropna(inplace=True)\n",
    "\n",
    "# filling the rows with empty values for prizes with 0.0\n",
    "df_red_wine.fillna(0.0, inplace=True)\n",
    "\n",
    "# deleting the duplicate rows\n",
    "df_red_wine.drop_duplicates(inplace=True)\n",
    "df_red_wine_dropped_price_rows.drop_duplicates(inplace=True)"
   ]
  },
  {
   "cell_type": "markdown",
   "metadata": {},
   "source": [
    "### Datatypes\n",
    "\n",
    "Nu moeten we nog checken of elke kolom de geschikte datatype heeft."
   ]
  },
  {
   "cell_type": "code",
   "execution_count": 25,
   "metadata": {},
   "outputs": [
    {
     "data": {
      "text/plain": [
       "description              object\n",
       "points                    int64\n",
       "price                   float64\n",
       "taster_name              object\n",
       "title                    object\n",
       "fixed acidity           float64\n",
       "volatile acidity        float64\n",
       "citric acid              object\n",
       "residual sugar          float64\n",
       "chlorides               float64\n",
       "free sulfur dioxide     float64\n",
       "total sulfur dioxide    float64\n",
       "density                  object\n",
       "pH                      float64\n",
       "sulphates               float64\n",
       "alcohol                  object\n",
       "dtype: object"
      ]
     },
     "execution_count": 25,
     "metadata": {},
     "output_type": "execute_result"
    }
   ],
   "source": [
    "df_red_wine.dtypes"
   ]
  },
  {
   "cell_type": "markdown",
   "metadata": {},
   "source": [
    "In de bovenstaande tabel valt te zien dat de kolom 'density', 'citric acid' en 'alcohol' niet de gewenste datatypen hebben. We willen hier floats hebben terwijl ze nu aangegeven worden als Strings.  \n",
    "Om dit op te lossen gaan we over de kolommen heen en zetten iedere String om tot een float. Wanneer dit niet kan omdat de waarde dit niet toelaat wordt er een NaN ingevuld.  \n",
    "  \n",
    "De reden dat we deze stappen niet doen voor de 'red_wine_price_dropped' dataframe is dat we deze dataframe eigenlijk alleen maar gebruiken om te kijken of er een correlatie bestaat tussen twee kolommen. Hierbij komen geen van de chemische kenmerken kijken."
   ]
  },
  {
   "cell_type": "code",
   "execution_count": 28,
   "metadata": {},
   "outputs": [
    {
     "data": {
      "text/plain": [
       "fixed acidity           float64\n",
       "volatile acidity        float64\n",
       "citric acid             float64\n",
       "residual sugar          float64\n",
       "chlorides               float64\n",
       "free sulfur dioxide     float64\n",
       "total sulfur dioxide    float64\n",
       "density                 float64\n",
       "pH                      float64\n",
       "sulphates               float64\n",
       "alcohol                 float64\n",
       "quality                   int64\n",
       "dtype: object"
      ]
     },
     "execution_count": 28,
     "metadata": {},
     "output_type": "execute_result"
    }
   ],
   "source": [
    "df_white_wine.dtypes"
   ]
  },
  {
   "cell_type": "markdown",
   "metadata": {},
   "source": [
    "In de bovenstaande tabel zien we dat elke kolom van de witte wijn dataset wel het gewenste datatype heeft. Hier zullen dus\n",
    "geen verandering gemaakt worden."
   ]
  },
  {
   "cell_type": "code",
   "execution_count": 29,
   "metadata": {},
   "outputs": [
    {
     "data": {
      "text/plain": [
       "description             0\n",
       "points                  0\n",
       "price                   0\n",
       "taster_name             0\n",
       "title                   0\n",
       "fixed acidity           0\n",
       "volatile acidity        0\n",
       "citric acid             0\n",
       "residual sugar          0\n",
       "chlorides               0\n",
       "free sulfur dioxide     0\n",
       "total sulfur dioxide    0\n",
       "density                 0\n",
       "pH                      0\n",
       "sulphates               0\n",
       "alcohol                 0\n",
       "dtype: int64"
      ]
     },
     "execution_count": 29,
     "metadata": {},
     "output_type": "execute_result"
    }
   ],
   "source": [
    "df_red_wine['citric acid'] = pd.to_numeric(df_red_wine['citric acid'], errors='coerce')\n",
    "df_red_wine['density'] = pd.to_numeric(df_red_wine['density'], errors='coerce')\n",
    "df_red_wine['alcohol'] = pd.to_numeric(df_red_wine['alcohol'], errors='coerce')\n",
    "\n",
    "pd.isnull(df_red_wine).sum()"
   ]
  },
  {
   "cell_type": "markdown",
   "metadata": {},
   "source": [
    "In de bovenstaande tabel valt te lezen dat in totaal 194 waarden zijn omgezet tot NaN. Deze waardes kunnen we nu automatisch vullen door te interpoleren. Deze keuze hebben we gemaakt omdat we op zoek zijn naar bepaalde kenmerken en door te interpoleren blijven deze unieke kenmerken tussen de waardes die ze uniek maakt."
   ]
  },
  {
   "cell_type": "code",
   "execution_count": 30,
   "metadata": {},
   "outputs": [
    {
     "data": {
      "text/plain": [
       "description             0\n",
       "points                  0\n",
       "price                   0\n",
       "taster_name             0\n",
       "title                   0\n",
       "fixed acidity           0\n",
       "volatile acidity        0\n",
       "citric acid             0\n",
       "residual sugar          0\n",
       "chlorides               0\n",
       "free sulfur dioxide     0\n",
       "total sulfur dioxide    0\n",
       "density                 0\n",
       "pH                      0\n",
       "sulphates               0\n",
       "alcohol                 0\n",
       "dtype: int64"
      ]
     },
     "execution_count": 30,
     "metadata": {},
     "output_type": "execute_result"
    }
   ],
   "source": [
    "df_red_wine.interpolate(inplace=True)\n",
    "pd.isnull(df_red_wine).sum()"
   ]
  },
  {
   "cell_type": "markdown",
   "metadata": {},
   "source": [
    "## Data Exploration"
   ]
  },
  {
   "cell_type": "markdown",
   "metadata": {},
   "source": [
    "### De wijnproevers\n",
    "Aangezien we met wijnproevers te maken hebben is alle data over de punten die aan een wijn toegedeeld zijn subjectief. Allereerst willen we dus wat inzicht krijgen over het gedrag van deze groep bij de toekenning van de punten.  \n",
    "  \n",
    "Eerst gaan we kijken met hoeveel wijnproevers we in totaal te maken hebben."
   ]
  },
  {
   "cell_type": "code",
   "execution_count": 31,
   "metadata": {},
   "outputs": [
    {
     "data": {
      "text/plain": [
       "18"
      ]
     },
     "execution_count": 31,
     "metadata": {},
     "output_type": "execute_result"
    }
   ],
   "source": [
    "len(df_red_wine['taster_name'].unique())"
   ]
  },
  {
   "cell_type": "markdown",
   "metadata": {},
   "source": [
    "We hebben dus met 18 verschillende wijnproevers te maken.  \n",
    "Hierna gaan we kijken of de hoeveelheid gegeven beoordelingen van de wijnproevers gelijk verdeeld zijn."
   ]
  },
  {
   "cell_type": "code",
   "execution_count": 32,
   "metadata": {},
   "outputs": [
    {
     "data": {
      "text/plain": [
       "Roger Voss            630\n",
       "Michael Schachner     384\n",
       "Kerin OKeefe         258\n",
       "Virginie Boone        220\n",
       "Paul Gregutt          218\n",
       "Joe Czerwinski        143\n",
       "Matt Kettmann         140\n",
       "Sean P. Sullivan      125\n",
       "Jim Gordon            107\n",
       "Anna Lee C. Iijima     84\n",
       "Anne Krebiehl MW       55\n",
       "Lauren Buzzeo          38\n",
       "Susan Kostrzewa        29\n",
       "Alexander Peartree     14\n",
       "Jeff Jenssen            9\n",
       "Mike DeSimone           5\n",
       "Fiona Adams             3\n",
       "Carrie Dykes            3\n",
       "Name: taster_name, dtype: int64"
      ]
     },
     "execution_count": 32,
     "metadata": {},
     "output_type": "execute_result"
    }
   ],
   "source": [
    "df_red_wine['taster_name'].value_counts()"
   ]
  },
  {
   "cell_type": "markdown",
   "metadata": {},
   "source": [
    "In de bovenstaande tabel valt te zien dat deze verdeling niet echt gelijk verdeeld is.  \n",
    "Om deze data nog iets overzichtelijker te maken zetten we deze tabel om tot een grafiek."
   ]
  },
  {
   "cell_type": "code",
   "execution_count": 33,
   "metadata": {
    "scrolled": false
   },
   "outputs": [
    {
     "name": "stderr",
     "output_type": "stream",
     "text": [
      "E:\\Anaconda\\lib\\site-packages\\matplotlib\\backends\\backend_agg.py:211: RuntimeWarning: Glyph 146 missing from current font.\n",
      "  font.set_text(s, 0.0, flags=flags)\n",
      "E:\\Anaconda\\lib\\site-packages\\matplotlib\\backends\\backend_agg.py:180: RuntimeWarning: Glyph 146 missing from current font.\n",
      "  font.set_text(s, 0, flags=flags)\n"
     ]
    },
    {
     "data": {
      "image/png": "[encoded data removed]",
      "text/plain": [
       "<Figure size 1500x600 with 1 Axes>"
      ]
     },
     "metadata": {
      "needs_background": "light"
     },
     "output_type": "display_data"
    }
   ],
   "source": [
    "# selecting the data\n",
    "df_tasting_freq = df_red_wine['taster_name'].value_counts()\n",
    "\n",
    "# parsing the data\n",
    "fig, ax = plt.subplots(figsize=(10,4), dpi=150)\n",
    "ax.bar(df_tasting_freq.index, df_tasting_freq, width= 0.8)\n",
    "\n",
    "# setting the axis\n",
    "plt.xticks(rotation=90)\n",
    "plt.yticks([n for n in range(0, 700, 50)])\n",
    "\n",
    "# setting the style, labels and title\n",
    "plt.xlabel('Naam proever')\n",
    "plt.ylabel('Hoeveelheid beoordelingen')\n",
    "plt.title('Hoeveelheid geregistreerde beoordelingen per proever')\n",
    "sns.set_style(\"whitegrid\")\n",
    "\n",
    "# printing the plot\n",
    "plt.show()"
   ]
  },
  {
   "cell_type": "markdown",
   "metadata": {},
   "source": [
    "De aannames die de tabel aanwakkeren worden door de grafiek bevestigd. Uit de grafiek valt nog beter te zien dat de hoeveelheid beoordelingen per proever zeer onevenredig verdeeld zijn. Sommige proevers hebben zeer veel beoordelingen gegeven terwijl andere proevers veel minder hebben gegeven.  \n",
    "  \n",
    "Hierna willen we graag weten wat de minimale, maximale en gemiddelde score is per proever."
   ]
  },
  {
   "cell_type": "code",
   "execution_count": 34,
   "metadata": {
    "scrolled": false
   },
   "outputs": [
    {
     "data": {
      "text/html": [
       "<div>\n",
       "<style scoped>\n",
       "    .dataframe tbody tr th:only-of-type {\n",
       "        vertical-align: middle;\n",
       "    }\n",
       "\n",
       "    .dataframe tbody tr th {\n",
       "        vertical-align: top;\n",
       "    }\n",
       "\n",
       "    .dataframe thead th {\n",
       "        text-align: right;\n",
       "    }\n",
       "</style>\n",
       "<table border=\"1\" class=\"dataframe\">\n",
       "  <thead>\n",
       "    <tr style=\"text-align: right;\">\n",
       "      <th></th>\n",
       "      <th>min points</th>\n",
       "      <th>max points</th>\n",
       "      <th>avg points</th>\n",
       "    </tr>\n",
       "    <tr>\n",
       "      <th>taster_name</th>\n",
       "      <th></th>\n",
       "      <th></th>\n",
       "      <th></th>\n",
       "    </tr>\n",
       "  </thead>\n",
       "  <tbody>\n",
       "    <tr>\n",
       "      <th>Carrie Dykes</th>\n",
       "      <td>83</td>\n",
       "      <td>88</td>\n",
       "      <td>85.333333</td>\n",
       "    </tr>\n",
       "    <tr>\n",
       "      <th>Jeff Jenssen</th>\n",
       "      <td>82</td>\n",
       "      <td>92</td>\n",
       "      <td>87.111111</td>\n",
       "    </tr>\n",
       "    <tr>\n",
       "      <th>Anne Krebiehl MW</th>\n",
       "      <td>83</td>\n",
       "      <td>94</td>\n",
       "      <td>88.090909</td>\n",
       "    </tr>\n",
       "    <tr>\n",
       "      <th>Alexander Peartree</th>\n",
       "      <td>82</td>\n",
       "      <td>95</td>\n",
       "      <td>88.500000</td>\n",
       "    </tr>\n",
       "    <tr>\n",
       "      <th>Lauren Buzzeo</th>\n",
       "      <td>82</td>\n",
       "      <td>93</td>\n",
       "      <td>88.552632</td>\n",
       "    </tr>\n",
       "    <tr>\n",
       "      <th>Sean P. Sullivan</th>\n",
       "      <td>83</td>\n",
       "      <td>95</td>\n",
       "      <td>88.648000</td>\n",
       "    </tr>\n",
       "    <tr>\n",
       "      <th>Joe Czerwinski</th>\n",
       "      <td>82</td>\n",
       "      <td>94</td>\n",
       "      <td>88.650350</td>\n",
       "    </tr>\n",
       "    <tr>\n",
       "      <th>Fiona Adams</th>\n",
       "      <td>85</td>\n",
       "      <td>91</td>\n",
       "      <td>88.666667</td>\n",
       "    </tr>\n",
       "    <tr>\n",
       "      <th>Jim Gordon</th>\n",
       "      <td>82</td>\n",
       "      <td>95</td>\n",
       "      <td>88.710280</td>\n",
       "    </tr>\n",
       "    <tr>\n",
       "      <th>Kerin OKeefe</th>\n",
       "      <td>81</td>\n",
       "      <td>96</td>\n",
       "      <td>88.740310</td>\n",
       "    </tr>\n",
       "    <tr>\n",
       "      <th>Roger Voss</th>\n",
       "      <td>82</td>\n",
       "      <td>99</td>\n",
       "      <td>88.779365</td>\n",
       "    </tr>\n",
       "    <tr>\n",
       "      <th>Virginie Boone</th>\n",
       "      <td>83</td>\n",
       "      <td>95</td>\n",
       "      <td>88.845455</td>\n",
       "    </tr>\n",
       "    <tr>\n",
       "      <th>Anna Lee C. Iijima</th>\n",
       "      <td>83</td>\n",
       "      <td>95</td>\n",
       "      <td>88.892857</td>\n",
       "    </tr>\n",
       "    <tr>\n",
       "      <th>Paul Gregutt</th>\n",
       "      <td>81</td>\n",
       "      <td>96</td>\n",
       "      <td>88.899083</td>\n",
       "    </tr>\n",
       "    <tr>\n",
       "      <th>Michael Schachner</th>\n",
       "      <td>82</td>\n",
       "      <td>100</td>\n",
       "      <td>89.054688</td>\n",
       "    </tr>\n",
       "    <tr>\n",
       "      <th>Matt Kettmann</th>\n",
       "      <td>81</td>\n",
       "      <td>97</td>\n",
       "      <td>89.057143</td>\n",
       "    </tr>\n",
       "    <tr>\n",
       "      <th>Susan Kostrzewa</th>\n",
       "      <td>82</td>\n",
       "      <td>95</td>\n",
       "      <td>89.068966</td>\n",
       "    </tr>\n",
       "    <tr>\n",
       "      <th>Mike DeSimone</th>\n",
       "      <td>87</td>\n",
       "      <td>92</td>\n",
       "      <td>89.600000</td>\n",
       "    </tr>\n",
       "  </tbody>\n",
       "</table>\n",
       "</div>"
      ],
      "text/plain": [
       "                    min points  max points  avg points\n",
       "taster_name                                           \n",
       "Carrie Dykes                83          88   85.333333\n",
       "Jeff Jenssen                82          92   87.111111\n",
       "Anne Krebiehl MW            83          94   88.090909\n",
       "Alexander Peartree          82          95   88.500000\n",
       "Lauren Buzzeo               82          93   88.552632\n",
       "Sean P. Sullivan            83          95   88.648000\n",
       "Joe Czerwinski              82          94   88.650350\n",
       "Fiona Adams                 85          91   88.666667\n",
       "Jim Gordon                  82          95   88.710280\n",
       "Kerin OKeefe               81          96   88.740310\n",
       "Roger Voss                  82          99   88.779365\n",
       "Virginie Boone              83          95   88.845455\n",
       "Anna Lee C. Iijima          83          95   88.892857\n",
       "Paul Gregutt                81          96   88.899083\n",
       "Michael Schachner           82         100   89.054688\n",
       "Matt Kettmann               81          97   89.057143\n",
       "Susan Kostrzewa             82          95   89.068966\n",
       "Mike DeSimone               87          92   89.600000"
      ]
     },
     "execution_count": 34,
     "metadata": {},
     "output_type": "execute_result"
    }
   ],
   "source": [
    "# prepare the data_frame\n",
    "df_taster_index = df_red_wine.copy()\n",
    "df_taster_index = df_taster_index[['taster_name', 'points']]\n",
    "df_taster_index.set_index('taster_name', inplace=True)\n",
    "\n",
    "# getting the min, max and average per taster\n",
    "taster_avg = df_taster_index.groupby('taster_name').mean()\n",
    "taster_min = np.min(df_taster_index.groupby('taster_name'))\n",
    "taster_max = np.max(df_taster_index.groupby('taster_name'))\n",
    "\n",
    "# building a new dataframe with all the info per taster\n",
    "df_taster_stats = pd.concat([taster_min, taster_max, taster_avg], axis=1)\n",
    "df_taster_stats.columns = ['min points', 'max points', 'avg points']\n",
    "df_taster_stats.sort_values(['avg points'])"
   ]
  },
  {
   "cell_type": "code",
   "execution_count": 35,
   "metadata": {},
   "outputs": [
    {
     "name": "stdout",
     "output_type": "stream",
     "text": [
      "Total Mean: 88.81135902636917\n"
     ]
    }
   ],
   "source": [
    "# print the total mean score over all tasters\n",
    "print(\"Total Mean: {0}\".format(df_red_wine['points'].mean()))"
   ]
  },
  {
   "cell_type": "markdown",
   "metadata": {},
   "source": [
    "Uit deze tabel valt te lezen dat het gemiddeld aantal punten ongeveer rond de 88 punten zal liggen. Om nog iets meer duidelijkheid te creeëren rondom de puntenverdeling zullen we de gegeven punten in een grafiek plotten."
   ]
  },
  {
   "cell_type": "code",
   "execution_count": 36,
   "metadata": {},
   "outputs": [
    {
     "data": {
      "image/png": "[encoded data removed]",
      "text/plain": [
       "<Figure size 1500x600 with 1 Axes>"
      ]
     },
     "metadata": {},
     "output_type": "display_data"
    }
   ],
   "source": [
    "# selecting the data\n",
    "data = df_red_wine['points'].value_counts().sort_index()\n",
    "\n",
    "# parsing the data\n",
    "fix, ax = plt.subplots(figsize=(10,4), dpi=150)\n",
    "ax.bar(data.index, data)\n",
    "\n",
    "# setting the axis\n",
    "plt.xticks([n for n in range(80, 101, 1)])\n",
    "\n",
    "# setting the style, labels and title\n",
    "plt.xlabel('Puntenaantal')\n",
    "plt.ylabel('Hoeveelheid stemmen')\n",
    "plt.title('Verdeling van de hoeveelheid stemmen per puntenaantal')\n",
    "sns.set_style(\"whitegrid\")\n",
    "\n",
    "# printing the plot\n",
    "plt.show()\n"
   ]
  },
  {
   "cell_type": "markdown",
   "metadata": {},
   "source": [
    "Zoals in de grafiek te zien is valt zal het gemiddelde ongeveer rond de 88 liggen. Verder is de modus ook 88. Het interessante van deze grafiek is het feit dat zo rond 89 punten een kleine dip is. Dit kan ook mede komen door de aangeleverde data."
   ]
  },
  {
   "cell_type": "markdown",
   "metadata": {},
   "source": [
    "### Prijs analyse\n",
    "Om wat meer informatie te vergaren over de prijzen is het bevorderlijk om de verdeling van de prijzen te plotten."
   ]
  },
  {
   "cell_type": "code",
   "execution_count": 37,
   "metadata": {},
   "outputs": [
    {
     "data": {
      "image/png": "[encoded data removed]",
      "text/plain": [
       "<Figure size 1800x600 with 1 Axes>"
      ]
     },
     "metadata": {},
     "output_type": "display_data"
    }
   ],
   "source": [
    "data = df_red_wine[['points','price']]\n",
    "data = data.groupby('points').mean()\n",
    "\n",
    "fix, ax = plt.subplots(figsize=(12,4), dpi=150)\n",
    "\n",
    "ax.bar(data.index, data['price'])\n",
    "plt.xticks([n for n in range(81, 101, 1)])\n",
    "plt.title(\"Gemiddelde prijs per punten\")\n",
    "plt.ylabel('Prijs');\n",
    "plt.xlabel('Punten');\n",
    "plt.show()"
   ]
  },
  {
   "cell_type": "markdown",
   "metadata": {},
   "source": []
  },
  {
   "cell_type": "markdown",
   "metadata": {},
   "source": [
    "### Chemische kenmerken\n",
    "Ook qua chemische kenmerken hebben willen we graag wat analyses doen over de dataset. Deze analyses kunnen we dan hopelijk gebruiken bij het selecteren van de variabelen om de twee soorten wijnen te klassificeren.  \n",
    "  \n",
    "Allereerst vragen we de algemene statistieken op over alle chemische kenmerken."
   ]
  },
  {
   "cell_type": "code",
   "execution_count": 38,
   "metadata": {},
   "outputs": [
    {
     "data": {
      "text/html": [
       "<div>\n",
       "<style scoped>\n",
       "    .dataframe tbody tr th:only-of-type {\n",
       "        vertical-align: middle;\n",
       "    }\n",
       "\n",
       "    .dataframe tbody tr th {\n",
       "        vertical-align: top;\n",
       "    }\n",
       "\n",
       "    .dataframe thead th {\n",
       "        text-align: right;\n",
       "    }\n",
       "</style>\n",
       "<table border=\"1\" class=\"dataframe\">\n",
       "  <thead>\n",
       "    <tr style=\"text-align: right;\">\n",
       "      <th></th>\n",
       "      <th>points</th>\n",
       "      <th>price</th>\n",
       "      <th>fixed acidity</th>\n",
       "      <th>volatile acidity</th>\n",
       "      <th>citric acid</th>\n",
       "      <th>residual sugar</th>\n",
       "      <th>chlorides</th>\n",
       "      <th>free sulfur dioxide</th>\n",
       "      <th>total sulfur dioxide</th>\n",
       "      <th>density</th>\n",
       "      <th>pH</th>\n",
       "      <th>sulphates</th>\n",
       "      <th>alcohol</th>\n",
       "    </tr>\n",
       "  </thead>\n",
       "  <tbody>\n",
       "    <tr>\n",
       "      <th>count</th>\n",
       "      <td>2465.000000</td>\n",
       "      <td>2465.000000</td>\n",
       "      <td>2465.000000</td>\n",
       "      <td>2465.000000</td>\n",
       "      <td>2465.000000</td>\n",
       "      <td>2465.000000</td>\n",
       "      <td>2465.000000</td>\n",
       "      <td>2465.000000</td>\n",
       "      <td>2465.000000</td>\n",
       "      <td>2465.000000</td>\n",
       "      <td>2465.000000</td>\n",
       "      <td>2465.000000</td>\n",
       "      <td>2465.000000</td>\n",
       "    </tr>\n",
       "    <tr>\n",
       "      <th>mean</th>\n",
       "      <td>88.811359</td>\n",
       "      <td>22.110751</td>\n",
       "      <td>8.352819</td>\n",
       "      <td>0.528162</td>\n",
       "      <td>0.296708</td>\n",
       "      <td>2.562353</td>\n",
       "      <td>0.087485</td>\n",
       "      <td>15.804665</td>\n",
       "      <td>47.218661</td>\n",
       "      <td>2.189021</td>\n",
       "      <td>3.311201</td>\n",
       "      <td>0.660353</td>\n",
       "      <td>10.414807</td>\n",
       "    </tr>\n",
       "    <tr>\n",
       "      <th>std</th>\n",
       "      <td>2.974000</td>\n",
       "      <td>25.317311</td>\n",
       "      <td>1.734847</td>\n",
       "      <td>0.178869</td>\n",
       "      <td>0.181850</td>\n",
       "      <td>1.407030</td>\n",
       "      <td>0.047043</td>\n",
       "      <td>10.379218</td>\n",
       "      <td>33.187830</td>\n",
       "      <td>9.444553</td>\n",
       "      <td>0.153927</td>\n",
       "      <td>0.172531</td>\n",
       "      <td>1.050232</td>\n",
       "    </tr>\n",
       "    <tr>\n",
       "      <th>min</th>\n",
       "      <td>81.000000</td>\n",
       "      <td>0.000000</td>\n",
       "      <td>4.600000</td>\n",
       "      <td>0.120000</td>\n",
       "      <td>0.010000</td>\n",
       "      <td>0.900000</td>\n",
       "      <td>0.012000</td>\n",
       "      <td>1.000000</td>\n",
       "      <td>6.000000</td>\n",
       "      <td>0.990070</td>\n",
       "      <td>2.740000</td>\n",
       "      <td>0.330000</td>\n",
       "      <td>8.500000</td>\n",
       "    </tr>\n",
       "    <tr>\n",
       "      <th>25%</th>\n",
       "      <td>87.000000</td>\n",
       "      <td>10.000000</td>\n",
       "      <td>7.100000</td>\n",
       "      <td>0.400000</td>\n",
       "      <td>0.140000</td>\n",
       "      <td>1.900000</td>\n",
       "      <td>0.070000</td>\n",
       "      <td>7.000000</td>\n",
       "      <td>22.000000</td>\n",
       "      <td>0.995690</td>\n",
       "      <td>3.210000</td>\n",
       "      <td>0.550000</td>\n",
       "      <td>9.500000</td>\n",
       "    </tr>\n",
       "    <tr>\n",
       "      <th>50%</th>\n",
       "      <td>88.000000</td>\n",
       "      <td>15.000000</td>\n",
       "      <td>7.900000</td>\n",
       "      <td>0.520000</td>\n",
       "      <td>0.290000</td>\n",
       "      <td>2.200000</td>\n",
       "      <td>0.079000</td>\n",
       "      <td>14.000000</td>\n",
       "      <td>38.000000</td>\n",
       "      <td>0.996800</td>\n",
       "      <td>3.310000</td>\n",
       "      <td>0.620000</td>\n",
       "      <td>10.200000</td>\n",
       "    </tr>\n",
       "    <tr>\n",
       "      <th>75%</th>\n",
       "      <td>91.000000</td>\n",
       "      <td>25.000000</td>\n",
       "      <td>9.300000</td>\n",
       "      <td>0.635000</td>\n",
       "      <td>0.440000</td>\n",
       "      <td>2.600000</td>\n",
       "      <td>0.091000</td>\n",
       "      <td>21.000000</td>\n",
       "      <td>64.000000</td>\n",
       "      <td>0.997900</td>\n",
       "      <td>3.400000</td>\n",
       "      <td>0.730000</td>\n",
       "      <td>11.100000</td>\n",
       "    </tr>\n",
       "    <tr>\n",
       "      <th>max</th>\n",
       "      <td>100.000000</td>\n",
       "      <td>450.000000</td>\n",
       "      <td>15.900000</td>\n",
       "      <td>1.580000</td>\n",
       "      <td>1.000000</td>\n",
       "      <td>15.500000</td>\n",
       "      <td>0.611000</td>\n",
       "      <td>72.000000</td>\n",
       "      <td>289.000000</td>\n",
       "      <td>100.369000</td>\n",
       "      <td>4.010000</td>\n",
       "      <td>2.000000</td>\n",
       "      <td>14.900000</td>\n",
       "    </tr>\n",
       "  </tbody>\n",
       "</table>\n",
       "</div>"
      ],
      "text/plain": [
       "            points        price  fixed acidity  volatile acidity  citric acid  \\\n",
       "count  2465.000000  2465.000000    2465.000000       2465.000000  2465.000000   \n",
       "mean     88.811359    22.110751       8.352819          0.528162     0.296708   \n",
       "std       2.974000    25.317311       1.734847          0.178869     0.181850   \n",
       "min      81.000000     0.000000       4.600000          0.120000     0.010000   \n",
       "25%      87.000000    10.000000       7.100000          0.400000     0.140000   \n",
       "50%      88.000000    15.000000       7.900000          0.520000     0.290000   \n",
       "75%      91.000000    25.000000       9.300000          0.635000     0.440000   \n",
       "max     100.000000   450.000000      15.900000          1.580000     1.000000   \n",
       "\n",
       "       residual sugar    chlorides  free sulfur dioxide  total sulfur dioxide  \\\n",
       "count     2465.000000  2465.000000          2465.000000           2465.000000   \n",
       "mean         2.562353     0.087485            15.804665             47.218661   \n",
       "std          1.407030     0.047043            10.379218             33.187830   \n",
       "min          0.900000     0.012000             1.000000              6.000000   \n",
       "25%          1.900000     0.070000             7.000000             22.000000   \n",
       "50%          2.200000     0.079000            14.000000             38.000000   \n",
       "75%          2.600000     0.091000            21.000000             64.000000   \n",
       "max         15.500000     0.611000            72.000000            289.000000   \n",
       "\n",
       "           density           pH    sulphates      alcohol  \n",
       "count  2465.000000  2465.000000  2465.000000  2465.000000  \n",
       "mean      2.189021     3.311201     0.660353    10.414807  \n",
       "std       9.444553     0.153927     0.172531     1.050232  \n",
       "min       0.990070     2.740000     0.330000     8.500000  \n",
       "25%       0.995690     3.210000     0.550000     9.500000  \n",
       "50%       0.996800     3.310000     0.620000    10.200000  \n",
       "75%       0.997900     3.400000     0.730000    11.100000  \n",
       "max     100.369000     4.010000     2.000000    14.900000  "
      ]
     },
     "execution_count": 38,
     "metadata": {},
     "output_type": "execute_result"
    }
   ],
   "source": [
    "df_red_wine.describe()"
   ]
  },
  {
   "cell_type": "markdown",
   "metadata": {},
   "source": [
    "Op het eerste gezicht zeggen deze waardes nog niet zoveel. Pas wanneer we de kolommen met de minimale, maximale en gemiddelde waarden van alle kenmerken met van de witte en rode wijn zullen (hopelijk) deze waardes veel meer zeggen. \n",
    "  \n",
    "Dus gaan we nu voor alle chemische kenmerken de minimale, maximale en gemiddelde waardes van witte en rode wijn met elkaar vergelijken."
   ]
  },
  {
   "cell_type": "code",
   "execution_count": null,
   "metadata": {},
   "outputs": [],
   "source": []
  },
  {
   "cell_type": "markdown",
   "metadata": {},
   "source": [
    "## onderzoeksvraag 1"
   ]
  },
  {
   "cell_type": "markdown",
   "metadata": {},
   "source": [
    "Hieronder zullen we proberen de volgende onderzoeksvraag uit te werken:  \n",
    "#### In hoeverre is de score van een Portugese Red te voorspellen op basis van de chemische kenmerken?  \n",
    "Wat hiermee bedoeld wordt is dat gegeven een bepaalde Portugese Red met bekende chemische kenmerken, of deze wijn op basis van zijn chemische kenmerken ingedeeld kan worden op een bepaalde score."
   ]
  },
  {
   "cell_type": "markdown",
   "metadata": {},
   "source": [
    "Allereerst zullen we hiervoor een basis voorspelling maken. In onze eerdere analyse kwam naar voren dat de modus van alle punten op 88 punten uitkwam. Op basis van deze informatie zullen we nu de eerste voorspellingen gaan doen. Hierbij voorspellen we dat iedere Portugese Red een score heeft van 88. Voor deze voorspelling willen we graag weten hoe accuraat hij is."
   ]
  },
  {
   "cell_type": "code",
   "execution_count": 39,
   "metadata": {},
   "outputs": [
    {
     "data": {
      "text/plain": [
       "0.1415821501014199"
      ]
     },
     "execution_count": 39,
     "metadata": {},
     "output_type": "execute_result"
    }
   ],
   "source": [
    "df_modus_pred = pd.Series(88, index=[df_red_wine.index])\n",
    "accuracy_score(df_red_wine['points'], df_modus_pred)"
   ]
  },
  {
   "cell_type": "markdown",
   "metadata": {},
   "source": [
    "Ons eerste model geeft een accurate voorspelling van de score in 14% van de gevallen. Echter maken we hier geen onderscheid tussen de verschillende waarden die de chemische kenmerken kunnen hebben. Ofwel de chemische kenmerken worden bij deze voorspellingen buiten beschouwing gelaten.  \n",
    "Om uiteindelijk de onderzoeksvraag zo volledig mogelijk te kunnen beantwoorden moeten we de chemische kenmerken meenemen in het proces.  \n",
    "  \n",
    "Om uit te zoeken of er tussen de gegeven scores en de chemische kenmerken überhaupt iets van correlatie te vinden is vragen we op alle basis van de gegeven punten de correlatie met de chemische kenmerken op."
   ]
  },
  {
   "cell_type": "code",
   "execution_count": 40,
   "metadata": {},
   "outputs": [
    {
     "data": {
      "text/plain": [
       "points                  1.000000\n",
       "price                   0.546806\n",
       "fixed acidity           0.090071\n",
       "volatile acidity       -0.341131\n",
       "citric acid             0.179162\n",
       "residual sugar         -0.002561\n",
       "chlorides              -0.132438\n",
       "free sulfur dioxide    -0.059912\n",
       "total sulfur dioxide   -0.198235\n",
       "density                -0.042699\n",
       "pH                     -0.021553\n",
       "sulphates               0.205161\n",
       "alcohol                 0.472904\n",
       "Name: points, dtype: float64"
      ]
     },
     "execution_count": 40,
     "metadata": {},
     "output_type": "execute_result"
    }
   ],
   "source": [
    "df_red_wine.corr()['points']"
   ]
  },
  {
   "cell_type": "markdown",
   "metadata": {},
   "source": [
    "In de bovenstaande tabel valt te zien dat er qua correlatie tussen punten en chemische kenmerken geen sprake is van significante correlatie. Wel valt hier te zien dat er een mogelijke correlatie zou kunnen bestaan tussen de punten en de hoeveelheid alcohol die in de wijn zit. Desalniettemin zijn we wel benieuwd of we met behulp van lineaire regressie wel een voorspelling kunnen geven.  \n",
    "We willen uiteindelijk namelijk een formule die 'voorspelt' wat de score zal zijn bij een bepaalde mix van chemische kenmerken.  \n",
    "  \n",
    "Allereerst wordt maken we een lineair regressie model aan. Hierna selecteren we de features en de uitkomst om deze om deze op te delen in een training en testset. Als laatste trainen we het model met de hiervoor aangemaakte trainingset."
   ]
  },
  {
   "cell_type": "code",
   "execution_count": 41,
   "metadata": {},
   "outputs": [
    {
     "name": "stdout",
     "output_type": "stream",
     "text": [
      "Aantal waarden in de training set: 1848\n",
      "Aantal waardes in de test set: 617\n"
     ]
    },
    {
     "data": {
      "text/plain": [
       "LinearRegression(copy_X=True, fit_intercept=True, n_jobs=None, normalize=False)"
      ]
     },
     "execution_count": 41,
     "metadata": {},
     "output_type": "execute_result"
    }
   ],
   "source": [
    "# Create the linear regression object\n",
    "wine_regr_model = LinearRegression()\n",
    "\n",
    "# Select the features and target\n",
    "X = df_red_wine.loc[:,'fixed acidity':]\n",
    "y = df_red_wine['points']\n",
    "\n",
    "# create a training and test set\n",
    "X_train, X_test, y_train, y_test = train_test_split(X, y, random_state=0)\n",
    "\n",
    "print(\"Aantal waarden in de training set: {0}\".format(len(X_train)))\n",
    "print(\"Aantal waardes in de test set: {0}\".format(len(X_test)))\n",
    "\n",
    "# Start the learning process\n",
    "wine_regr_model.fit(X_train, y_train)"
   ]
  },
  {
   "cell_type": "markdown",
   "metadata": {},
   "source": [
    "Nu het model getrained is zijn we geïntereseerd welke coëfficienten iedere feature heeft gekregen."
   ]
  },
  {
   "cell_type": "code",
   "execution_count": 42,
   "metadata": {},
   "outputs": [
    {
     "data": {
      "text/html": [
       "<div>\n",
       "<style scoped>\n",
       "    .dataframe tbody tr th:only-of-type {\n",
       "        vertical-align: middle;\n",
       "    }\n",
       "\n",
       "    .dataframe tbody tr th {\n",
       "        vertical-align: top;\n",
       "    }\n",
       "\n",
       "    .dataframe thead th {\n",
       "        text-align: right;\n",
       "    }\n",
       "</style>\n",
       "<table border=\"1\" class=\"dataframe\">\n",
       "  <thead>\n",
       "    <tr style=\"text-align: right;\">\n",
       "      <th></th>\n",
       "      <th>features</th>\n",
       "      <th>coefficients</th>\n",
       "    </tr>\n",
       "  </thead>\n",
       "  <tbody>\n",
       "    <tr>\n",
       "      <th>0</th>\n",
       "      <td>fixed acidity</td>\n",
       "      <td>0.058328</td>\n",
       "    </tr>\n",
       "    <tr>\n",
       "      <th>1</th>\n",
       "      <td>volatile acidity</td>\n",
       "      <td>-3.148311</td>\n",
       "    </tr>\n",
       "    <tr>\n",
       "      <th>2</th>\n",
       "      <td>citric acid</td>\n",
       "      <td>-0.576444</td>\n",
       "    </tr>\n",
       "    <tr>\n",
       "      <th>3</th>\n",
       "      <td>residual sugar</td>\n",
       "      <td>-0.021886</td>\n",
       "    </tr>\n",
       "    <tr>\n",
       "      <th>4</th>\n",
       "      <td>chlorides</td>\n",
       "      <td>-5.692661</td>\n",
       "    </tr>\n",
       "    <tr>\n",
       "      <th>5</th>\n",
       "      <td>free sulfur dioxide</td>\n",
       "      <td>0.017992</td>\n",
       "    </tr>\n",
       "    <tr>\n",
       "      <th>6</th>\n",
       "      <td>total sulfur dioxide</td>\n",
       "      <td>-0.012320</td>\n",
       "    </tr>\n",
       "    <tr>\n",
       "      <th>7</th>\n",
       "      <td>density</td>\n",
       "      <td>-0.011058</td>\n",
       "    </tr>\n",
       "    <tr>\n",
       "      <th>8</th>\n",
       "      <td>pH</td>\n",
       "      <td>-1.162178</td>\n",
       "    </tr>\n",
       "    <tr>\n",
       "      <th>9</th>\n",
       "      <td>sulphates</td>\n",
       "      <td>2.835514</td>\n",
       "    </tr>\n",
       "    <tr>\n",
       "      <th>10</th>\n",
       "      <td>alcohol</td>\n",
       "      <td>1.078020</td>\n",
       "    </tr>\n",
       "  </tbody>\n",
       "</table>\n",
       "</div>"
      ],
      "text/plain": [
       "                features  coefficients\n",
       "0          fixed acidity      0.058328\n",
       "1       volatile acidity     -3.148311\n",
       "2            citric acid     -0.576444\n",
       "3         residual sugar     -0.021886\n",
       "4              chlorides     -5.692661\n",
       "5    free sulfur dioxide      0.017992\n",
       "6   total sulfur dioxide     -0.012320\n",
       "7                density     -0.011058\n",
       "8                     pH     -1.162178\n",
       "9              sulphates      2.835514\n",
       "10               alcohol      1.078020"
      ]
     },
     "execution_count": 42,
     "metadata": {},
     "output_type": "execute_result"
    }
   ],
   "source": [
    "pd.DataFrame({'features': X.columns, 'coefficients': wine_regr_model.coef_})"
   ]
  },
  {
   "cell_type": "markdown",
   "metadata": {},
   "source": [
    "Hier zien we dat chorides heel veel invloed heeft. Verder hebben volatile acicity, sulphates en alcohol ook invloed op de lijn.  \n",
    "Om uit te vinden hoe goed de voorspellende waarde van deze regressie lijn is gaan we hem voorspellingen laten maken met behulp van de test set. Hierna kunnen we door middel van de echte uitkomst en de 'voorspelde' uitkomst uitrekenen hoe accuraat de voorspellingen zijn. "
   ]
  },
  {
   "cell_type": "code",
   "execution_count": 43,
   "metadata": {},
   "outputs": [],
   "source": [
    "# Make predictions using the test set\n",
    "wine_regr_test_orig = wine_regr_model.predict(X_test)\n",
    "wine_regr_test_rounded = np.rint(np.floor(wine_regr_model.predict(X_test)))\n",
    "\n",
    "# Calculate the average deviation\n",
    "avg_dev = abs(wine_regr_test_orig - y_test).sum() / len(y_test)"
   ]
  },
  {
   "cell_type": "code",
   "execution_count": 44,
   "metadata": {
    "scrolled": true
   },
   "outputs": [
    {
     "name": "stdout",
     "output_type": "stream",
     "text": [
      "mean_squared_error: 6.501718891224293\n",
      "Determinatiecoëfficient: 0.2995304805383834\n",
      "Algemene score (met afronding): 0.17828200972447325\n",
      "\n",
      "Gemiddelde afwijking: 2.037732644528455\n"
     ]
    }
   ],
   "source": [
    "# Calculate the root mean squared error\n",
    "print(\"mean_squared_error: {0}\".format(mean_squared_error(y_test, wine_regr_test_orig)))\n",
    "print(\"Determinatiecoëfficient: {0}\".format(wine_regr_model.score(X_test, y_test)))\n",
    "print(\"Algemene score (met afronding): {0}\".format(accuracy_score(wine_regr_test_rounded, y_test)))\n",
    "\n",
    "print(\"\\nGemiddelde afwijking: {0}\".format(avg_dev))"
   ]
  },
  {
   "cell_type": "markdown",
   "metadata": {},
   "source": [
    "Allereerst hebben we de mean_squared_error opgevraagd, deze score geeft aan hoe dicht de regressie lijn bij alle punten ligt. De bedoeling is om dit cijfer zo klein mogelijk te krijgen, aangezien dan de 'voorspellingen' accurater zijn.  \n",
    "Hierna hebben we de determinatiecoëfficient, deze score geeft de variabiliteit van de waarden aan. Ofwel de water waarin verband lijkt te zijn op een rechte lijn. 0.29 is echter een niet al te hoge score voor een lineaire regressie.\n",
    "\n",
    "De algemene score is berekend door alle voorspelde waardes naar beneden af te ronden tot een geheel getal. Dit geeft aan dat de voorspelling voor 17% van de waardes in de test set correct is.\n",
    "Aangezien we ook graag willen weten in hoeverre de voorspellingen gemiddeld van de correcte voorspelling afliggen hebben we de gemiddelde afwijking berekend. Deze pakt het absolute verschil tussen de onafgeronde voorspellingen en de correcte waardes en telt deze bij elkaar op om uiteindelijk te delen door de totale hoeveelheid waardes in de test set. \n",
    "  \n",
    "  \n",
    "We weten dat alle scores in principe subjectief zijn toebedeeld. Dit zou één van de redenen kunnen zijn waarom hier niet of nauwelijks sprake is van een correcte lineaire regressie. Om hier wat meer inzicht in te krijgen bekijken we de correlatie tussen de gegeven punten van één bepaalde proever en de chemische eigenschappen."
   ]
  },
  {
   "cell_type": "code",
   "execution_count": 45,
   "metadata": {},
   "outputs": [
    {
     "data": {
      "text/plain": [
       "points                  1.000000\n",
       "price                   0.546048\n",
       "fixed acidity           0.138279\n",
       "volatile acidity       -0.383031\n",
       "citric acid             0.185459\n",
       "residual sugar         -0.050267\n",
       "chlorides              -0.168952\n",
       "free sulfur dioxide    -0.083668\n",
       "total sulfur dioxide   -0.210830\n",
       "density                -0.047050\n",
       "pH                     -0.029064\n",
       "sulphates               0.215394\n",
       "alcohol                 0.486802\n",
       "Name: points, dtype: float64"
      ]
     },
     "execution_count": 45,
     "metadata": {},
     "output_type": "execute_result"
    }
   ],
   "source": [
    "df_red_wine[df_red_wine['taster_name'] == 'Roger Voss'].corr()['points']"
   ]
  },
  {
   "cell_type": "markdown",
   "metadata": {},
   "source": [
    "Zoals in de bovenstaande tabel te zien valt is er niet echt een groot verschil tussen de correlaties van één persoon en de correlaties van de gehele set van wijnproevers. desalniettemin hoeft dat niet te betekenen dat dit ook voor de rest van de wijnproevers het geval is. Wel valt er namelijk te zien dat de correlatie iets sterker is op sommige plekken.  \n",
    "  \n",
    "Om nog voor de zekerheid te checken of er geen sprake was van overfitting bij de eerste lineaire regressie hebben we ervoor gekozen om lineaire regressie nogmaals toe te passen. Echter zullen we deze keer de hoeveelheid features drastisch verlagen. Voor de keuze van de features hebben we gekozen om zowel naar de correlatie tabel als naar de coëfficienten tabel van het vorige regressiemodel te kijken. Hieruit hebben we de volgende features gekozen: 'citric acid', 'sulphates', 'alcohol', 'volatile acidity' en 'chlorides'.\n",
    "  \n",
    "Met behulp van deze features maken we nu opnieuw een lineair regressie model. Hierna zullen we dit model nogmaals testen om de effectiviteit te bepalen."
   ]
  },
  {
   "cell_type": "code",
   "execution_count": 46,
   "metadata": {},
   "outputs": [
    {
     "name": "stdout",
     "output_type": "stream",
     "text": [
      "mean_squared_error: 6.489334020060109\n",
      "Determinatiecoëfficient: 0.30086477765244024\n",
      "Algemene score (met afronding): 0.18152350081037277\n",
      "\n",
      "Gemiddelde afwijking: 2.018695258751502\n"
     ]
    }
   ],
   "source": [
    "# Create the linear regression object\n",
    "selected_features_regr_model = LinearRegression()\n",
    "\n",
    "# Select the features and target\n",
    "X = df_red_wine[['citric acid', 'sulphates', 'alcohol', 'volatile acidity', 'chlorides']]\n",
    "y = df_red_wine['points']\n",
    "\n",
    "# create a training and test set\n",
    "X_train, X_test, y_train, y_test = train_test_split(X, y, random_state=0)\n",
    "\n",
    "# Start the learning process\n",
    "selected_features_regr_model.fit(X_train, y_train)\n",
    "\n",
    "# Make predictions using the test set\n",
    "wine_regr_test_orig = selected_features_regr_model.predict(X_test)\n",
    "wine_regr_test_rounded = np.rint(np.floor(selected_features_regr_model.predict(X_test)))\n",
    "\n",
    "# Calculate the average deviation\n",
    "avg_dev = abs(wine_regr_test_orig - y_test).sum() / len(y_test)\n",
    "\n",
    "# Calculate the root mean squared error\n",
    "print(\"mean_squared_error: {0}\".format(mean_squared_error(y_test, wine_regr_test_orig)))\n",
    "print(\"Determinatiecoëfficient: {0}\".format(selected_features_regr_model.score(X_test, y_test)))\n",
    "print(\"Algemene score (met afronding): {0}\".format(accuracy_score(wine_regr_test_rounded, y_test)))\n",
    "\n",
    "print(\"\\nGemiddelde afwijking: {0}\".format(avg_dev))"
   ]
  },
  {
   "cell_type": "markdown",
   "metadata": {},
   "source": [
    "Wanneer we deze resultaten vergelijken met het eerdere regressie model zien we niet echt een verbetering. We kunnen dus stellen dat er geen sprake was van overfitting.  \n",
    "  \n",
    "Aangezien lineaire regressie niet echt een succes was zijn we naar andere algoritmen gaan het kijken die gebruik maken van supervised learning. KNN viel voor ons af, omdat dit model minder effectief is bij meerdere dimensies. Hierna kwamen we aan bij decision trees. Het voordeel van decision trees is dat er niet persé correlatie voor nodig is voor de werking van het model (al helpt het wel).  \n",
    "  \n",
    "Aangezien een decision tree gevoelig is voor overfitten hebben we ervoor gekozen om zowel een validatie als een test set te gebruiken. Hierdoor kunnen we het overfitten deels tegengaan.  \n",
    "Om erachter te komen bij welke maximale diepte de decision tree het effectiefst is testen we het model voor meerdere dieptes. Hieruit hopen we de beste $n$ te kunnen achterhalen voor het model."
   ]
  },
  {
   "cell_type": "code",
   "execution_count": 47,
   "metadata": {},
   "outputs": [
    {
     "name": "stdout",
     "output_type": "stream",
     "text": [
      "n: 1; accuracy validation: 0.20454545454545456; accuracy test: 0.18770226537216828\n",
      "n: 2; accuracy validation: 0.288961038961039; accuracy test: 0.27184466019417475\n",
      "n: 3; accuracy validation: 0.33766233766233766; accuracy test: 0.32362459546925565\n",
      "n: 4; accuracy validation: 0.33116883116883117; accuracy test: 0.3268608414239482\n",
      "n: 5; accuracy validation: 0.35064935064935066; accuracy test: 0.34627831715210355\n",
      "n: 6; accuracy validation: 0.3474025974025974; accuracy test: 0.35275080906148865\n",
      "n: 7; accuracy validation: 0.32792207792207795; accuracy test: 0.343042071197411\n",
      "n: 8; accuracy validation: 0.3181818181818182; accuracy test: 0.34627831715210355\n",
      "n: 9; accuracy validation: 0.3116883116883117; accuracy test: 0.32362459546925565\n",
      "n: 10; accuracy validation: 0.262987012987013; accuracy test: 0.313915857605178\n",
      "n: 11; accuracy validation: 0.24675324675324675; accuracy test: 0.2912621359223301\n",
      "n: 12; accuracy validation: 0.237012987012987; accuracy test: 0.2686084142394822\n"
     ]
    }
   ],
   "source": [
    "def tune_decision_tree(depth):\n",
    "    # Create the decision tree object\n",
    "    wine_decision_tree = DecisionTreeClassifier(max_depth=depth)\n",
    "\n",
    "    # Select the features and target\n",
    "    X = df_red_wine.loc[:,'fixed acidity':]\n",
    "    y = df_red_wine['points']\n",
    "\n",
    "    # Split the data into a train set and analysis set\n",
    "    X_train, X_analysis, y_train, y_analysis = train_test_split(X, y, random_state=0)\n",
    "\n",
    "    # Create a validation and test set\n",
    "    X_validate, X_test, y_validate, y_test = train_test_split(X_analysis, y_analysis, random_state=0, test_size=0.5)\n",
    "\n",
    "    # fit the data\n",
    "    wine_decision_tree.fit(X_train, y_train)\n",
    "\n",
    "    # validation accuracy score\n",
    "    val_score = wine_decision_tree.score(X_validate, y_validate)\n",
    "    \n",
    "    # test accuracy score\n",
    "    test_score = wine_decision_tree.score(X_test, y_test)\n",
    "    \n",
    "    return (wine_decision_tree, val_score, test_score)\n",
    "\n",
    "for x in range(1, 13):\n",
    "    tree_result = tune_decision_tree(x)\n",
    "    print(\"n: {0}; accuracy validation: {1}; accuracy test: {2}\".format(x, tree_result[1], tree_result[2]))"
   ]
  },
  {
   "cell_type": "markdown",
   "metadata": {},
   "source": [
    "Uit de bovenstaande resultaten valt te lezen dat dit model het meest accuraat is bij $n = 6$. Het model voorspelt daar voor 35% van de waarde de accurate score.  \n",
    "Aangezien we hier te maken hebben met een decision tree is het ook zeer interessant voor ons om te weten te komen welke feature de decision tree voornamelijk gebruikt om te discrimineren.  \n",
    "Om het model te visualiseren maken we gebruik van een library van sklearn. Uiteindelijk komt hier een gevisualiseerde decision tree uit."
   ]
  },
  {
   "cell_type": "code",
   "execution_count": 48,
   "metadata": {},
   "outputs": [
    {
     "ename": "FileNotFoundError",
     "evalue": "[WinError 2] The system cannot find the file specified",
     "output_type": "error",
     "traceback": [
      "\u001b[1;31m---------------------------------------------------------------------------\u001b[0m",
      "\u001b[1;31mFileNotFoundError\u001b[0m                         Traceback (most recent call last)",
      "\u001b[1;32m<ipython-input-48-4e8646910894>\u001b[0m in \u001b[0;36m<module>\u001b[1;34m\u001b[0m\n\u001b[0;32m     18\u001b[0m \u001b[1;31m# Convert to png using system command (requires Graphviz)\u001b[0m\u001b[1;33m\u001b[0m\u001b[1;33m\u001b[0m\u001b[1;33m\u001b[0m\u001b[0m\n\u001b[0;32m     19\u001b[0m \u001b[1;32mfrom\u001b[0m \u001b[0msubprocess\u001b[0m \u001b[1;32mimport\u001b[0m \u001b[0mcall\u001b[0m\u001b[1;33m\u001b[0m\u001b[1;33m\u001b[0m\u001b[0m\n\u001b[1;32m---> 20\u001b[1;33m \u001b[0mcall\u001b[0m\u001b[1;33m(\u001b[0m\u001b[1;33m[\u001b[0m\u001b[1;34m'dot'\u001b[0m\u001b[1;33m,\u001b[0m \u001b[1;34m'-Tpng'\u001b[0m\u001b[1;33m,\u001b[0m \u001b[1;34m'tree.dot'\u001b[0m\u001b[1;33m,\u001b[0m \u001b[1;34m'-o'\u001b[0m\u001b[1;33m,\u001b[0m \u001b[1;34m'tree.png'\u001b[0m\u001b[1;33m,\u001b[0m \u001b[1;34m'-Gdpi=600'\u001b[0m\u001b[1;33m]\u001b[0m\u001b[1;33m)\u001b[0m\u001b[1;33m\u001b[0m\u001b[1;33m\u001b[0m\u001b[0m\n\u001b[0m\u001b[0;32m     21\u001b[0m \u001b[1;33m\u001b[0m\u001b[0m\n\u001b[0;32m     22\u001b[0m \u001b[1;31m# Display in jupyter notebook\u001b[0m\u001b[1;33m\u001b[0m\u001b[1;33m\u001b[0m\u001b[1;33m\u001b[0m\u001b[0m\n",
      "\u001b[1;32mE:\\Anaconda\\lib\\subprocess.py\u001b[0m in \u001b[0;36mcall\u001b[1;34m(timeout, *popenargs, **kwargs)\u001b[0m\n\u001b[0;32m    321\u001b[0m     \u001b[0mretcode\u001b[0m \u001b[1;33m=\u001b[0m \u001b[0mcall\u001b[0m\u001b[1;33m(\u001b[0m\u001b[1;33m[\u001b[0m\u001b[1;34m\"ls\"\u001b[0m\u001b[1;33m,\u001b[0m \u001b[1;34m\"-l\"\u001b[0m\u001b[1;33m]\u001b[0m\u001b[1;33m)\u001b[0m\u001b[1;33m\u001b[0m\u001b[1;33m\u001b[0m\u001b[0m\n\u001b[0;32m    322\u001b[0m     \"\"\"\n\u001b[1;32m--> 323\u001b[1;33m     \u001b[1;32mwith\u001b[0m \u001b[0mPopen\u001b[0m\u001b[1;33m(\u001b[0m\u001b[1;33m*\u001b[0m\u001b[0mpopenargs\u001b[0m\u001b[1;33m,\u001b[0m \u001b[1;33m**\u001b[0m\u001b[0mkwargs\u001b[0m\u001b[1;33m)\u001b[0m \u001b[1;32mas\u001b[0m \u001b[0mp\u001b[0m\u001b[1;33m:\u001b[0m\u001b[1;33m\u001b[0m\u001b[1;33m\u001b[0m\u001b[0m\n\u001b[0m\u001b[0;32m    324\u001b[0m         \u001b[1;32mtry\u001b[0m\u001b[1;33m:\u001b[0m\u001b[1;33m\u001b[0m\u001b[1;33m\u001b[0m\u001b[0m\n\u001b[0;32m    325\u001b[0m             \u001b[1;32mreturn\u001b[0m \u001b[0mp\u001b[0m\u001b[1;33m.\u001b[0m\u001b[0mwait\u001b[0m\u001b[1;33m(\u001b[0m\u001b[0mtimeout\u001b[0m\u001b[1;33m=\u001b[0m\u001b[0mtimeout\u001b[0m\u001b[1;33m)\u001b[0m\u001b[1;33m\u001b[0m\u001b[1;33m\u001b[0m\u001b[0m\n",
      "\u001b[1;32mE:\\Anaconda\\lib\\subprocess.py\u001b[0m in \u001b[0;36m__init__\u001b[1;34m(self, args, bufsize, executable, stdin, stdout, stderr, preexec_fn, close_fds, shell, cwd, env, universal_newlines, startupinfo, creationflags, restore_signals, start_new_session, pass_fds, encoding, errors, text)\u001b[0m\n\u001b[0;32m    773\u001b[0m                                 \u001b[0mc2pread\u001b[0m\u001b[1;33m,\u001b[0m \u001b[0mc2pwrite\u001b[0m\u001b[1;33m,\u001b[0m\u001b[1;33m\u001b[0m\u001b[1;33m\u001b[0m\u001b[0m\n\u001b[0;32m    774\u001b[0m                                 \u001b[0merrread\u001b[0m\u001b[1;33m,\u001b[0m \u001b[0merrwrite\u001b[0m\u001b[1;33m,\u001b[0m\u001b[1;33m\u001b[0m\u001b[1;33m\u001b[0m\u001b[0m\n\u001b[1;32m--> 775\u001b[1;33m                                 restore_signals, start_new_session)\n\u001b[0m\u001b[0;32m    776\u001b[0m         \u001b[1;32mexcept\u001b[0m\u001b[1;33m:\u001b[0m\u001b[1;33m\u001b[0m\u001b[1;33m\u001b[0m\u001b[0m\n\u001b[0;32m    777\u001b[0m             \u001b[1;31m# Cleanup if the child failed starting.\u001b[0m\u001b[1;33m\u001b[0m\u001b[1;33m\u001b[0m\u001b[1;33m\u001b[0m\u001b[0m\n",
      "\u001b[1;32mE:\\Anaconda\\lib\\subprocess.py\u001b[0m in \u001b[0;36m_execute_child\u001b[1;34m(self, args, executable, preexec_fn, close_fds, pass_fds, cwd, env, startupinfo, creationflags, shell, p2cread, p2cwrite, c2pread, c2pwrite, errread, errwrite, unused_restore_signals, unused_start_new_session)\u001b[0m\n\u001b[0;32m   1176\u001b[0m                                          \u001b[0menv\u001b[0m\u001b[1;33m,\u001b[0m\u001b[1;33m\u001b[0m\u001b[1;33m\u001b[0m\u001b[0m\n\u001b[0;32m   1177\u001b[0m                                          \u001b[0mos\u001b[0m\u001b[1;33m.\u001b[0m\u001b[0mfspath\u001b[0m\u001b[1;33m(\u001b[0m\u001b[0mcwd\u001b[0m\u001b[1;33m)\u001b[0m \u001b[1;32mif\u001b[0m \u001b[0mcwd\u001b[0m \u001b[1;32mis\u001b[0m \u001b[1;32mnot\u001b[0m \u001b[1;32mNone\u001b[0m \u001b[1;32melse\u001b[0m \u001b[1;32mNone\u001b[0m\u001b[1;33m,\u001b[0m\u001b[1;33m\u001b[0m\u001b[1;33m\u001b[0m\u001b[0m\n\u001b[1;32m-> 1178\u001b[1;33m                                          startupinfo)\n\u001b[0m\u001b[0;32m   1179\u001b[0m             \u001b[1;32mfinally\u001b[0m\u001b[1;33m:\u001b[0m\u001b[1;33m\u001b[0m\u001b[1;33m\u001b[0m\u001b[0m\n\u001b[0;32m   1180\u001b[0m                 \u001b[1;31m# Child is launched. Close the parent's copy of those pipe\u001b[0m\u001b[1;33m\u001b[0m\u001b[1;33m\u001b[0m\u001b[1;33m\u001b[0m\u001b[0m\n",
      "\u001b[1;31mFileNotFoundError\u001b[0m: [WinError 2] The system cannot find the file specified"
     ]
    }
   ],
   "source": [
    "from sklearn.tree import export_graphviz\n",
    "\n",
    "# Building the tree\n",
    "decision_tree = tune_decision_tree(6)[0]\n",
    "\n",
    "# Selecting the feature and target names\n",
    "wine_feature_names = df_red_wine.loc[:,'fixed acidity':].columns\n",
    "wine_target_names = df_red_wine['points'].unique()\n",
    "wine_target_names\n",
    "\n",
    "# Export as dot file\n",
    "export_graphviz(decision_tree,\n",
    "                feature_names = wine_feature_names,\n",
    "                out_file='tree.dot',\n",
    "                rounded = True, proportion = False, \n",
    "                precision = 2, filled = True)\n",
    "\n",
    "# Convert to png using system command (requires Graphviz)\n",
    "from subprocess import call\n",
    "call(['dot', '-Tpng', 'tree.dot', '-o', 'tree.png', '-Gdpi=600'])\n",
    "\n",
    "# Display in jupyter notebook\n",
    "from IPython.display import Image\n",
    "Image(filename = 'tree.png')"
   ]
  },
  {
   "cell_type": "markdown",
   "metadata": {},
   "source": [
    "Uit de foto die gegenereerd is op basis van het model valt te lezen dat de score voornamelijk wordt voorspelt op basis van de discriminatie op alcohol."
   ]
  },
  {
   "cell_type": "markdown",
   "metadata": {},
   "source": [
    "### Conclusie\n",
    "Geen significante correlatie tussen de hoeveelheid punten die een bepaalde wijn heeft gekregen en de chemische kenmerken van de desbetreffende wijn. Hierdoor is het voorspellen door middel van lineaire regressie niet effectief wat ook blijkt uit de testen die we met dit algoritme hebben gedaan.  \n",
    "De voorspellingen vanuit een decision tree waren iets effectiever, maar 35% is geen overduidelijk bewijs dat er een correcte voorspelling plaatsvind.  \n",
    "Hiervoor hebben we de volgende redenen bedacht:  \n",
    "- Alle scores die aan een bepaalde wijn zijn gegeven zijn subjectief van aard, hierdoor kan er geen overduidelijke correlatie gevonden worden.\n",
    "- Of een wijn een hoge score zou krijgen zou kunnen liggen aan het feit dat misschien bepaalde kenmerken precies in een bepaalde hoeveelheid aanwezig moeten zijn. Minimale fluctuaties hierin zouden voor een grote verandering in de toegekende punten kunnen zorgen."
   ]
  },
  {
   "cell_type": "markdown",
   "metadata": {},
   "source": [
    "## onderzoeksvraag 2\n",
    "Hieronder zullen we proberen de volgende onderzoeksvraag uit te werken:  \n",
    "#### In hoeverre speelt de prijs een rol in de beoordeling van de wijn?"
   ]
  },
  {
   "cell_type": "code",
   "execution_count": null,
   "metadata": {},
   "outputs": [],
   "source": []
  },
  {
   "cell_type": "markdown",
   "metadata": {},
   "source": [
    "## onderzoeksvraag 3"
   ]
  },
  {
   "cell_type": "code",
   "execution_count": null,
   "metadata": {},
   "outputs": [],
   "source": []
  },
  {
   "cell_type": "markdown",
   "metadata": {},
   "source": [
    "## onderzoeksvraag 4"
   ]
  },
  {
   "cell_type": "markdown",
   "metadata": {},
   "source": [
    "Om de onderzoeksvraag: \"Welke kernwoorden zijn typerend voor een hoog scorende wijn?\" te kunnen beantwoorden zal er eerst data moeten worden aangepast.\n",
    "Als eerst is het nodig om de parameters van de wijnclassificatie te definieren, wanneer scoort een wijn immers hoog?\n",
    "Ten tweede moeten de kernwoorden uit de beschrijving gehaald worden en gescoord worden op basis van documentgewicht. \n",
    "\n",
    "Tot slot moeten de kernwoorden bekeken worden met de laagste idf score; dit zijn de meest relevante kernwoorden over het gehele document.\n",
    "### Wijn scores classificatie\n",
    "Doordat er in de dataset van witte wijn geen beschrijving aanwezig is, zal deze onderzoeksvraag zich beperken tot de dataset van rode wijn.\n",
    "\n",
    "Bij het classificeren van de wijn hebben we gekozen voor een threshold van één standaarddeviatie afstand van het gemiddelde: 92. Alle wijnen met een score van 92 of hoger worden geclassificeerd tot een 'hoog-scorende' wijn en gerepresenteerd als een 1. Alle andere wijnen met een score van lager dan 92 worden gerepresenteerd door een 0."
   ]
  },
  {
   "cell_type": "code",
   "execution_count": 53,
   "metadata": {},
   "outputs": [],
   "source": [
    "red_wine_binary = []\n",
    "for score in df_red_wine['points']:                      #creates a new list with binary values where 0 represents a\n",
    "    if score >= 92:                                      #wine-score that is below the threshold and 1 represents a\n",
    "        red_wine_binary.append(1)                        #wine-score that is above the threshold\n",
    "    else:\n",
    "        red_wine_binary.append(0)\n",
    "df_red_wine['binary_score'] = red_wine_binary\n"
   ]
  },
  {
   "cell_type": "markdown",
   "metadata": {},
   "source": [
    "### Kernwoorden verkrijgen en scoren \n",
    "Voor het verkrijgen van het documengewicht van ieder kernwoord wordt de Text Frequency - Inverse Document Frequency methode gebruikt. Deze methode maakt een dictionary aan met alle gebruikte kernwoorden en test daarna hoe belangrijk elk kernwoord is geweest voor het gehele document op basis van frequentie.\n",
    "Het is dus nodig om de X_train en X_test variabelen eerst te fitten en transformen met de TfidfVectorizer voordat er data analyse mee gedaan kan worden."
   ]
  },
  {
   "cell_type": "code",
   "execution_count": 54,
   "metadata": {},
   "outputs": [],
   "source": [
    "from sklearn.feature_extraction.text import TfidfVectorizer\n",
    "from sklearn.model_selection import train_test_split\n",
    "\n",
    "vectorizer = TfidfVectorizer(min_df=10, stop_words='english',use_idf=True) #initialise TfidfVectorizer object\n",
    "\n",
    "X_train, X_test, y_train, y_test = train_test_split(df_red_wine['description'], df_red_wine['binary_score'], random_state=0) #split data into train and test data\n",
    "X_train_tfidf = vectorizer.fit_transform(X_train) #Fit and transform training data\n",
    "X_test_tfidf = vectorizer.transform(X_test)       #Transform test data"
   ]
  },
  {
   "cell_type": "markdown",
   "metadata": {},
   "source": [
    "Omdat de Tfidf-waardes een dichotome uitkomstvariabele voorspellen wordt er gebruik gemaakt van een logistische regressie"
   ]
  },
  {
   "cell_type": "code",
   "execution_count": 60,
   "metadata": {},
   "outputs": [
    {
     "name": "stdout",
     "output_type": "stream",
     "text": [
      "Logistic Regression accuracy score: 83.63% \n",
      "\n",
      "Confusion Matrix:\n",
      "[[450  16]\n",
      " [ 85  66]]\n",
      "\n",
      "Classification Report:\n",
      "               precision    recall  f1-score   support\n",
      "\n",
      "           0       0.84      0.97      0.90       466\n",
      "           1       0.80      0.44      0.57       151\n",
      "\n",
      "    accuracy                           0.84       617\n",
      "   macro avg       0.82      0.70      0.73       617\n",
      "weighted avg       0.83      0.84      0.82       617\n",
      "\n"
     ]
    }
   ],
   "source": [
    "from sklearn.linear_model import LogisticRegression\n",
    "from sklearn.metrics import accuracy_score\n",
    "from sklearn.metrics import classification_report, confusion_matrix\n",
    "\n",
    "logReg = LogisticRegression(solver='newton-cg')\n",
    "logReg.fit(X_train_tfidf, y_train)\n",
    "y_pred = logReg.predict(X_test_tfidf)\n",
    "logReg_score = accuracy_score(y_test, y_pred) \n",
    "\n",
    "print(\"Logistic Regression accuracy score: {0:.2f}% \\n\".format(logReg_score*100))\n",
    "print(\"Confusion Matrix:\\n{}\\n\".format(confusion_matrix(y_test,y_pred)))  \n",
    "print(\"Classification Report:\\n {}\".format(classification_report(y_test,y_pred)))  "
   ]
  },
  {
   "cell_type": "markdown",
   "metadata": {},
   "source": [
    "### Interpretatie van de resultaten\n",
    "Bij de Logistische Regressie test en trainingset is een nauwkeurigheid behaald van 83,63%. Als we kijken naar de confusion matrix en precision/recall dan zien we opvallend veel meer False Negatives dan False Positives, dit komt doordat de classificatie van hoog-scorende wijnen percentueel laag is t.o.v. de overige wijnen. Er zullen dus percentueel ook minder False Positives zijn dan False Negatives. Uit de resultaten van de Logistische Regressie valt te concluderen dat in de beschrijving van de wijn, de frequentie van de aanwezigheid van belangrijke kernwoorden invloed heeft op de classificatie van hoog-scorende wijn. \n",
    "\n",
    "### Conclusie\n",
    "We hebben nu gekeken naar het verband tussen de Tfidf-waardes van de kernwoorden en binaire waardes van de wijnclassificatie. Volgens de logistische regressie is het, met een nauwkeurigheid van 83,63%, mogelijk om de wijnclassificatie te voorspellen op basis van de frequentie van de aanwezige kernwoorden.\n",
    "Nu we hebben vastgesteld dat er een verband bestaat tussen de variabelen moeten we nog bekijken welke kernwoorden het zijn die een hoge score typeren."
   ]
  },
  {
   "cell_type": "code",
   "execution_count": 59,
   "metadata": {},
   "outputs": [
    {
     "name": "stdout",
     "output_type": "stream",
     "text": [
      "['wine', 'tannins', 'fruits', 'acidity', 'drink']\n"
     ]
    }
   ],
   "source": [
    "def lowest_idf_vector(k):\n",
    "    vectorized_lowest_idf = []                                        \n",
    "    lowest_idf = np.sort(vectorizer.idf_.flatten())[:k]                  #creating list with 'k' lowest idf values\n",
    "    for i in range(len(lowest_idf)):                                     #extracting id-values for acessing dictionary\n",
    "        relevant_value = np.where(vectorizer.idf_ == lowest_idf[i])\n",
    "        vectorized_lowest_idf.append(relevant_value)\n",
    "    return vectorized_lowest_idf\n",
    "\n",
    "    \n",
    "def relevant_keyword_extract(vectorized_lowest_idf):\n",
    "    most_relevant_keywords = []                                                  \n",
    "    for key, value in vectorizer.vocabulary_.items():                    #extracting keywords from vectorizer.vocabulary dictionary\n",
    "        for i in range (len(vectorized_lowest_idf)):                     #if the value matches the previously acquired idf values\n",
    "            if value == vectorized_lowest_idf[i]:\n",
    "                most_relevant_keywords.append(key)\n",
    "    return most_relevant_keywords\n",
    "idf_vector = lowest_idf_vector(5)\n",
    "\n",
    "\n",
    "print(relevant_keyword_extract(idf_vector))"
   ]
  },
  {
   "cell_type": "markdown",
   "metadata": {},
   "source": [
    "De vijf kernwoorden die het meest typerend zijn voor een hoge score zijn dus 'wine', 'tannis', 'fruits', 'acidity' en 'drink'."
   ]
  },
  {
   "cell_type": "markdown",
   "metadata": {},
   "source": [
    "## Hypothesetoets  \n",
    "In het afgelopen jaar was het bijzonder zonnig in Portugal. De verbouwers van wijn vragen zich af of dit de zuurgraad (pH) van heeft beïnvloed, met andere woorden: of de wijnen uit het afgelopen jaar een andere pH hebben dan de wijnen uit andere jaren. Ze doen daarom een steekproef en meten de zuurgraad in enkele rode wijnen van afgelopen jaar. Daar komen de volgende meetwaarden uit:"
   ]
  },
  {
   "cell_type": "code",
   "execution_count": 49,
   "metadata": {},
   "outputs": [],
   "source": [
    "steekproef = np.array([3.41, 3.51, 3.39, 3.11, 3.21, 3.50, 3.46, 3.37, 3.71])"
   ]
  },
  {
   "cell_type": "markdown",
   "metadata": {},
   "source": [
    "De onderzoeksvraag is: Hebben deze wijnen een significant andere zuurgraad dan gemiddeld?  \n",
    "Om zometeen een conclusie te kunnen trekken moeten we eerst de hypotheses opstellen:  \n",
    "- H0: Er is niet een verschil tussen de gemiddeldes van de wijnen uit de steekproef en de wijnen uit de totale populatie.\n",
    "- H1: Er is een verschil tussen de gemiddeldes van de wijnen uit de steekproef en de wijnen uit de totale populatie.  \n",
    "  \n",
    "Er is sprake van een tweezijdige toets."
   ]
  },
  {
   "cell_type": "markdown",
   "metadata": {},
   "source": [
    "Allereerst berekenen we wat statistieken van zowel de gehele populatie als de steekproef."
   ]
  },
  {
   "cell_type": "code",
   "execution_count": 50,
   "metadata": {},
   "outputs": [
    {
     "name": "stdout",
     "output_type": "stream",
     "text": [
      "Gemiddelde populatie: 3.311200811359032\n",
      "Standaarddeviatie populatie: 0.15392727558224514\n",
      "\n",
      "Grootte steekproef: 9\n",
      "Gemiddelde steekproef: 3.407777777777778\n"
     ]
    }
   ],
   "source": [
    "# gemiddelde populatie\n",
    "mu = df_red_wine['pH'].mean()\n",
    "# standaarddeviatie populatie\n",
    "sigma = float(df_red_wine['pH'].std())\n",
    "\n",
    "# grootte steekproef\n",
    "n_sp = len(steekproef)\n",
    "# gemiddelde steekproef\n",
    "mean_sp = steekproef.mean()\n",
    "\n",
    "print(\"Gemiddelde populatie: {0}\\nStandaarddeviatie populatie: {1}\".format(mu, sigma))\n",
    "print(\"\\nGrootte steekproef: {0}\\nGemiddelde steekproef: {1}\".format(n_sp, mean_sp))"
   ]
  },
  {
   "cell_type": "markdown",
   "metadata": {},
   "source": [
    "Hierna bepalen we de foutmarge  \n",
    "Gegeven: $\\alpha = 0.05$"
   ]
  },
  {
   "cell_type": "code",
   "execution_count": 51,
   "metadata": {},
   "outputs": [],
   "source": [
    "alpha = 0.025\n",
    "\n",
    "# Calculate the z-grens\n",
    "neg_z_grens = stats.norm.ppf(alpha)\n",
    "pos_z_grens = stats.norm.ppf(1 - alpha)"
   ]
  },
  {
   "cell_type": "markdown",
   "metadata": {},
   "source": [
    "Nu willen we de grenswaarde van het kritieke gebied berekenen. Aangezien er te maken is met een tweezijdige toets hebben we nu twee grenswaardes nodig.\n",
    "Dit doen we met behulp van de volgende formule:  \n",
    "$gr = \\mu + \\frac{z \\cdot \\sigma}{\\sqrt{n}}$"
   ]
  },
  {
   "cell_type": "code",
   "execution_count": 52,
   "metadata": {},
   "outputs": [
    {
     "name": "stdout",
     "output_type": "stream",
     "text": [
      "Positieve grenswaarde: 3.411764783485556\n",
      "Negatieve grenswaarde: 3.210636839232508\n"
     ]
    }
   ],
   "source": [
    "pos_grens = mu + ((pos_z_grens * sigma) / n_sp**0.5)\n",
    "neg_grens = mu + ((neg_z_grens * sigma) / n_sp**0.5)\n",
    "\n",
    "print(\"Positieve grenswaarde: {0}\\nNegatieve grenswaarde: {1}\".format(pos_grens, neg_grens))"
   ]
  },
  {
   "cell_type": "markdown",
   "metadata": {},
   "source": [
    "Het kritieke gebied is $x < 3.211$ en $x > 3.412$. Het gemiddelde van de steekproef is $3.408$ dus de waarde ligt niet in het kritieke gebied dus we hebben niet genoeg bewijs om de nulhypothese te kunnen verwerpen. Ofwel deze wijnen hebben niet een andere significante zuurgraad dan gemiddeld."
   ]
  },
  {
   "cell_type": "code",
   "execution_count": null,
   "metadata": {},
   "outputs": [],
   "source": []
  },
  {
   "cell_type": "code",
   "execution_count": null,
   "metadata": {},
   "outputs": [],
   "source": []
  },
  {
   "cell_type": "code",
   "execution_count": null,
   "metadata": {},
   "outputs": [],
   "source": []
  },
  {
   "cell_type": "code",
   "execution_count": null,
   "metadata": {},
   "outputs": [],
   "source": []
  },
  {
   "cell_type": "code",
   "execution_count": null,
   "metadata": {},
   "outputs": [],
   "source": []
  },
  {
   "cell_type": "code",
   "execution_count": null,
   "metadata": {},
   "outputs": [],
   "source": []
  },
  {
   "cell_type": "code",
   "execution_count": null,
   "metadata": {},
   "outputs": [],
   "source": []
  }
 ],
 "metadata": {
  "kernelspec": {
   "display_name": "Python 3",
   "language": "python",
   "name": "python3"
  }
 },
 "nbformat": 4,
 "nbformat_minor": 1
}
